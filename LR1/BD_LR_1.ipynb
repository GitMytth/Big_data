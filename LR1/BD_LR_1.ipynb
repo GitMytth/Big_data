{
  "nbformat": 4,
  "nbformat_minor": 0,
  "metadata": {
    "colab": {
      "provenance": []
    },
    "kernelspec": {
      "name": "python3",
      "display_name": "Python 3"
    },
    "language_info": {
      "name": "python"
    }
  },
  "cells": [
    {
      "cell_type": "code",
      "execution_count": 53,
      "metadata": {
        "colab": {
          "base_uri": "https://localhost:8080/"
        },
        "id": "bJW0cECQEaz2",
        "outputId": "f295c11b-c9a7-4ec0-ccab-e8adce2244e0"
      },
      "outputs": [
        {
          "output_type": "stream",
          "name": "stdout",
          "text": [
            "Requirement already satisfied: pyspark==3.0.0 in /usr/local/lib/python3.10/dist-packages (3.0.0)\n",
            "Requirement already satisfied: py4j==0.10.9 in /usr/local/lib/python3.10/dist-packages (from pyspark==3.0.0) (0.10.9)\n"
          ]
        }
      ],
      "source": [
        "!pip3 install pyspark==3.0.0"
      ]
    },
    {
      "cell_type": "code",
      "source": [
        "from pyspark import SparkContext, SparkConf\n",
        "app_name = \"LR 1\"\n",
        "conf = SparkConf().setAppName(app_name).setMaster('local[1]')\n",
        "\n",
        "try:\n",
        "    sc = SparkContext()\n",
        "except ValueError:\n",
        "    sc = SparkContext.getOrCreate()\n",
        "\n",
        "if sc:\n",
        "    sc.stop()\n",
        "\n",
        "sc = SparkContext(conf=conf)\n",
        "sc"
      ],
      "metadata": {
        "id": "L1IL1xTriRKb",
        "colab": {
          "base_uri": "https://localhost:8080/",
          "height": 196
        },
        "outputId": "cef5e0aa-0d9d-486b-9458-a321f1ab130c"
      },
      "execution_count": 55,
      "outputs": [
        {
          "output_type": "execute_result",
          "data": {
            "text/plain": [
              "<SparkContext master=local[1] appName=LR 1>"
            ],
            "text/html": [
              "\n",
              "        <div>\n",
              "            <p><b>SparkContext</b></p>\n",
              "\n",
              "            <p><a href=\"http://dc61f7dbfb86:4040\">Spark UI</a></p>\n",
              "\n",
              "            <dl>\n",
              "              <dt>Version</dt>\n",
              "                <dd><code>v3.0.0</code></dd>\n",
              "              <dt>Master</dt>\n",
              "                <dd><code>local[1]</code></dd>\n",
              "              <dt>AppName</dt>\n",
              "                <dd><code>LR 1</code></dd>\n",
              "            </dl>\n",
              "        </div>\n",
              "        "
            ]
          },
          "metadata": {},
          "execution_count": 55
        }
      ]
    },
    {
      "cell_type": "code",
      "source": [
        "from typing import NamedTuple\n",
        "from datetime import datetime\n",
        "from functools import reduce"
      ],
      "metadata": {
        "id": "l2Opn0BGiYZR"
      },
      "execution_count": null,
      "outputs": []
    },
    {
      "cell_type": "code",
      "source": [
        "def initStation(stations):\n",
        "    class Station(NamedTuple):\n",
        "        station_id: int\n",
        "        name: str\n",
        "        lat: float\n",
        "        long: float\n",
        "        dockcount: int\n",
        "        landmark: str\n",
        "        installation: str\n",
        "\n",
        "    for station in stations:\n",
        "        yield Station(\n",
        "            station_id = int(station[0]),\n",
        "            name = station[1],\n",
        "            lat = float(station[2]),\n",
        "            long = float(station[3]),\n",
        "            dockcount = int(station[4]),\n",
        "            landmark = station[5],\n",
        "            installation = datetime.strptime(station[6], '%m/%d/%Y')\n",
        "        )\n",
        "\n",
        "def initTrip(trips):\n",
        "    class Trip(NamedTuple):\n",
        "        trip_id: int\n",
        "        duration: int\n",
        "        start_date: datetime\n",
        "        start_station_name: str\n",
        "        start_station_id: int\n",
        "        end_date: datetime\n",
        "        end_station_name: str\n",
        "        end_station_id: int\n",
        "        bike_id: int\n",
        "        subscription_type: str\n",
        "        zip_code: str\n",
        "\n",
        "    for trip in trips:\n",
        "        try:\n",
        "            yield Trip(\n",
        "             trip_id = int(trip[0]),\n",
        "             duration = int(trip[1]),\n",
        "             start_date = datetime.strptime(trip[2], '%m/%d/%Y %H:%M'),\n",
        "             start_station_name = trip[3],\n",
        "             start_station_id = int(trip[4]),\n",
        "             end_date = datetime.strptime(trip[5], '%m/%d/%Y %H:%M'),\n",
        "             end_station_name = trip[6],\n",
        "             end_station_id = trip[7],\n",
        "             bike_id = int(trip[8]),\n",
        "             subscription_type = trip[9],\n",
        "             zip_code = trip[10]\n",
        "            )\n",
        "        except:\n",
        "            pass"
      ],
      "metadata": {
        "id": "czUwz1qKiYhg"
      },
      "execution_count": null,
      "outputs": []
    },
    {
      "cell_type": "code",
      "source": [
        "trip_data = sc.textFile(\"trip.csv\")\n",
        "station_data = sc.textFile(\"station.csv\")"
      ],
      "metadata": {
        "id": "iRJryaLdihnQ"
      },
      "execution_count": null,
      "outputs": []
    },
    {
      "cell_type": "code",
      "source": [
        "trip_data.first()"
      ],
      "metadata": {
        "colab": {
          "base_uri": "https://localhost:8080/",
          "height": 36
        },
        "id": "c7RoDhcjihuh",
        "outputId": "1ef272e2-73a7-4e24-e09d-325978fcd3ef"
      },
      "execution_count": null,
      "outputs": [
        {
          "output_type": "execute_result",
          "data": {
            "text/plain": [
              "'id,duration,start_date,start_station_name,start_station_id,end_date,end_station_name,end_station_id,bike_id,subscription_type,zip_code'"
            ],
            "application/vnd.google.colaboratory.intrinsic+json": {
              "type": "string"
            }
          },
          "metadata": {},
          "execution_count": 32
        }
      ]
    },
    {
      "cell_type": "code",
      "source": [
        "def get_data_without_headers(data):\n",
        "    headers = data.first()\n",
        "    table_data = data.filter(lambda row: row != headers).map(lambda row: row.split(\",\"))\n",
        "    return table_data\n",
        "\n",
        "trips = get_data_without_headers(trip_data)\n",
        "stations = get_data_without_headers(station_data)"
      ],
      "metadata": {
        "id": "FWy6rMaIihzN"
      },
      "execution_count": null,
      "outputs": []
    },
    {
      "cell_type": "code",
      "source": [
        "trips.take(3)"
      ],
      "metadata": {
        "colab": {
          "base_uri": "https://localhost:8080/"
        },
        "id": "VKRD3wRjjGE6",
        "outputId": "4357abfd-60e2-49ab-874e-7fc4d36f003a"
      },
      "execution_count": null,
      "outputs": [
        {
          "output_type": "execute_result",
          "data": {
            "text/plain": [
              "[['4576',\n",
              "  '63',\n",
              "  '8/29/2013 14:13',\n",
              "  'South Van Ness at Market',\n",
              "  '66',\n",
              "  '8/29/2013 14:14',\n",
              "  'South Van Ness at Market',\n",
              "  '66',\n",
              "  '520',\n",
              "  'Subscriber',\n",
              "  '94127'],\n",
              " ['4607',\n",
              "  '70',\n",
              "  '8/29/2013 14:42',\n",
              "  'San Jose City Hall',\n",
              "  '10',\n",
              "  '8/29/2013 14:43',\n",
              "  'San Jose City Hall',\n",
              "  '10',\n",
              "  '661',\n",
              "  'Subscriber',\n",
              "  '95138'],\n",
              " ['4130',\n",
              "  '71',\n",
              "  '8/29/2013 10:16',\n",
              "  'Mountain View City Hall',\n",
              "  '27',\n",
              "  '8/29/2013 10:17',\n",
              "  'Mountain View City Hall',\n",
              "  '27',\n",
              "  '48',\n",
              "  'Subscriber',\n",
              "  '97214']]"
            ]
          },
          "metadata": {},
          "execution_count": 34
        }
      ]
    },
    {
      "cell_type": "code",
      "source": [
        "stations_mapped = stations.mapPartitions(initStation)\n",
        "stations_mapped.first()"
      ],
      "metadata": {
        "colab": {
          "base_uri": "https://localhost:8080/"
        },
        "id": "4Nl_9LG1jGMf",
        "outputId": "2430adc3-1c51-4c2b-a192-5bf7318ce0b1"
      },
      "execution_count": null,
      "outputs": [
        {
          "output_type": "execute_result",
          "data": {
            "text/plain": [
              "Station(station_id=2, name='San Jose Diridon Caltrain Station', lat=37.329732, long=-121.90178200000001, dockcount=27, landmark='San Jose', installation=datetime.datetime(2013, 8, 6, 0, 0))"
            ]
          },
          "metadata": {},
          "execution_count": 35
        }
      ]
    },
    {
      "cell_type": "code",
      "source": [
        "trips_mapped= trips.mapPartitions(initTrip)\n",
        "trips_mapped.first()"
      ],
      "metadata": {
        "colab": {
          "base_uri": "https://localhost:8080/"
        },
        "id": "N_S8kqamjGRw",
        "outputId": "ed620721-93a9-4f04-b89b-035b8391bb6f"
      },
      "execution_count": null,
      "outputs": [
        {
          "output_type": "execute_result",
          "data": {
            "text/plain": [
              "Trip(trip_id=4576, duration=63, start_date=datetime.datetime(2013, 8, 29, 14, 13), start_station_name='South Van Ness at Market', start_station_id=66, end_date=datetime.datetime(2013, 8, 29, 14, 14), end_station_name='South Van Ness at Market', end_station_id='66', bike_id=520, subscription_type='Subscriber', zip_code='94127')"
            ]
          },
          "metadata": {},
          "execution_count": 36
        }
      ]
    },
    {
      "cell_type": "markdown",
      "source": [
        "**1. Найти велосипед с максимальным временем пробега.**"
      ],
      "metadata": {
        "id": "E5sBMqCyjbTy"
      }
    },
    {
      "cell_type": "code",
      "source": [
        "bike_max_mileage = trips_mapped.keyBy(lambda x: x.bike_id)\n",
        "bike_duration = bike_max_mileage.mapValues(lambda x: x.duration).reduceByKey(lambda x1, x2: x1 + x2)\n",
        "bike_duration_top = bike_duration.top(1, key=lambda x: x[1])[0][0]\n",
        "bike_duration_top"
      ],
      "metadata": {
        "colab": {
          "base_uri": "https://localhost:8080/"
        },
        "id": "sBsWAmPDjGbw",
        "outputId": "b4c94166-8b83-4a11-f6d5-e707bcbb150c"
      },
      "execution_count": null,
      "outputs": [
        {
          "output_type": "execute_result",
          "data": {
            "text/plain": [
              "535"
            ]
          },
          "metadata": {},
          "execution_count": 37
        }
      ]
    },
    {
      "cell_type": "markdown",
      "source": [
        "**2. Найти наибольшее геодезическое расстояние между станциями.**"
      ],
      "metadata": {
        "id": "5kNUkn0Ajx3R"
      }
    },
    {
      "cell_type": "code",
      "source": [
        "trips_mapped.first()"
      ],
      "metadata": {
        "colab": {
          "base_uri": "https://localhost:8080/"
        },
        "id": "4KsFe8tHjwtp",
        "outputId": "30d31099-dae7-4417-cd2f-5b45a1cfe063"
      },
      "execution_count": null,
      "outputs": [
        {
          "output_type": "execute_result",
          "data": {
            "text/plain": [
              "Trip(trip_id=4576, duration=63, start_date=datetime.datetime(2013, 8, 29, 14, 13), start_station_name='South Van Ness at Market', start_station_id=66, end_date=datetime.datetime(2013, 8, 29, 14, 14), end_station_name='South Van Ness at Market', end_station_id='66', bike_id=520, subscription_type='Subscriber', zip_code='94127')"
            ]
          },
          "metadata": {},
          "execution_count": 38
        }
      ]
    },
    {
      "cell_type": "code",
      "source": [
        "trips_stations = trips_mapped.filter(lambda trip: str(trip.start_station_id) != str(trip.end_station_id))\\\n",
        "                             .keyBy(lambda trip: (trip.start_station_id, trip.end_station_id))\\\n",
        "                             .mapValues(lambda trip: trip.duration)\n",
        "trips_stations.take(5)"
      ],
      "metadata": {
        "colab": {
          "base_uri": "https://localhost:8080/"
        },
        "id": "q_NQA6l_j4i4",
        "outputId": "9596bb07-c4fa-41da-e576-e7e409336fc3"
      },
      "execution_count": null,
      "outputs": [
        {
          "output_type": "execute_result",
          "data": {
            "text/plain": [
              "[((66, '67'), 83),\n",
              " ((4, '5'), 109),\n",
              " ((10, '11'), 114),\n",
              " ((49, '54'), 125),\n",
              " ((6, '4'), 126)]"
            ]
          },
          "metadata": {},
          "execution_count": 39
        }
      ]
    },
    {
      "cell_type": "code",
      "source": [
        "query = trips_stations\\\n",
        "    .aggregateByKey(\n",
        "        (0.0, 0.0),\n",
        "        lambda acc, value: (acc[0] + value, acc[1] + 1),\n",
        "        lambda acc1, acc2: (acc1[0] + acc2[0], acc1[1] + acc2[1]),)\\\n",
        "    .mapValues(lambda values: values[0] / values[1])"
      ],
      "metadata": {
        "id": "kSP92jY-j7QY"
      },
      "execution_count": null,
      "outputs": []
    },
    {
      "cell_type": "code",
      "source": [
        "query.map(lambda x: x[::-1]).top(5)"
      ],
      "metadata": {
        "colab": {
          "base_uri": "https://localhost:8080/"
        },
        "id": "7gLwvVJ_kHZ6",
        "outputId": "2631b56c-35dc-48e0-933b-dd55c73b3574"
      },
      "execution_count": null,
      "outputs": [
        {
          "output_type": "execute_result",
          "data": {
            "text/plain": [
              "[(229914.0, (26, '16')),\n",
              " (179212.5, (32, '63')),\n",
              " (169308.0, (80, '36')),\n",
              " (156461.03603603604, (66, '62')),\n",
              " (101207.5, (28, '2'))]"
            ]
          },
          "metadata": {},
          "execution_count": 41
        }
      ]
    },
    {
      "cell_type": "markdown",
      "source": [
        "**3. Найти путь велосипеда с максимальным временем пробега через станции.**"
      ],
      "metadata": {
        "id": "Mm5AC8Bqjw_x"
      }
    },
    {
      "cell_type": "code",
      "source": [
        "bike_path = trips_mapped.filter(lambda x: x.bike_id == bike_duration_top)\\\n",
        "                        .sortBy(lambda x: x.start_date)\\\n",
        "                        .map(lambda x: (x.start_station_name, x.end_station_name))\n",
        "\n",
        "bike_path.first()"
      ],
      "metadata": {
        "colab": {
          "base_uri": "https://localhost:8080/"
        },
        "id": "RGX4wX_tkQNr",
        "outputId": "d7c846ad-0486-41cb-f607-4d21c05650f0"
      },
      "execution_count": null,
      "outputs": [
        {
          "output_type": "execute_result",
          "data": {
            "text/plain": [
              "('Post at Kearney', 'San Francisco Caltrain (Townsend at 4th)')"
            ]
          },
          "metadata": {},
          "execution_count": 42
        }
      ]
    },
    {
      "cell_type": "markdown",
      "source": [
        "**4. Найти количество велосипедов в системе.**"
      ],
      "metadata": {
        "id": "0uZ5_q_YkVpJ"
      }
    },
    {
      "cell_type": "code",
      "source": [
        "count_bikes = trips_mapped.map(lambda x: x.bike_id).distinct().count()\n",
        "count_bikes"
      ],
      "metadata": {
        "colab": {
          "base_uri": "https://localhost:8080/"
        },
        "id": "7gNxHn0ukQW3",
        "outputId": "024b5961-5b38-4976-cc63-7d300c96c73a"
      },
      "execution_count": null,
      "outputs": [
        {
          "output_type": "execute_result",
          "data": {
            "text/plain": [
              "700"
            ]
          },
          "metadata": {},
          "execution_count": 43
        }
      ]
    },
    {
      "cell_type": "markdown",
      "source": [
        "**5. Найти пользователей потративших на поездки более 3 часов.**"
      ],
      "metadata": {
        "id": "nfisF40KkghR"
      }
    },
    {
      "cell_type": "code",
      "source": [
        "users = trips_mapped.filter(lambda x: x.duration > (3 * 60 * 60))\\\n",
        "                    .map(lambda x: x.zip_code)\\\n",
        "                    .filter(lambda x: x != \"\")\\\n",
        "                    .distinct()\n",
        "users.take(10)"
      ],
      "metadata": {
        "colab": {
          "base_uri": "https://localhost:8080/"
        },
        "id": "whEp1pbFkiDx",
        "outputId": "9704c3e1-52c5-4eb1-d969-c72f364b2206"
      },
      "execution_count": null,
      "outputs": [
        {
          "output_type": "execute_result",
          "data": {
            "text/plain": [
              "['58553',\n",
              " '94301',\n",
              " '94039',\n",
              " '94133',\n",
              " '93726',\n",
              " '94123',\n",
              " '4517',\n",
              " '29200',\n",
              " '45322',\n",
              " '94080']"
            ]
          },
          "metadata": {},
          "execution_count": 44
        }
      ]
    },
    {
      "cell_type": "code",
      "source": [],
      "metadata": {
        "id": "Y5l8g36YkiV3"
      },
      "execution_count": null,
      "outputs": []
    },
    {
      "cell_type": "code",
      "source": [],
      "metadata": {
        "id": "ZHCJgfGokieA"
      },
      "execution_count": null,
      "outputs": []
    }
  ]
}