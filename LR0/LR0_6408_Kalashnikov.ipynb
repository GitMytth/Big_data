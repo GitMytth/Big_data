{
 "cells": [
  {
   "cell_type": "markdown",
   "metadata": {
    "id": "82OvPKEiEqjc"
   },
   "source": [
    "# Введение в MapReduce модель на Python\n"
   ]
  },
  {
   "cell_type": "code",
   "execution_count": 1,
   "metadata": {
    "id": "JQ2cvXLjICmI"
   },
   "outputs": [],
   "source": [
    "from typing import NamedTuple # requires python 3.6+\n",
    "from typing import Iterator\n",
    "import random"
   ]
  },
  {
   "cell_type": "code",
   "execution_count": 2,
   "metadata": {
    "id": "yjPHumVwEyEg"
   },
   "outputs": [],
   "source": [
    "def MAP(_, row:NamedTuple):\n",
    "  if (row.gender == 'female'):\n",
    "    yield (row.age, row)\n",
    "\n",
    "def REDUCE(age:str, rows:Iterator[NamedTuple]):\n",
    "  sum = 0\n",
    "  count = 0\n",
    "  for row in rows:\n",
    "    sum += row.social_contacts\n",
    "    count += 1\n",
    "  if (count > 0):\n",
    "    yield (age, sum/count)\n",
    "  else:\n",
    "    yield (age, 0)"
   ]
  },
  {
   "cell_type": "markdown",
   "metadata": {
    "id": "vBKMgpG_ilaZ"
   },
   "source": [
    "Модель элемента данных"
   ]
  },
  {
   "cell_type": "code",
   "execution_count": 3,
   "metadata": {
    "id": "Rv-XIjhTJPx3"
   },
   "outputs": [],
   "source": [
    "class User(NamedTuple):\n",
    "  id: int\n",
    "  age: str\n",
    "  social_contacts: int\n",
    "  gender: str"
   ]
  },
  {
   "cell_type": "code",
   "execution_count": 4,
   "metadata": {
    "id": "5KV0Ze2vQgu5"
   },
   "outputs": [],
   "source": [
    "input_collection = [\n",
    "    User(id=0, age=55, gender='male', social_contacts=20),\n",
    "    User(id=1, age=25, gender='female', social_contacts=240),\n",
    "    User(id=2, age=25, gender='female', social_contacts=500),\n",
    "    User(id=3, age=33, gender='female', social_contacts=800)\n",
    "]"
   ]
  },
  {
   "cell_type": "markdown",
   "metadata": {
    "id": "YFeqzyZxZIFZ"
   },
   "source": [
    "Функция RECORDREADER моделирует чтение элементов с диска или по сети."
   ]
  },
  {
   "cell_type": "code",
   "execution_count": 5,
   "metadata": {
    "id": "S5HR4E_GQoMJ"
   },
   "outputs": [],
   "source": [
    "def RECORDREADER():\n",
    "  return [(u.id, u) for u in input_collection]"
   ]
  },
  {
   "cell_type": "code",
   "execution_count": 6,
   "metadata": {
    "colab": {
     "base_uri": "https://localhost:8080/"
    },
    "id": "NeEoWla-ROUy",
    "outputId": "ff61b5b7-c88b-4917-ccbc-dc7045432a01"
   },
   "outputs": [
    {
     "data": {
      "text/plain": [
       "[(0, User(id=0, age=55, social_contacts=20, gender='male')),\n",
       " (1, User(id=1, age=25, social_contacts=240, gender='female')),\n",
       " (2, User(id=2, age=25, social_contacts=500, gender='female')),\n",
       " (3, User(id=3, age=33, social_contacts=800, gender='female'))]"
      ]
     },
     "execution_count": 6,
     "metadata": {},
     "output_type": "execute_result"
    }
   ],
   "source": [
    "list(RECORDREADER())"
   ]
  },
  {
   "cell_type": "code",
   "execution_count": 7,
   "metadata": {
    "id": "YB8orgPSZs8M"
   },
   "outputs": [],
   "source": [
    "def flatten(nested_iterable):\n",
    "  for iterable in nested_iterable:\n",
    "    for element in iterable:\n",
    "      yield element"
   ]
  },
  {
   "cell_type": "code",
   "execution_count": 8,
   "metadata": {
    "colab": {
     "base_uri": "https://localhost:8080/",
     "height": 68
    },
    "id": "74oyvDLaRmd5",
    "outputId": "c6147702-7153-47c7-a574-d5fe6abe29a8"
   },
   "outputs": [
    {
     "data": {
      "text/plain": [
       "[(25, User(id=1, age=25, social_contacts=240, gender='female')),\n",
       " (25, User(id=2, age=25, social_contacts=500, gender='female')),\n",
       " (33, User(id=3, age=33, social_contacts=800, gender='female'))]"
      ]
     },
     "execution_count": 8,
     "metadata": {},
     "output_type": "execute_result"
    }
   ],
   "source": [
    "map_output = flatten(map(lambda x: MAP(*x), RECORDREADER()))\n",
    "map_output = list(map_output)\n",
    "map_output"
   ]
  },
  {
   "cell_type": "code",
   "execution_count": 9,
   "metadata": {
    "id": "8ncYDJ3-VzDn"
   },
   "outputs": [],
   "source": [
    "def groupbykey(iterable):\n",
    "  t = {}\n",
    "  for (k2, v2) in iterable:\n",
    "    t[k2] = t.get(k2, []) + [v2]\n",
    "  return t.items()"
   ]
  },
  {
   "cell_type": "code",
   "execution_count": 10,
   "metadata": {
    "colab": {
     "base_uri": "https://localhost:8080/",
     "height": 85
    },
    "id": "cKzY_6COWOA2",
    "outputId": "e6791b12-e409-47e9-bcd4-e9f8ca8611bd"
   },
   "outputs": [
    {
     "data": {
      "text/plain": [
       "[(25,\n",
       "  [User(id=1, age=25, social_contacts=240, gender='female'),\n",
       "   User(id=2, age=25, social_contacts=500, gender='female')]),\n",
       " (33, [User(id=3, age=33, social_contacts=800, gender='female')])]"
      ]
     },
     "execution_count": 10,
     "metadata": {},
     "output_type": "execute_result"
    }
   ],
   "source": [
    "shuffle_output = groupbykey(map_output)\n",
    "shuffle_output = list(shuffle_output)\n",
    "shuffle_output"
   ]
  },
  {
   "cell_type": "code",
   "execution_count": 11,
   "metadata": {
    "colab": {
     "base_uri": "https://localhost:8080/",
     "height": 34
    },
    "id": "NlA7lkDDYL0t",
    "outputId": "6b25d03f-5c92-4f3b-f500-6d70acd598b7"
   },
   "outputs": [
    {
     "data": {
      "text/plain": [
       "[(25, 370.0), (33, 800.0)]"
      ]
     },
     "execution_count": 11,
     "metadata": {},
     "output_type": "execute_result"
    }
   ],
   "source": [
    "reduce_output = flatten(map(lambda x: REDUCE(*x), shuffle_output))\n",
    "reduce_output = list(reduce_output)\n",
    "reduce_output"
   ]
  },
  {
   "cell_type": "markdown",
   "metadata": {
    "id": "xf6qhHEtd6bI"
   },
   "source": [
    "Все действия одним конвейером!"
   ]
  },
  {
   "cell_type": "code",
   "execution_count": 12,
   "metadata": {
    "colab": {
     "base_uri": "https://localhost:8080/",
     "height": 34
    },
    "id": "dZaQGYxCdpw5",
    "outputId": "3f5c6425-e5c5-49d2-b2cd-ce58a9acc33c"
   },
   "outputs": [
    {
     "data": {
      "text/plain": [
       "[(25, 370.0), (33, 800.0)]"
      ]
     },
     "execution_count": 12,
     "metadata": {},
     "output_type": "execute_result"
    }
   ],
   "source": [
    "list(flatten(map(lambda x: REDUCE(*x), groupbykey(flatten(map(lambda x: MAP(*x), RECORDREADER()))))))"
   ]
  },
  {
   "cell_type": "markdown",
   "metadata": {
    "id": "Vq3EWRIpwSiJ"
   },
   "source": [
    "# **MapReduce**\n",
    "Выделим общую для всех пользователей часть системы в отдельную функцию высшего порядка. Это наиболее простая модель MapReduce, без учёта распределённого хранения данных.\n",
    "\n",
    "Пользователь для решения своей задачи реализует RECORDREADER, MAP, REDUCE."
   ]
  },
  {
   "cell_type": "code",
   "execution_count": 13,
   "metadata": {
    "id": "V1PZeQMwwVjc"
   },
   "outputs": [],
   "source": [
    "def flatten(nested_iterable):\n",
    "  for iterable in nested_iterable:\n",
    "    for element in iterable:\n",
    "      yield element\n",
    "\n",
    "def groupbykey(iterable):\n",
    "  t = {}\n",
    "  for (k2, v2) in iterable:\n",
    "    t[k2] = t.get(k2, []) + [v2]\n",
    "  return t.items()\n",
    "\n",
    "def MapReduce(RECORDREADER, MAP, REDUCE):\n",
    "  return flatten(map(lambda x: REDUCE(*x), groupbykey(flatten(map(lambda x: MAP(*x), RECORDREADER())))))"
   ]
  },
  {
   "cell_type": "markdown",
   "metadata": {
    "id": "iFIVrimep678"
   },
   "source": [
    "## Спецификация MapReduce\n",
    "\n",
    "\n",
    "\n",
    "```\n",
    "f (k1, v1) -> (k2,v2)*\n",
    "g (k2, v2*) -> (k3,v3)*\n",
    "\n",
    "mapreduce ((k1,v1)*) -> (k3,v3)*\n",
    "groupby ((k2,v2)*) -> (k2,v2*)*\n",
    "flatten (e2**) -> e2*\n",
    "\n",
    "mapreduce .map(f).flatten.groupby(k2).map(g).flatten\n",
    "```\n",
    "\n",
    "\n"
   ]
  },
  {
   "cell_type": "markdown",
   "metadata": {
    "id": "QtTFyqke3KGe"
   },
   "source": [
    "# Примеры"
   ]
  },
  {
   "cell_type": "markdown",
   "metadata": {
    "id": "BNhh5763w5Vn"
   },
   "source": [
    "## SQL"
   ]
  },
  {
   "cell_type": "code",
   "execution_count": 14,
   "metadata": {
    "colab": {
     "base_uri": "https://localhost:8080/",
     "height": 34
    },
    "id": "QkyurnvGxBGk",
    "outputId": "84761282-d2ba-435a-e8d7-a85150730e10"
   },
   "outputs": [
    {
     "data": {
      "text/plain": [
       "[(25, 370.0), (33, 800.0)]"
      ]
     },
     "execution_count": 14,
     "metadata": {},
     "output_type": "execute_result"
    }
   ],
   "source": [
    "from typing import NamedTuple # requires python 3.6+\n",
    "from typing import Iterator\n",
    "\n",
    "class User(NamedTuple):\n",
    "  id: int\n",
    "  age: str\n",
    "  social_contacts: int\n",
    "  gender: str\n",
    "\n",
    "input_collection = [\n",
    "    User(id=0, age=55, gender='male', social_contacts=20),\n",
    "    User(id=1, age=25, gender='female', social_contacts=240),\n",
    "    User(id=2, age=25, gender='female', social_contacts=500),\n",
    "    User(id=3, age=33, gender='female', social_contacts=800)\n",
    "]\n",
    "\n",
    "def MAP(_, row:NamedTuple):\n",
    "  if (row.gender == 'female'):\n",
    "    yield (row.age, row)\n",
    "\n",
    "def REDUCE(age:str, rows:Iterator[NamedTuple]):\n",
    "  sum = 0\n",
    "  count = 0\n",
    "  for row in rows:\n",
    "    sum += row.social_contacts\n",
    "    count += 1\n",
    "  if (count > 0):\n",
    "    yield (age, sum/count)\n",
    "  else:\n",
    "    yield (age, 0)\n",
    "\n",
    "def RECORDREADER():\n",
    "  return [(u.id, u) for u in input_collection]\n",
    "\n",
    "output = MapReduce(RECORDREADER, MAP, REDUCE)\n",
    "output = list(output)\n",
    "output"
   ]
  },
  {
   "cell_type": "markdown",
   "metadata": {
    "id": "kNKYIeerx0nY"
   },
   "source": [
    "## Matrix-Vector multiplication"
   ]
  },
  {
   "cell_type": "code",
   "execution_count": 15,
   "metadata": {
    "colab": {
     "base_uri": "https://localhost:8080/",
     "height": 102
    },
    "id": "rwcntRcCyi1V",
    "outputId": "606737ab-6b55-455c-931f-4fc45155f8a9"
   },
   "outputs": [
    {
     "data": {
      "text/plain": [
       "[(0, 1.6168323775286386),\n",
       " (1, 1.6168323775286386),\n",
       " (2, 1.6168323775286386),\n",
       " (3, 1.6168323775286386),\n",
       " (4, 1.6168323775286386)]"
      ]
     },
     "execution_count": 15,
     "metadata": {},
     "output_type": "execute_result"
    }
   ],
   "source": [
    "from typing import Iterator\n",
    "import numpy as np\n",
    "\n",
    "mat = np.ones((5,4))\n",
    "vec = np.random.rand(4) # in-memory vector in all map tasks\n",
    "\n",
    "def MAP(coordinates:(int, int), value:int):\n",
    "  i, j = coordinates\n",
    "  yield (i, value*vec[j])\n",
    "\n",
    "def REDUCE(i:int, products:Iterator[NamedTuple]):\n",
    "  sum = 0\n",
    "  for p in products:\n",
    "    sum += p\n",
    "  yield (i, sum)\n",
    "\n",
    "def RECORDREADER():\n",
    "  for i in range(mat.shape[0]):\n",
    "    for j in range(mat.shape[1]):\n",
    "      yield ((i, j), mat[i,j])\n",
    "\n",
    "output = MapReduce(RECORDREADER, MAP, REDUCE)\n",
    "output = list(output)\n",
    "output"
   ]
  },
  {
   "cell_type": "markdown",
   "metadata": {
    "id": "ruZREYdi2o4O"
   },
   "source": [
    "## Inverted index"
   ]
  },
  {
   "cell_type": "code",
   "execution_count": 16,
   "metadata": {
    "colab": {
     "base_uri": "https://localhost:8080/",
     "height": 102
    },
    "id": "vt9H9Alf3TYv",
    "outputId": "51aeffc9-e111-4607-bd84-cfcc7b56f238"
   },
   "outputs": [
    {
     "data": {
      "text/plain": [
       "[('what', ['0', '1']),\n",
       " ('is', ['0', '1', '2']),\n",
       " ('it', ['0', '1', '2']),\n",
       " ('banana', ['2']),\n",
       " ('a', ['2'])]"
      ]
     },
     "execution_count": 16,
     "metadata": {},
     "output_type": "execute_result"
    }
   ],
   "source": [
    "from typing import Iterator\n",
    "\n",
    "d1 = \"it is what it is\"\n",
    "d2 = \"what is it\"\n",
    "d3 = \"it is a banana\"\n",
    "documents = [d1, d2, d3]\n",
    "\n",
    "def RECORDREADER():\n",
    "  for (docid, document) in enumerate(documents):\n",
    "    yield (\"{}\".format(docid), document)\n",
    "\n",
    "def MAP(docId:str, body:str):\n",
    "  for word in set(body.split(' ')):\n",
    "    yield (word, docId)\n",
    "\n",
    "def REDUCE(word:str, docIds:Iterator[str]):\n",
    "  yield (word, sorted(docIds))\n",
    "\n",
    "output = MapReduce(RECORDREADER, MAP, REDUCE)\n",
    "output = list(output)\n",
    "output"
   ]
  },
  {
   "cell_type": "markdown",
   "metadata": {
    "id": "R7az-6DA6qr2"
   },
   "source": [
    "## WordCount"
   ]
  },
  {
   "cell_type": "code",
   "execution_count": 17,
   "metadata": {
    "colab": {
     "base_uri": "https://localhost:8080/",
     "height": 34
    },
    "id": "dN-nbtgG6uYG",
    "outputId": "24117576-7931-401d-a581-28e246b23453"
   },
   "outputs": [
    {
     "data": {
      "text/plain": [
       "[('', 3), ('it', 9), ('is', 9), ('what', 5), ('a', 1), ('banana', 1)]"
      ]
     },
     "execution_count": 17,
     "metadata": {},
     "output_type": "execute_result"
    }
   ],
   "source": [
    "from typing import Iterator\n",
    "\n",
    "d1 = \"\"\"\n",
    "it is what it is\n",
    "it is what it is\n",
    "it is what it is\"\"\"\n",
    "d2 = \"\"\"\n",
    "what is it\n",
    "what is it\"\"\"\n",
    "d3 = \"\"\"\n",
    "it is a banana\"\"\"\n",
    "documents = [d1, d2, d3]\n",
    "\n",
    "def RECORDREADER():\n",
    "  for (docid, document) in enumerate(documents):\n",
    "    for (lineid, line) in enumerate(document.split('\\n')):\n",
    "      yield (\"{}:{}\".format(docid,lineid), line)\n",
    "\n",
    "def MAP(docId:str, line:str):\n",
    "  for word in line.split(\" \"):\n",
    "    yield (word, 1)\n",
    "\n",
    "def REDUCE(word:str, counts:Iterator[int]):\n",
    "  sum = 0\n",
    "  for c in counts:\n",
    "    sum += c\n",
    "  yield (word, sum)\n",
    "\n",
    "output = MapReduce(RECORDREADER, MAP, REDUCE)\n",
    "output = list(output)\n",
    "output"
   ]
  },
  {
   "cell_type": "markdown",
   "metadata": {
    "id": "h-jRAcYCAkkk"
   },
   "source": [
    "# MapReduce Distributed\n",
    "\n",
    "Добавляется в модель фабрика RECORDREARER-ов --- INPUTFORMAT, функция распределения промежуточных результатов по партициям PARTITIONER, и функция COMBINER для частичной аггрегации промежуточных результатов до распределения по новым партициям."
   ]
  },
  {
   "cell_type": "code",
   "execution_count": 18,
   "metadata": {
    "id": "nw-b-xJsApgW"
   },
   "outputs": [],
   "source": [
    "def flatten(nested_iterable):\n",
    "  for iterable in nested_iterable:\n",
    "    for element in iterable:\n",
    "      yield element\n",
    "\n",
    "def groupbykey(iterable):\n",
    "  t = {}\n",
    "  for (k2, v2) in iterable:\n",
    "    t[k2] = t.get(k2, []) + [v2]\n",
    "  return t.items()\n",
    "\n",
    "def groupbykey_distributed(map_partitions, PARTITIONER):\n",
    "  global reducers\n",
    "  partitions = [dict() for _ in range(reducers)]\n",
    "  for map_partition in map_partitions:\n",
    "    for (k2, v2) in map_partition:\n",
    "      p = partitions[PARTITIONER(k2)]\n",
    "      p[k2] = p.get(k2, []) + [v2]\n",
    "  return [(partition_id, sorted(partition.items(), key=lambda x: x[0])) for (partition_id, partition) in enumerate(partitions)]\n",
    "\n",
    "def PARTITIONER(obj):\n",
    "  global reducers\n",
    "  return hash(obj) % reducers\n",
    "\n",
    "def MapReduceDistributed(INPUTFORMAT, MAP, REDUCE, PARTITIONER=PARTITIONER, COMBINER=None):\n",
    "  map_partitions = map(lambda record_reader: flatten(map(lambda k1v1: MAP(*k1v1), record_reader)), INPUTFORMAT())\n",
    "  if COMBINER != None:\n",
    "    map_partitions = map(lambda map_partition: flatten(map(lambda k2v2: COMBINER(*k2v2), groupbykey(map_partition))), map_partitions)\n",
    "  reduce_partitions = groupbykey_distributed(map_partitions, PARTITIONER) # shuffle\n",
    "  reduce_outputs = map(lambda reduce_partition: (reduce_partition[0], flatten(map(lambda reduce_input_group: REDUCE(*reduce_input_group), reduce_partition[1]))), reduce_partitions)\n",
    "\n",
    "  print(\"{} key-value pairs were sent over a network.\".format(sum([len(vs) for (k,vs) in flatten([partition for (partition_id, partition) in reduce_partitions])])))\n",
    "  return reduce_outputs"
   ]
  },
  {
   "cell_type": "markdown",
   "metadata": {
    "id": "kxirlf3XqZxY"
   },
   "source": [
    "## Спецификация MapReduce Distributed\n",
    "\n",
    "\n",
    "```\n",
    "f (k1, v1) -> (k2,v2)*\n",
    "g (k2, v2*) -> (k3,v3)*\n",
    "\n",
    "e1 (k1, v1)\n",
    "e2 (k2, v2)\n",
    "partition1 (k2, v2)*\n",
    "partition2 (k2, v2*)*\n",
    "\n",
    "flatmap (e1->e2*, e1*) -> partition1*\n",
    "groupby (partition1*) -> partition2*\n",
    "\n",
    "mapreduce ((k1,v1)*) -> (k3,v3)*\n",
    "mapreduce .flatmap(f).groupby(k2).flatmap(g)\n",
    "```\n",
    "\n"
   ]
  },
  {
   "cell_type": "markdown",
   "metadata": {
    "id": "CWYw_CpbbY3C"
   },
   "source": [
    "## WordCount"
   ]
  },
  {
   "cell_type": "code",
   "execution_count": 19,
   "metadata": {
    "colab": {
     "base_uri": "https://localhost:8080/"
    },
    "id": "uR_zfGFkMZlp",
    "outputId": "65723f27-efbd-4fc3-b591-4c3176c3d1c6"
   },
   "outputs": [
    {
     "name": "stdout",
     "output_type": "stream",
     "text": [
      "56 key-value pairs were sent over a network.\n"
     ]
    },
    {
     "data": {
      "text/plain": [
       "[(0, [('', 6), ('banana', 2), ('is', 18), ('it', 18), ('what', 10)]),\n",
       " (1, [('a', 2)])]"
      ]
     },
     "execution_count": 19,
     "metadata": {},
     "output_type": "execute_result"
    }
   ],
   "source": [
    "from typing import Iterator\n",
    "import numpy as np\n",
    "\n",
    "d1 = \"\"\"\n",
    "it is what it is\n",
    "it is what it is\n",
    "it is what it is\"\"\"\n",
    "d2 = \"\"\"\n",
    "what is it\n",
    "what is it\"\"\"\n",
    "d3 = \"\"\"\n",
    "it is a banana\"\"\"\n",
    "documents = [d1, d2, d3, d1, d2, d3]\n",
    "\n",
    "maps = 3\n",
    "reducers = 2\n",
    "\n",
    "def INPUTFORMAT():\n",
    "  global maps\n",
    "\n",
    "  def RECORDREADER(split):\n",
    "    for (docid, document) in enumerate(split):\n",
    "      for (lineid, line) in enumerate(document.split('\\n')):\n",
    "        yield (\"{}:{}\".format(docid,lineid), line)\n",
    "\n",
    "  split_size =  int(np.ceil(len(documents)/maps))\n",
    "  for i in range(0, len(documents), split_size):\n",
    "    yield RECORDREADER(documents[i:i+split_size])\n",
    "\n",
    "def MAP(docId:str, line:str):\n",
    "  for word in line.split(\" \"):\n",
    "    yield (word, 1)\n",
    "\n",
    "def REDUCE(word:str, counts:Iterator[int]):\n",
    "  sum = 0\n",
    "  for c in counts:\n",
    "    sum += c\n",
    "  yield (word, sum)\n",
    "\n",
    "# try to set COMBINER=REDUCER and look at the number of values sent over the network\n",
    "partitioned_output = MapReduceDistributed(INPUTFORMAT, MAP, REDUCE, COMBINER=None)\n",
    "partitioned_output = [(partition_id, list(partition)) for (partition_id, partition) in partitioned_output]\n",
    "partitioned_output"
   ]
  },
  {
   "cell_type": "markdown",
   "metadata": {
    "id": "gCJGx8IQ87xS"
   },
   "source": [
    "## TeraSort"
   ]
  },
  {
   "cell_type": "code",
   "execution_count": 20,
   "metadata": {
    "colab": {
     "base_uri": "https://localhost:8080/"
    },
    "id": "P2v8v1v_8_YR",
    "outputId": "b07ef4e6-a45e-474c-8e41-1ce846274d6d"
   },
   "outputs": [
    {
     "name": "stdout",
     "output_type": "stream",
     "text": [
      "30 key-value pairs were sent over a network.\n"
     ]
    },
    {
     "data": {
      "text/plain": [
       "[(0,\n",
       "  [(None, 0.10737639317598113),\n",
       "   (None, 0.2016565884172279),\n",
       "   (None, 0.2590328900453609),\n",
       "   (None, 0.27763991383208164),\n",
       "   (None, 0.29160019408562454),\n",
       "   (None, 0.3147036925420177),\n",
       "   (None, 0.34729302103302095),\n",
       "   (None, 0.35172372437553723),\n",
       "   (None, 0.3846875807171759),\n",
       "   (None, 0.4430081046537878),\n",
       "   (None, 0.45234893737574333)]),\n",
       " (1,\n",
       "  [(None, 0.5011976133567866),\n",
       "   (None, 0.5074786651514601),\n",
       "   (None, 0.656504851323703),\n",
       "   (None, 0.6585117090174429),\n",
       "   (None, 0.6603983376408654),\n",
       "   (None, 0.7291440653008885),\n",
       "   (None, 0.7682417826830741),\n",
       "   (None, 0.7994772526622566),\n",
       "   (None, 0.8250907754936323),\n",
       "   (None, 0.8398900004105115),\n",
       "   (None, 0.8441087907984488),\n",
       "   (None, 0.856037340760352),\n",
       "   (None, 0.8698692994263838),\n",
       "   (None, 0.9159053298661012),\n",
       "   (None, 0.9162705567185115),\n",
       "   (None, 0.9278885274263078),\n",
       "   (None, 0.9341893877002104),\n",
       "   (None, 0.9890437495557943),\n",
       "   (None, 0.9970025339561236)])]"
      ]
     },
     "execution_count": 20,
     "metadata": {},
     "output_type": "execute_result"
    }
   ],
   "source": [
    "import numpy as np\n",
    "\n",
    "input_values = np.random.rand(30)\n",
    "maps = 3\n",
    "reducers = 2\n",
    "min_value = 0.0\n",
    "max_value = 1.0\n",
    "\n",
    "def INPUTFORMAT():\n",
    "  global maps\n",
    "\n",
    "  def RECORDREADER(split):\n",
    "    for value in split:\n",
    "        yield (value, None)\n",
    "\n",
    "  split_size =  int(np.ceil(len(input_values)/maps))\n",
    "  for i in range(0, len(input_values), split_size):\n",
    "    yield RECORDREADER(input_values[i:i+split_size])\n",
    "\n",
    "def MAP(value:int, _):\n",
    "  yield (value, None)\n",
    "\n",
    "def PARTITIONER(key):\n",
    "  global reducers\n",
    "  global max_value\n",
    "  global min_value\n",
    "  bucket_size = (max_value-min_value)/reducers\n",
    "  bucket_id = 0\n",
    "  while((key>(bucket_id+1)*bucket_size) and ((bucket_id+1)*bucket_size<max_value)):\n",
    "    bucket_id += 1\n",
    "  return bucket_id\n",
    "\n",
    "def REDUCE(value:int, _):\n",
    "  yield (None,value)\n",
    "\n",
    "partitioned_output = MapReduceDistributed(INPUTFORMAT, MAP, REDUCE, COMBINER=None, PARTITIONER=PARTITIONER)\n",
    "partitioned_output = [(partition_id, list(partition)) for (partition_id, partition) in partitioned_output]\n",
    "partitioned_output"
   ]
  },
  {
   "cell_type": "code",
   "execution_count": null,
   "metadata": {
    "id": "MQhoJaVZI93G"
   },
   "outputs": [],
   "source": []
  },
  {
   "cell_type": "markdown",
   "metadata": {
    "id": "Iy65YJTH99iT"
   },
   "source": [
    "# Упражнения\n",
    "Упражнения взяты из Rajaraman A., Ullman J. D. Mining of massive datasets. – Cambridge University Press, 2011.\n",
    "\n",
    "\n",
    "Для выполнения заданий переопределите функции RECORDREADER, MAP, REDUCE. Для модели распределённой системы может потребоваться переопределение функций PARTITION и COMBINER."
   ]
  },
  {
   "cell_type": "markdown",
   "metadata": {
    "id": "cfvAeZm3S8S8"
   },
   "source": [
    "### Максимальное значение ряда\n",
    "\n",
    "Разработайте MapReduce алгоритм, который находит максимальное число входного списка чисел."
   ]
  },
  {
   "cell_type": "code",
   "execution_count": 21,
   "metadata": {
    "colab": {
     "base_uri": "https://localhost:8080/"
    },
    "id": "3GRA1JR-Tkbg",
    "outputId": "30743fcb-fc5b-4720-dacd-e36476bcc0a4"
   },
   "outputs": [
    {
     "name": "stdout",
     "output_type": "stream",
     "text": [
      "[62, 16, 12, 35, 35, 44, 6, 39, 15, 12, 97, 10, 5, 57, 93, 32, 39, 100, 79, 83, 35, 53, 84, 95, 50, 0, 77, 93, 7, 29, 49, 97, 63, 2, 4, 61, 18, 94, 94, 93, 69, 56, 13, 63, 98, 22, 32, 15, 2, 76, 78, 38, 36, 31, 41, 37, 4, 88, 66, 92, 84, 81, 22, 95, 81, 14, 70, 70, 72, 89, 76, 40, 91, 21, 23, 39, 52, 19, 99, 14, 90, 2, 20, 53, 31, 43, 94, 11, 34, 22, 20, 53, 35, 66, 57, 15, 41, 67, 20, 21]\n",
      "[[62, 16, 12, 35, 35], [44, 6, 39, 15, 12], [97, 10, 5, 57, 93], [32, 39, 100, 79, 83], [35, 53, 84, 95, 50], [0, 77, 93, 7, 29], [49, 97, 63, 2, 4], [61, 18, 94, 94, 93], [69, 56, 13, 63, 98], [22, 32, 15, 2, 76], [78, 38, 36, 31, 41], [37, 4, 88, 66, 92], [84, 81, 22, 95, 81], [14, 70, 70, 72, 89], [76, 40, 91, 21, 23], [39, 52, 19, 99, 14], [90, 2, 20, 53, 31], [43, 94, 11, 34, 22], [20, 53, 35, 66, 57], [15, 41, 67, 20, 21]]\n",
      "100\n"
     ]
    }
   ],
   "source": [
    "import random\n",
    "\n",
    "def MAP(num_list):\n",
    "    return max(num_list)\n",
    "\n",
    "\n",
    "def REDUCE(num_list):\n",
    "    return max(num_list)\n",
    "\n",
    "\n",
    "def RECORDREADER(count):\n",
    "    return [random.randint(0, 100) for i in range(count)]\n",
    "\n",
    "\n",
    "record = RECORDREADER(100)\n",
    "print(record)\n",
    "\n",
    "part_count = 5\n",
    "record_partitional = [record[d:d + part_count] for d in range(0, len(record), part_count)]\n",
    "print(record_partitional)\n",
    "\n",
    "print(REDUCE(list(map(lambda x: MAP(x), record_partitional))))"
   ]
  },
  {
   "cell_type": "markdown",
   "metadata": {
    "id": "k86bXnqZTk-U"
   },
   "source": [
    "### Арифметическое среднее\n",
    "\n",
    "Разработайте MapReduce алгоритм, который находит арифметическое среднее.\n",
    "\n",
    "$$\\overline{X} = \\frac{1}{n}\\sum_{i=0}^{n} x_i$$\n"
   ]
  },
  {
   "cell_type": "code",
   "execution_count": 22,
   "metadata": {
    "colab": {
     "base_uri": "https://localhost:8080/"
    },
    "id": "MPoY5pkfUNZf",
    "outputId": "11f6aec6-3457-4ffc-c122-bdf3dcf22f24"
   },
   "outputs": [
    {
     "name": "stdout",
     "output_type": "stream",
     "text": [
      "[(1, 89), (1, 79), (1, 30), (1, 60), (1, 56), (1, 69), (1, 19), (1, 95), (1, 51), (1, 47), (1, 89), (1, 37), (1, 2), (1, 75), (1, 89), (1, 25), (1, 68), (1, 5), (1, 86), (1, 36), (1, 94), (1, 90), (1, 85), (1, 45), (1, 74), (1, 76), (1, 60), (1, 93), (1, 81), (1, 28), (1, 47), (1, 90), (1, 29), (1, 45), (1, 37), (1, 16), (1, 5), (1, 81), (1, 89), (1, 38), (1, 79), (1, 63), (1, 53), (1, 93), (1, 41), (1, 88), (1, 56), (1, 33), (1, 68), (1, 59), (1, 45), (1, 7), (1, 58), (1, 93), (1, 56), (1, 81), (1, 63), (1, 44), (1, 3), (1, 13), (1, 11), (1, 90), (1, 77), (1, 56), (1, 93), (1, 29), (1, 70), (1, 56), (1, 75), (1, 31), (1, 33), (1, 98), (1, 56), (1, 88), (1, 88), (1, 86), (1, 16), (1, 66), (1, 97), (1, 91), (1, 13), (1, 47), (1, 20), (1, 63), (1, 52), (1, 43), (1, 48), (1, 34), (1, 32), (1, 97), (1, 65), (1, 81), (1, 7), (1, 71), (1, 53), (1, 100), (1, 53), (1, 32), (1, 90), (1, 70)]\n",
      "[(1, [89, 79, 30, 60, 56, 69, 19, 95, 51, 47, 89, 37, 2, 75, 89, 25, 68, 5, 86, 36, 94, 90, 85, 45, 74, 76, 60, 93, 81, 28, 47, 90, 29, 45, 37, 16, 5, 81, 89, 38, 79, 63, 53, 93, 41, 88, 56, 33, 68, 59, 45, 7, 58, 93, 56, 81, 63, 44, 3, 13, 11, 90, 77, 56, 93, 29, 70, 56, 75, 31, 33, 98, 56, 88, 88, 86, 16, 66, 97, 91, 13, 47, 20, 63, 52, 43, 48, 34, 32, 97, 65, 81, 7, 71, 53, 100, 53, 32, 90, 70])]\n",
      "[57.84]\n"
     ]
    }
   ],
   "source": [
    "def MAP(num):\n",
    "    return (1, num)\n",
    "\n",
    "\n",
    "def REDUCE(key, nums: Iterator[NamedTuple]):\n",
    "    sum = 0\n",
    "    count = 0\n",
    "    for n in nums:\n",
    "        sum += n\n",
    "        count += 1\n",
    "    yield sum / count\n",
    "\n",
    "\n",
    "def RECORDREADER(count):\n",
    "    return [random.randint(0, 100) for i in range(count)]\n",
    "\n",
    "\n",
    "map_output = list(map(lambda x: MAP(x), RECORDREADER(100)))\n",
    "print(map_output)\n",
    "\n",
    "shuffle_output = groupbykey(map_output)\n",
    "shuffle_output = list(shuffle_output)\n",
    "\n",
    "print(shuffle_output)\n",
    "\n",
    "reduce_output = list(flatten(map(lambda x: REDUCE(*x), shuffle_output)))\n",
    "print(reduce_output)"
   ]
  },
  {
   "cell_type": "markdown",
   "metadata": {
    "id": "xanzszhsIlLe"
   },
   "source": [
    "### GroupByKey на основе сортировки\n",
    "\n",
    "Реализуйте groupByKey на основе сортировки, проверьте его работу на примерах"
   ]
  },
  {
   "cell_type": "code",
   "execution_count": 23,
   "metadata": {
    "colab": {
     "base_uri": "https://localhost:8080/"
    },
    "id": "hQPn3USsIkEC",
    "outputId": "cbc1f6c3-9d46-48c8-b975-e38931b8756f"
   },
   "outputs": [
    {
     "name": "stdout",
     "output_type": "stream",
     "text": [
      "[(1, 36), (1, 64), (1, 22), (1, 69), (1, 58), (1, 38), (1, 48), (1, 60), (1, 4), (1, 79), (1, 53), (1, 72), (1, 75), (1, 55), (1, 79), (1, 46), (1, 91), (1, 22), (1, 58), (1, 3), (1, 40), (1, 82), (1, 10), (1, 34), (1, 82), (1, 17), (1, 86), (1, 24), (1, 11), (1, 87), (1, 32), (1, 86), (1, 12), (1, 31), (1, 68), (1, 68), (1, 26), (1, 30), (1, 50), (1, 78), (1, 55), (1, 10), (1, 40), (1, 45), (1, 22), (1, 48), (1, 60), (1, 74), (1, 75), (1, 4), (1, 32), (1, 70), (1, 62), (1, 68), (1, 11), (1, 42), (1, 23), (1, 43), (1, 17), (1, 8), (1, 97), (1, 2), (1, 38), (1, 18), (1, 4), (1, 62), (1, 6), (1, 67), (1, 87), (1, 85), (1, 63), (1, 12), (1, 10), (1, 52), (1, 49), (1, 92), (1, 57), (1, 59), (1, 15), (1, 70), (1, 8), (1, 6), (1, 100), (1, 84), (1, 65), (1, 44), (1, 51), (1, 24), (1, 67), (1, 68), (1, 98), (1, 64), (1, 91), (1, 49), (1, 26), (1, 86), (1, 88), (1, 89), (1, 73), (1, 18)]\n",
      "[(1, [36, 64, 22, 69, 58, 38, 48, 60, 4, 79, 53, 72, 75, 55, 79, 46, 91, 22, 58, 3, 40, 82, 10, 34, 82, 17, 86, 24, 11, 87, 32, 86, 12, 31, 68, 68, 26, 30, 50, 78, 55, 10, 40, 45, 22, 48, 60, 74, 75, 4, 32, 70, 62, 68, 11, 42, 23, 43, 17, 8, 97, 2, 38, 18, 4, 62, 6, 67, 87, 85, 63, 12, 10, 52, 49, 92, 57, 59, 15, 70, 8, 6, 100, 84, 65, 44, 51, 24, 67, 68, 98, 64, 91, 49, 26, 86, 88, 89, 73, 18])]\n",
      "[49.39]\n"
     ]
    }
   ],
   "source": [
    "def group_by_key(iterable):\n",
    "    sorted_data = sorted(iterable, key=lambda x: x[0])\n",
    "    grouped_data = {}\n",
    "    for key, value in sorted_data:\n",
    "        if key not in grouped_data:\n",
    "            grouped_data[key] = [value]\n",
    "        else:\n",
    "            grouped_data[key].append(value)\n",
    "    result = []\n",
    "    for key, value in grouped_data.items():\n",
    "        result.append((key, value))\n",
    "    return result\n",
    "\n",
    "def MAP(num):\n",
    "    return (1, num)\n",
    "\n",
    "\n",
    "def REDUCE(key, nums: Iterator[NamedTuple]):\n",
    "    sum = 0\n",
    "    count = 0\n",
    "    for n in nums:\n",
    "        sum += n\n",
    "        count += 1\n",
    "    yield sum / count\n",
    "\n",
    "\n",
    "def RECORDREADER(count):\n",
    "    return [random.randint(0, 100) for i in range(count)]\n",
    "\n",
    "map_output = list(map(lambda x: MAP(x), RECORDREADER(100)))\n",
    "print(map_output)\n",
    "\n",
    "shuffle_output = group_by_key(map_output)\n",
    "shuffle_output = list(shuffle_output)\n",
    "\n",
    "print(shuffle_output)\n",
    "\n",
    "reduce_output = list(flatten(map(lambda x: REDUCE(*x), shuffle_output)))\n",
    "print(reduce_output)"
   ]
  },
  {
   "cell_type": "markdown",
   "metadata": {
    "id": "5SgEjCZyGnu6"
   },
   "source": [
    "### Drop duplicates (set construction, unique elements, distinct)\n",
    "\n",
    "Реализуйте распределённую операцию исключения дубликатов"
   ]
  },
  {
   "cell_type": "code",
   "execution_count": 24,
   "metadata": {
    "colab": {
     "base_uri": "https://localhost:8080/"
    },
    "id": "okjbyApjGhMt",
    "outputId": "c6bf50c1-0142-4f88-d95c-3a2605bbedee"
   },
   "outputs": [
    {
     "name": "stdout",
     "output_type": "stream",
     "text": [
      "56 key-value pairs were sent over a network.\n"
     ]
    },
    {
     "data": {
      "text/plain": [
       "[(0, ['', 'banana', 'is', 'it', 'what']), (1, ['a'])]"
      ]
     },
     "execution_count": 24,
     "metadata": {},
     "output_type": "execute_result"
    }
   ],
   "source": [
    "def flatten(nested_iterable):\n",
    "  for iterable in nested_iterable:\n",
    "    for element in iterable:\n",
    "      yield element\n",
    "\n",
    "def groupbykey(iterable):\n",
    "  t = {}\n",
    "  for (k2, v2) in iterable:\n",
    "    t[k2] = t.get(k2, []) + [v2]\n",
    "  return t.items()\n",
    "\n",
    "def groupbykey_distributed(map_partitions, PARTITIONER):\n",
    "  global reducers\n",
    "  partitions = [dict() for _ in range(reducers)]\n",
    "  for map_partition in map_partitions:\n",
    "    for (k2, v2) in map_partition:\n",
    "      p = partitions[PARTITIONER(k2)]\n",
    "      p[k2] = p.get(k2, []) + [v2]\n",
    "  return [(partition_id, sorted(partition.items(), key=lambda x: x[0])) for (partition_id, partition) in enumerate(partitions)]\n",
    "\n",
    "def PARTITIONER(obj):\n",
    "  global reducers\n",
    "  return hash(obj) % reducers\n",
    "\n",
    "def MapReduceDistributed(INPUTFORMAT, MAP, REDUCE, PARTITIONER=PARTITIONER, COMBINER=None):\n",
    "  map_partitions = map(lambda record_reader: flatten(map(lambda k1v1: MAP(*k1v1), record_reader)), INPUTFORMAT())\n",
    "  if COMBINER != None:\n",
    "    map_partitions = map(lambda map_partition: flatten(map(lambda k2v2: COMBINER(*k2v2), groupbykey(map_partition))), map_partitions)\n",
    "  reduce_partitions = groupbykey_distributed(map_partitions, PARTITIONER) # shuffle\n",
    "  reduce_outputs = map(lambda reduce_partition: (reduce_partition[0], flatten(map(lambda reduce_input_group: REDUCE(*reduce_input_group), reduce_partition[1]))), reduce_partitions)\n",
    "\n",
    "  print(\"{} key-value pairs were sent over a network.\".format(sum([len(vs) for (k,vs) in flatten([partition for (partition_id, partition) in reduce_partitions])])))\n",
    "  return reduce_outputs\n",
    "\n",
    "\n",
    "# ===================================================================================================================================================================================\n",
    "\n",
    "from typing import Iterator\n",
    "import numpy as np\n",
    "\n",
    "d1 = \"\"\"\n",
    "it is what it is\n",
    "it is what it is\n",
    "it is what it is\"\"\"\n",
    "d2 = \"\"\"\n",
    "what is it\n",
    "what is it\"\"\"\n",
    "d3 = \"\"\"\n",
    "it is a banana\"\"\"\n",
    "documents = [d1, d2, d3, d1, d2, d3]\n",
    "\n",
    "maps = 3\n",
    "reducers = 2\n",
    "\n",
    "def INPUTFORMAT():\n",
    "  global maps\n",
    "\n",
    "  def RECORDREADER(split):\n",
    "    for (docid, document) in enumerate(split):\n",
    "      for (lineid, line) in enumerate(document.split('\\n')):\n",
    "        yield (\"{}:{}\".format(docid,lineid), line)\n",
    "\n",
    "  split_size =  int(np.ceil(len(documents)/maps))\n",
    "  for i in range(0, len(documents), split_size):\n",
    "    yield RECORDREADER(documents[i:i+split_size])\n",
    "\n",
    "def MAP(docId:str, line:str):\n",
    "  for word in line.split(\" \"):\n",
    "    yield (word, word)\n",
    "\n",
    "def REDUCE(key:str, value:Iterator[str]):\n",
    "  yield key\n",
    "\n",
    "# try to set COMBINER=REDUCER and look at the number of values sent over the network\n",
    "partitioned_output = MapReduceDistributed(INPUTFORMAT, MAP, REDUCE, COMBINER=None)\n",
    "partitioned_output = [(partition_id, list(partition)) for (partition_id, partition) in partitioned_output]\n",
    "partitioned_output"
   ]
  },
  {
   "cell_type": "markdown",
   "metadata": {
    "id": "e7sRGoTXuJze"
   },
   "source": [
    "#Операторы реляционной алгебры\n",
    "### Selection (Выборка)\n",
    "\n",
    "**The Map Function**: Для  каждого кортежа $t \\in R$ вычисляется истинность предиката $C$. В случае истины создаётся пара ключ-значение $(t, t)$. В паре ключ и значение одинаковы, равны $t$.\n",
    "\n",
    "**The Reduce Function:** Роль функции Reduce выполняет функция идентичности, которая возвращает то же значение, что получила на вход.\n",
    "\n"
   ]
  },
  {
   "cell_type": "code",
   "execution_count": 25,
   "metadata": {
    "colab": {
     "base_uri": "https://localhost:8080/"
    },
    "id": "4nKIKe59uIfc",
    "outputId": "981ed60e-028a-453e-8498-643cfe288b55"
   },
   "outputs": [
    {
     "name": "stdout",
     "output_type": "stream",
     "text": [
      "[(20, 12, 21), (39, 9, 76), (78, 65, 21), (98, 38, 22), (16, 48, 42), (6, 86, 96), (43, 49, 63), (48, 0, 78), (42, 49, 72), (71, 92, 29), (33, 54, 2), (47, 36, 94), (53, 88, 50), (77, 62, 96), (81, 84, 83), (52, 50, 98), (39, 40, 57), (47, 71, 49), (8, 20, 65), (64, 100, 67), (99, 22, 95), (29, 74, 37), (26, 23, 78), (54, 99, 89), (30, 6, 58), (20, 40, 85), (21, 68, 92), (74, 51, 25), (19, 87, 95), (86, 71, 77), (21, 73, 64), (11, 100, 31), (48, 81, 19), (1, 13, 64), (87, 12, 74), (82, 13, 15), (14, 84, 13), (91, 31, 92), (72, 2, 3), (35, 79, 91), (16, 84, 87), (45, 54, 64), (99, 68, 54), (98, 52, 43), (25, 4, 26), (73, 42, 28), (70, 83, 70), (48, 87, 72), (18, 21, 74), (13, 67, 40), (45, 16, 45), (65, 50, 8), (56, 73, 24), (14, 34, 25), (23, 85, 34), (58, 5, 60), (54, 86, 24), (98, 49, 20), (0, 29, 54), (50, 93, 0), (67, 36, 17), (54, 58, 29), (96, 41, 44), (91, 20, 76), (75, 82, 9), (44, 59, 80), (34, 94, 97), (27, 99, 93), (59, 54, 56), (32, 16, 21), (88, 67, 0), (19, 35, 95), (57, 35, 6), (41, 15, 24), (84, 11, 64), (65, 86, 3), (47, 1, 87), (31, 10, 57), (23, 75, 15), (21, 34, 5), (79, 94, 62), (26, 6, 63), (95, 81, 24), (22, 14, 93), (84, 45, 0), (26, 34, 86), (25, 54, 61), (70, 0, 74), (78, 34, 55), (55, 89, 48), (100, 26, 4), (8, 0, 63), (99, 62, 40), (17, 94, 92), (55, 87, 59), (87, 35, 26), (93, 43, 98), (22, 77, 77), (96, 73, 13), (12, 63, 3)]\n",
      "[[(20, 12, 21), (39, 9, 76), (78, 65, 21), (98, 38, 22), (16, 48, 42)], [(6, 86, 96), (43, 49, 63), (48, 0, 78), (42, 49, 72), (71, 92, 29)], [(33, 54, 2), (47, 36, 94), (53, 88, 50), (77, 62, 96), (81, 84, 83)], [(52, 50, 98), (39, 40, 57), (47, 71, 49), (8, 20, 65), (64, 100, 67)], [(99, 22, 95), (29, 74, 37), (26, 23, 78), (54, 99, 89), (30, 6, 58)], [(20, 40, 85), (21, 68, 92), (74, 51, 25), (19, 87, 95), (86, 71, 77)], [(21, 73, 64), (11, 100, 31), (48, 81, 19), (1, 13, 64), (87, 12, 74)], [(82, 13, 15), (14, 84, 13), (91, 31, 92), (72, 2, 3), (35, 79, 91)], [(16, 84, 87), (45, 54, 64), (99, 68, 54), (98, 52, 43), (25, 4, 26)], [(73, 42, 28), (70, 83, 70), (48, 87, 72), (18, 21, 74), (13, 67, 40)], [(45, 16, 45), (65, 50, 8), (56, 73, 24), (14, 34, 25), (23, 85, 34)], [(58, 5, 60), (54, 86, 24), (98, 49, 20), (0, 29, 54), (50, 93, 0)], [(67, 36, 17), (54, 58, 29), (96, 41, 44), (91, 20, 76), (75, 82, 9)], [(44, 59, 80), (34, 94, 97), (27, 99, 93), (59, 54, 56), (32, 16, 21)], [(88, 67, 0), (19, 35, 95), (57, 35, 6), (41, 15, 24), (84, 11, 64)], [(65, 86, 3), (47, 1, 87), (31, 10, 57), (23, 75, 15), (21, 34, 5)], [(79, 94, 62), (26, 6, 63), (95, 81, 24), (22, 14, 93), (84, 45, 0)], [(26, 34, 86), (25, 54, 61), (70, 0, 74), (78, 34, 55), (55, 89, 48)], [(100, 26, 4), (8, 0, 63), (99, 62, 40), (17, 94, 92), (55, 87, 59)], [(87, 35, 26), (93, 43, 98), (22, 77, 77), (96, 73, 13), (12, 63, 3)]]\n",
      "[dict_items([((20, 12, 21), [(20, 12, 21)]), ((78, 65, 21), [(78, 65, 21)]), ((98, 38, 22), [(98, 38, 22)]), ((16, 48, 42), [(16, 48, 42)])]), dict_items([((6, 86, 96), [(6, 86, 96)]), ((48, 0, 78), [(48, 0, 78)]), ((42, 49, 72), [(42, 49, 72)])]), dict_items([]), dict_items([((52, 50, 98), [(52, 50, 98)]), ((8, 20, 65), [(8, 20, 65)]), ((64, 100, 67), [(64, 100, 67)])]), dict_items([((26, 23, 78), [(26, 23, 78)]), ((54, 99, 89), [(54, 99, 89)]), ((30, 6, 58), [(30, 6, 58)])]), dict_items([((20, 40, 85), [(20, 40, 85)]), ((74, 51, 25), [(74, 51, 25)]), ((86, 71, 77), [(86, 71, 77)])]), dict_items([((48, 81, 19), [(48, 81, 19)])]), dict_items([((82, 13, 15), [(82, 13, 15)]), ((14, 84, 13), [(14, 84, 13)]), ((72, 2, 3), [(72, 2, 3)])]), dict_items([((16, 84, 87), [(16, 84, 87)]), ((98, 52, 43), [(98, 52, 43)])]), dict_items([((70, 83, 70), [(70, 83, 70)]), ((48, 87, 72), [(48, 87, 72)]), ((18, 21, 74), [(18, 21, 74)])]), dict_items([((56, 73, 24), [(56, 73, 24)]), ((14, 34, 25), [(14, 34, 25)])]), dict_items([((58, 5, 60), [(58, 5, 60)]), ((54, 86, 24), [(54, 86, 24)]), ((98, 49, 20), [(98, 49, 20)]), ((0, 29, 54), [(0, 29, 54)]), ((50, 93, 0), [(50, 93, 0)])]), dict_items([((54, 58, 29), [(54, 58, 29)]), ((96, 41, 44), [(96, 41, 44)])]), dict_items([((44, 59, 80), [(44, 59, 80)]), ((34, 94, 97), [(34, 94, 97)]), ((32, 16, 21), [(32, 16, 21)])]), dict_items([((88, 67, 0), [(88, 67, 0)]), ((84, 11, 64), [(84, 11, 64)])]), dict_items([]), dict_items([((26, 6, 63), [(26, 6, 63)]), ((22, 14, 93), [(22, 14, 93)]), ((84, 45, 0), [(84, 45, 0)])]), dict_items([((26, 34, 86), [(26, 34, 86)]), ((70, 0, 74), [(70, 0, 74)]), ((78, 34, 55), [(78, 34, 55)])]), dict_items([((100, 26, 4), [(100, 26, 4)]), ((8, 0, 63), [(8, 0, 63)])]), dict_items([((22, 77, 77), [(22, 77, 77)]), ((96, 73, 13), [(96, 73, 13)]), ((12, 63, 3), [(12, 63, 3)])])]\n",
      "[(20, 12, 21), (78, 65, 21), (98, 38, 22), (16, 48, 42), (6, 86, 96), (48, 0, 78), (42, 49, 72), (52, 50, 98), (8, 20, 65), (64, 100, 67), (26, 23, 78), (54, 99, 89), (30, 6, 58), (20, 40, 85), (74, 51, 25), (86, 71, 77), (48, 81, 19), (82, 13, 15), (14, 84, 13), (72, 2, 3), (16, 84, 87), (98, 52, 43), (70, 83, 70), (48, 87, 72), (18, 21, 74), (56, 73, 24), (14, 34, 25), (58, 5, 60), (54, 86, 24), (98, 49, 20), (0, 29, 54), (50, 93, 0), (54, 58, 29), (96, 41, 44), (44, 59, 80), (34, 94, 97), (32, 16, 21), (88, 67, 0), (84, 11, 64), (26, 6, 63), (22, 14, 93), (84, 45, 0), (26, 34, 86), (70, 0, 74), (78, 34, 55), (100, 26, 4), (8, 0, 63), (22, 77, 77), (96, 73, 13), (12, 63, 3)]\n"
     ]
    }
   ],
   "source": [
    "from collections import defaultdict\n",
    "\n",
    "def MAP(el_list):\n",
    "    mapped_result = defaultdict(list)\n",
    "    for t in el_list:\n",
    "        if C(t):  # Предикат C\n",
    "            mapped_result[t].append(t)\n",
    "    return mapped_result.items()\n",
    "\n",
    "\n",
    "def REDUCE(mapped_items):\n",
    "    reduced_result = []\n",
    "    print(mapped_items)\n",
    "    for values in mapped_items:\n",
    "        for value in values:\n",
    "            reduced_result.append(value[0])\n",
    "    return reduced_result\n",
    "\n",
    "def C(t):\n",
    "    return t[0] % 2 == 0  # Выбираем только кортежи с четным первым элементом\n",
    "\n",
    "\n",
    "def RECORDREADER(count):\n",
    "    return [(random.randint(0, 100), random.randint(0, 100), random.randint(0, 100)) for i in range(count)]\n",
    "\n",
    "record = RECORDREADER(100)\n",
    "print(record)\n",
    "\n",
    "part_count = 5\n",
    "record_partitional = [record[d:d + part_count] for d in range(0, len(record), part_count)]\n",
    "print(record_partitional)\n",
    "\n",
    "print(REDUCE(list(map(lambda x: MAP(x), record_partitional))))"
   ]
  },
  {
   "cell_type": "markdown",
   "metadata": {
    "id": "w27Ca-_Ku85V"
   },
   "source": [
    "### Projection (Проекция)\n",
    "\n",
    "Проекция на множество атрибутов $S$.\n",
    "\n",
    "**The Map Function:** Для каждого кортежа $t \\in R$ создайте кортеж $t′$, исключая  из $t$ те значения, атрибуты которых не принадлежат  $S$. Верните пару $(t′, t′)$.\n",
    "\n",
    "**The Reduce Function:** Для каждого ключа $t′$, созданного любой Map задачей, вы получаете одну или несколько пар $(t′, t′)$. Reduce функция преобразует $(t′, [t′, t′, . . . , t′])$ в $(t′, t′)$, так, что для ключа $t′$ возвращается одна пара  $(t′, t′)$."
   ]
  },
  {
   "cell_type": "code",
   "execution_count": 26,
   "metadata": {
    "colab": {
     "base_uri": "https://localhost:8080/"
    },
    "id": "BEvuY4GqvhS6",
    "outputId": "f0f78415-f28a-4127-80c1-eff71647e430"
   },
   "outputs": [
    {
     "name": "stdout",
     "output_type": "stream",
     "text": [
      "[(1, 55, 74), (97, 74, 27), (93, 13, 16), (63, 96, 19), (48, 87, 44), (100, 50, 92), (94, 73, 87), (43, 40, 63), (32, 64, 26), (72, 2, 36), (75, 100, 12), (86, 57, 56), (0, 2, 92), (45, 76, 95), (27, 20, 3), (77, 83, 99), (39, 91, 67), (41, 29, 100), (54, 38, 90), (54, 68, 75), (35, 75, 60), (78, 53, 79), (82, 0, 55), (67, 33, 97), (81, 20, 7), (93, 52, 70), (89, 61, 13), (85, 26, 53), (47, 42, 23), (20, 79, 68), (14, 52, 6), (70, 10, 21), (76, 37, 51), (63, 15, 74), (74, 90, 57), (16, 83, 44), (52, 9, 17), (23, 54, 79), (10, 68, 34), (70, 80, 42), (35, 33, 59), (20, 100, 84), (50, 93, 13), (57, 28, 93), (90, 20, 38), (16, 68, 72), (36, 75, 45), (55, 1, 75), (9, 100, 21), (32, 27, 17), (31, 13, 17), (25, 10, 82), (38, 21, 52), (13, 77, 39), (90, 13, 85), (17, 97, 93), (45, 30, 7), (11, 53, 48), (79, 89, 84), (61, 98, 34), (37, 62, 69), (74, 62, 30), (75, 13, 92), (47, 62, 95), (41, 81, 94), (30, 25, 8), (68, 71, 87), (38, 16, 99), (33, 15, 17), (100, 17, 82), (25, 58, 1), (50, 75, 70), (32, 49, 49), (100, 81, 71), (5, 76, 14), (79, 96, 81), (38, 30, 48), (29, 76, 12), (41, 26, 44), (77, 0, 43), (79, 1, 41), (25, 66, 44), (18, 26, 38), (19, 25, 74), (62, 100, 4), (17, 12, 1), (28, 9, 53), (18, 95, 100), (57, 87, 90), (44, 36, 92), (27, 60, 76), (100, 59, 16), (74, 24, 5), (3, 19, 91), (49, 2, 94), (88, 56, 32), (87, 20, 88), (54, 22, 70), (85, 60, 30), (39, 97, 90)]\n",
      "[((), ()), ((), ()), ((), ()), ((), ()), ((), ()), ((), ()), ((), ()), ((), ()), ((), ()), ((), ()), ((), ()), ((), ()), ((), ()), ((), ()), ((), ()), ((), ()), ((), ()), ((1,), (1,)), ((), ()), ((), ()), ((), ()), ((), ()), ((), ()), ((), ()), ((), ()), ((), ()), ((), ()), ((), ()), ((), ()), ((), ()), ((), ()), ((), ()), ((), ()), ((), ()), ((), ()), ((), ()), ((), ()), ((), ()), ((), ()), ((), ()), ((), ()), ((), ()), ((), ()), ((), ()), ((), ()), ((), ()), ((), ()), ((), ()), ((), ()), ((), ()), ((), ()), ((), ()), ((), ()), ((), ()), ((), ()), ((), ()), ((), ()), ((), ()), ((), ()), ((), ()), ((), ()), ((), ()), ((), ()), ((), ()), ((), ()), ((), ()), ((), ()), ((), ()), ((), ()), ((), ()), ((), ()), ((), ()), ((), ()), ((), ()), ((), ()), ((), ()), ((), ()), ((), ()), ((), ()), ((), ()), ((), ()), ((), ()), ((), ()), ((), ()), ((), ()), ((), ()), ((), ()), ((), ()), ((), ()), ((), ()), ((), ()), ((), ()), ((), ()), ((), ()), ((), ()), ((), ()), ((), ()), ((), ()), ((), ()), ((), ())]\n",
      "[((), [(), (), (), (), (), (), (), (), (), (), (), (), (), (), (), (), (), (), (), (), (), (), (), (), (), (), (), (), (), (), (), (), (), (), (), (), (), (), (), (), (), (), (), (), (), (), (), (), (), (), (), (), (), (), (), (), (), (), (), (), (), (), (), (), (), (), (), (), (), (), (), (), (), (), (), (), (), (), (), (), (), (), (), (), (), (), (), (), (), (), (), (), (), (), (), (), (), (), ()]), ((1,), [(1,)])]\n",
      "[(), (1,)]\n"
     ]
    }
   ],
   "source": [
    "S = set([1 ,12, 56])\n",
    "\n",
    "def MAP(t):\n",
    "  res_list = []\n",
    "  for el in t:\n",
    "    if el in S:\n",
    "      res_list.append(el)\n",
    "    res = tuple(res_list)\n",
    "    return (res, res)\n",
    "\n",
    "\n",
    "def REDUCE(key, values: Iterator[NamedTuple]):\n",
    "    return (key, key)\n",
    "\n",
    "def RECORDREADER(count):\n",
    "    return [(random.randint(0, 100), random.randint(0, 100), random.randint(0, 100)) for i in range(count)]\n",
    "\n",
    "def group_by_key(iterable):\n",
    "  t = {}\n",
    "  for (k2, v2) in iterable:\n",
    "    t[k2] = t.get(k2, []) + [v2]\n",
    "  return t.items()\n",
    "\n",
    "record = RECORDREADER(100)\n",
    "print(record)\n",
    "map_output = list(map(lambda x: MAP(x), RECORDREADER(100)))\n",
    "print(map_output)\n",
    "\n",
    "shuffle_output = group_by_key(map_output)\n",
    "shuffle_output = list(shuffle_output)\n",
    "\n",
    "print(shuffle_output)\n",
    "\n",
    "reduce_output = list(map(lambda x: REDUCE(*x)[0], shuffle_output))\n",
    "print(reduce_output)"
   ]
  },
  {
   "cell_type": "markdown",
   "metadata": {
    "id": "7gau6lKXvn2R"
   },
   "source": [
    "### Union (Объединение)\n",
    "\n",
    "**The Map Function:** Превратите каждый входной кортеж $t$ в пару ключ-значение $(t, t)$.\n",
    "\n",
    "**The Reduce Function:** С каждым ключом $t$ будет ассоциировано одно или два значений. В обоих случаях создайте $(t, t)$ в качестве выходного значения."
   ]
  },
  {
   "cell_type": "code",
   "execution_count": 27,
   "metadata": {
    "colab": {
     "base_uri": "https://localhost:8080/"
    },
    "id": "Sns7a5agv3nw",
    "outputId": "713e3347-7ade-4c0a-e45b-d3cbf8996e4f"
   },
   "outputs": [
    {
     "name": "stdout",
     "output_type": "stream",
     "text": [
      "[(83, 40, 70), (94, 56, 14), (89, 61, 96), (92, 42, 27), (50, 75, 99), (36, 23, 99), (19, 92, 66), (36, 71, 98), (98, 91, 1), (79, 51, 52), (62, 7, 81), (36, 82, 94), (52, 90, 16), (84, 10, 18), (4, 60, 59), (77, 20, 73), (50, 34, 100), (70, 79, 66), (3, 58, 40), (87, 12, 25), (86, 17, 54), (93, 7, 2), (54, 14, 53), (30, 98, 5), (13, 75, 26), (8, 73, 39), (33, 90, 41), (69, 72, 49), (78, 80, 32), (9, 41, 77), (15, 37, 68), (42, 11, 3), (52, 34, 93), (20, 0, 22), (22, 2, 34), (55, 23, 21), (65, 2, 46), (86, 25, 6), (89, 18, 21), (46, 31, 27), (11, 60, 8), (80, 73, 41), (6, 77, 31), (43, 8, 89), (72, 75, 95), (94, 22, 53), (12, 39, 59), (18, 27, 65), (62, 10, 88), (39, 83, 83), (14, 96, 85), (96, 81, 47), (65, 46, 40), (97, 55, 82), (32, 19, 25), (18, 57, 48), (86, 40, 34), (90, 40, 71), (82, 11, 19), (18, 4, 41), (18, 41, 55), (26, 48, 18), (65, 77, 59), (95, 53, 61), (18, 28, 92), (56, 27, 91), (72, 23, 79), (87, 6, 34), (85, 74, 58), (62, 78, 70), (51, 34, 30), (82, 83, 78), (89, 18, 79), (42, 90, 14), (22, 79, 95), (66, 6, 95), (30, 98, 39), (7, 39, 11), (38, 91, 69), (33, 95, 28), (2, 99, 36), (78, 2, 86), (92, 52, 78), (36, 97, 67), (36, 11, 25), (11, 12, 99), (24, 35, 10), (96, 60, 47), (57, 3, 57), (59, 0, 57), (95, 74, 41), (48, 59, 45), (29, 71, 70), (58, 6, 83), (45, 36, 71), (23, 57, 22), (96, 95, 68), (9, 6, 14), (95, 72, 88), (80, 97, 17)]\n",
      "[((48, 12, 91), (48, 12, 91)), ((50, 19, 34), (50, 19, 34)), ((61, 2, 24), (61, 2, 24)), ((28, 33, 60), (28, 33, 60)), ((2, 17, 92), (2, 17, 92)), ((30, 33, 20), (30, 33, 20)), ((86, 12, 58), (86, 12, 58)), ((31, 86, 45), (31, 86, 45)), ((65, 45, 25), (65, 45, 25)), ((80, 4, 20), (80, 4, 20)), ((30, 38, 2), (30, 38, 2)), ((74, 81, 20), (74, 81, 20)), ((28, 65, 79), (28, 65, 79)), ((39, 1, 13), (39, 1, 13)), ((1, 7, 36), (1, 7, 36)), ((39, 97, 92), (39, 97, 92)), ((90, 22, 59), (90, 22, 59)), ((15, 7, 86), (15, 7, 86)), ((43, 2, 64), (43, 2, 64)), ((28, 43, 69), (28, 43, 69)), ((18, 52, 64), (18, 52, 64)), ((17, 76, 43), (17, 76, 43)), ((71, 79, 43), (71, 79, 43)), ((26, 91, 16), (26, 91, 16)), ((69, 7, 28), (69, 7, 28)), ((64, 21, 74), (64, 21, 74)), ((73, 50, 7), (73, 50, 7)), ((34, 82, 84), (34, 82, 84)), ((76, 71, 99), (76, 71, 99)), ((54, 33, 39), (54, 33, 39)), ((19, 65, 82), (19, 65, 82)), ((65, 36, 59), (65, 36, 59)), ((38, 13, 32), (38, 13, 32)), ((87, 97, 37), (87, 97, 37)), ((65, 85, 91), (65, 85, 91)), ((66, 71, 75), (66, 71, 75)), ((85, 16, 92), (85, 16, 92)), ((83, 56, 17), (83, 56, 17)), ((40, 16, 16), (40, 16, 16)), ((77, 30, 37), (77, 30, 37)), ((91, 54, 15), (91, 54, 15)), ((87, 72, 94), (87, 72, 94)), ((34, 26, 20), (34, 26, 20)), ((7, 8, 92), (7, 8, 92)), ((11, 86, 70), (11, 86, 70)), ((71, 20, 68), (71, 20, 68)), ((69, 5, 27), (69, 5, 27)), ((37, 17, 72), (37, 17, 72)), ((8, 19, 61), (8, 19, 61)), ((35, 8, 83), (35, 8, 83)), ((27, 5, 83), (27, 5, 83)), ((38, 61, 60), (38, 61, 60)), ((56, 20, 54), (56, 20, 54)), ((37, 64, 34), (37, 64, 34)), ((52, 69, 55), (52, 69, 55)), ((6, 94, 90), (6, 94, 90)), ((69, 24, 62), (69, 24, 62)), ((72, 65, 79), (72, 65, 79)), ((40, 22, 8), (40, 22, 8)), ((13, 60, 29), (13, 60, 29)), ((72, 98, 81), (72, 98, 81)), ((78, 10, 81), (78, 10, 81)), ((45, 7, 44), (45, 7, 44)), ((52, 28, 99), (52, 28, 99)), ((29, 73, 89), (29, 73, 89)), ((65, 14, 87), (65, 14, 87)), ((83, 62, 74), (83, 62, 74)), ((89, 13, 96), (89, 13, 96)), ((75, 92, 88), (75, 92, 88)), ((76, 9, 44), (76, 9, 44)), ((93, 37, 5), (93, 37, 5)), ((39, 20, 53), (39, 20, 53)), ((69, 30, 96), (69, 30, 96)), ((92, 57, 9), (92, 57, 9)), ((6, 23, 91), (6, 23, 91)), ((91, 1, 66), (91, 1, 66)), ((49, 5, 15), (49, 5, 15)), ((87, 26, 75), (87, 26, 75)), ((18, 95, 24), (18, 95, 24)), ((50, 24, 7), (50, 24, 7)), ((39, 60, 64), (39, 60, 64)), ((2, 8, 1), (2, 8, 1)), ((30, 1, 57), (30, 1, 57)), ((54, 73, 43), (54, 73, 43)), ((88, 47, 64), (88, 47, 64)), ((41, 3, 12), (41, 3, 12)), ((79, 48, 51), (79, 48, 51)), ((50, 35, 95), (50, 35, 95)), ((4, 34, 58), (4, 34, 58)), ((51, 8, 93), (51, 8, 93)), ((12, 35, 16), (12, 35, 16)), ((2, 45, 35), (2, 45, 35)), ((12, 99, 18), (12, 99, 18)), ((86, 86, 38), (86, 86, 38)), ((18, 0, 49), (18, 0, 49)), ((87, 83, 81), (87, 83, 81)), ((97, 6, 73), (97, 6, 73)), ((55, 26, 47), (55, 26, 47)), ((42, 20, 38), (42, 20, 38)), ((11, 0, 20), (11, 0, 20))]\n",
      "[((48, 12, 91), [(48, 12, 91)]), ((50, 19, 34), [(50, 19, 34)]), ((61, 2, 24), [(61, 2, 24)]), ((28, 33, 60), [(28, 33, 60)]), ((2, 17, 92), [(2, 17, 92)]), ((30, 33, 20), [(30, 33, 20)]), ((86, 12, 58), [(86, 12, 58)]), ((31, 86, 45), [(31, 86, 45)]), ((65, 45, 25), [(65, 45, 25)]), ((80, 4, 20), [(80, 4, 20)]), ((30, 38, 2), [(30, 38, 2)]), ((74, 81, 20), [(74, 81, 20)]), ((28, 65, 79), [(28, 65, 79)]), ((39, 1, 13), [(39, 1, 13)]), ((1, 7, 36), [(1, 7, 36)]), ((39, 97, 92), [(39, 97, 92)]), ((90, 22, 59), [(90, 22, 59)]), ((15, 7, 86), [(15, 7, 86)]), ((43, 2, 64), [(43, 2, 64)]), ((28, 43, 69), [(28, 43, 69)]), ((18, 52, 64), [(18, 52, 64)]), ((17, 76, 43), [(17, 76, 43)]), ((71, 79, 43), [(71, 79, 43)]), ((26, 91, 16), [(26, 91, 16)]), ((69, 7, 28), [(69, 7, 28)]), ((64, 21, 74), [(64, 21, 74)]), ((73, 50, 7), [(73, 50, 7)]), ((34, 82, 84), [(34, 82, 84)]), ((76, 71, 99), [(76, 71, 99)]), ((54, 33, 39), [(54, 33, 39)]), ((19, 65, 82), [(19, 65, 82)]), ((65, 36, 59), [(65, 36, 59)]), ((38, 13, 32), [(38, 13, 32)]), ((87, 97, 37), [(87, 97, 37)]), ((65, 85, 91), [(65, 85, 91)]), ((66, 71, 75), [(66, 71, 75)]), ((85, 16, 92), [(85, 16, 92)]), ((83, 56, 17), [(83, 56, 17)]), ((40, 16, 16), [(40, 16, 16)]), ((77, 30, 37), [(77, 30, 37)]), ((91, 54, 15), [(91, 54, 15)]), ((87, 72, 94), [(87, 72, 94)]), ((34, 26, 20), [(34, 26, 20)]), ((7, 8, 92), [(7, 8, 92)]), ((11, 86, 70), [(11, 86, 70)]), ((71, 20, 68), [(71, 20, 68)]), ((69, 5, 27), [(69, 5, 27)]), ((37, 17, 72), [(37, 17, 72)]), ((8, 19, 61), [(8, 19, 61)]), ((35, 8, 83), [(35, 8, 83)]), ((27, 5, 83), [(27, 5, 83)]), ((38, 61, 60), [(38, 61, 60)]), ((56, 20, 54), [(56, 20, 54)]), ((37, 64, 34), [(37, 64, 34)]), ((52, 69, 55), [(52, 69, 55)]), ((6, 94, 90), [(6, 94, 90)]), ((69, 24, 62), [(69, 24, 62)]), ((72, 65, 79), [(72, 65, 79)]), ((40, 22, 8), [(40, 22, 8)]), ((13, 60, 29), [(13, 60, 29)]), ((72, 98, 81), [(72, 98, 81)]), ((78, 10, 81), [(78, 10, 81)]), ((45, 7, 44), [(45, 7, 44)]), ((52, 28, 99), [(52, 28, 99)]), ((29, 73, 89), [(29, 73, 89)]), ((65, 14, 87), [(65, 14, 87)]), ((83, 62, 74), [(83, 62, 74)]), ((89, 13, 96), [(89, 13, 96)]), ((75, 92, 88), [(75, 92, 88)]), ((76, 9, 44), [(76, 9, 44)]), ((93, 37, 5), [(93, 37, 5)]), ((39, 20, 53), [(39, 20, 53)]), ((69, 30, 96), [(69, 30, 96)]), ((92, 57, 9), [(92, 57, 9)]), ((6, 23, 91), [(6, 23, 91)]), ((91, 1, 66), [(91, 1, 66)]), ((49, 5, 15), [(49, 5, 15)]), ((87, 26, 75), [(87, 26, 75)]), ((18, 95, 24), [(18, 95, 24)]), ((50, 24, 7), [(50, 24, 7)]), ((39, 60, 64), [(39, 60, 64)]), ((2, 8, 1), [(2, 8, 1)]), ((30, 1, 57), [(30, 1, 57)]), ((54, 73, 43), [(54, 73, 43)]), ((88, 47, 64), [(88, 47, 64)]), ((41, 3, 12), [(41, 3, 12)]), ((79, 48, 51), [(79, 48, 51)]), ((50, 35, 95), [(50, 35, 95)]), ((4, 34, 58), [(4, 34, 58)]), ((51, 8, 93), [(51, 8, 93)]), ((12, 35, 16), [(12, 35, 16)]), ((2, 45, 35), [(2, 45, 35)]), ((12, 99, 18), [(12, 99, 18)]), ((86, 86, 38), [(86, 86, 38)]), ((18, 0, 49), [(18, 0, 49)]), ((87, 83, 81), [(87, 83, 81)]), ((97, 6, 73), [(97, 6, 73)]), ((55, 26, 47), [(55, 26, 47)]), ((42, 20, 38), [(42, 20, 38)]), ((11, 0, 20), [(11, 0, 20)])]\n",
      "[(48, 12, 91), (50, 19, 34), (61, 2, 24), (28, 33, 60), (2, 17, 92), (30, 33, 20), (86, 12, 58), (31, 86, 45), (65, 45, 25), (80, 4, 20), (30, 38, 2), (74, 81, 20), (28, 65, 79), (39, 1, 13), (1, 7, 36), (39, 97, 92), (90, 22, 59), (15, 7, 86), (43, 2, 64), (28, 43, 69), (18, 52, 64), (17, 76, 43), (71, 79, 43), (26, 91, 16), (69, 7, 28), (64, 21, 74), (73, 50, 7), (34, 82, 84), (76, 71, 99), (54, 33, 39), (19, 65, 82), (65, 36, 59), (38, 13, 32), (87, 97, 37), (65, 85, 91), (66, 71, 75), (85, 16, 92), (83, 56, 17), (40, 16, 16), (77, 30, 37), (91, 54, 15), (87, 72, 94), (34, 26, 20), (7, 8, 92), (11, 86, 70), (71, 20, 68), (69, 5, 27), (37, 17, 72), (8, 19, 61), (35, 8, 83), (27, 5, 83), (38, 61, 60), (56, 20, 54), (37, 64, 34), (52, 69, 55), (6, 94, 90), (69, 24, 62), (72, 65, 79), (40, 22, 8), (13, 60, 29), (72, 98, 81), (78, 10, 81), (45, 7, 44), (52, 28, 99), (29, 73, 89), (65, 14, 87), (83, 62, 74), (89, 13, 96), (75, 92, 88), (76, 9, 44), (93, 37, 5), (39, 20, 53), (69, 30, 96), (92, 57, 9), (6, 23, 91), (91, 1, 66), (49, 5, 15), (87, 26, 75), (18, 95, 24), (50, 24, 7), (39, 60, 64), (2, 8, 1), (30, 1, 57), (54, 73, 43), (88, 47, 64), (41, 3, 12), (79, 48, 51), (50, 35, 95), (4, 34, 58), (51, 8, 93), (12, 35, 16), (2, 45, 35), (12, 99, 18), (86, 86, 38), (18, 0, 49), (87, 83, 81), (97, 6, 73), (55, 26, 47), (42, 20, 38), (11, 0, 20)]\n"
     ]
    }
   ],
   "source": [
    "def MAP(t):\n",
    "  return (t, t)\n",
    "\n",
    "\n",
    "def REDUCE(key, values: Iterator[NamedTuple]):\n",
    "    return (key, key)\n",
    "\n",
    "def RECORDREADER(count):\n",
    "    return [(random.randint(0, 100), random.randint(0, 100), random.randint(0, 100)) for i in range(count)]\n",
    "\n",
    "def group_by_key(iterable):\n",
    "  t = {}\n",
    "  for (k2, v2) in iterable:\n",
    "    t[k2] = t.get(k2, []) + [v2]\n",
    "  return t.items()\n",
    "\n",
    "record = RECORDREADER(100)\n",
    "print(record)\n",
    "map_output = list(map(lambda x: MAP(x), RECORDREADER(100)))\n",
    "print(map_output)\n",
    "\n",
    "shuffle_output = group_by_key(map_output)\n",
    "shuffle_output = list(shuffle_output)\n",
    "\n",
    "print(shuffle_output)\n",
    "\n",
    "reduce_output = list(map(lambda x: REDUCE(*x)[0], shuffle_output))\n",
    "print(reduce_output)"
   ]
  },
  {
   "cell_type": "markdown",
   "metadata": {
    "id": "dQ8TuEbjv4J8"
   },
   "source": [
    "### Intersection (Пересечение)\n",
    "\n",
    "**The Map Function:** Превратите каждый кортеж $t$ в пары ключ-значение $(t, t)$.\n",
    "\n",
    "**The Reduce Function:** Если для ключа $t$ есть список из двух элементов $[t, t]$ $-$ создайте пару $(t, t)$. Иначе, ничего не создавайте."
   ]
  },
  {
   "cell_type": "code",
   "execution_count": 28,
   "metadata": {
    "colab": {
     "base_uri": "https://localhost:8080/"
    },
    "id": "XKlBZh4IwERR",
    "outputId": "94358799-b501-47e1-f257-af5b97e3adb5"
   },
   "outputs": [
    {
     "name": "stdout",
     "output_type": "stream",
     "text": [
      "[(2, 1), (3, 0), (0, 3), (0, 1), (0, 1), (0, 1), (2, 1), (1, 2), (1, 3), (2, 0), (0, 1), (2, 3), (0, 2), (1, 2), (3, 2), (2, 1), (3, 2), (1, 2), (1, 0), (3, 1), (2, 3), (1, 2), (3, 2), (3, 1), (0, 1), (0, 3), (1, 3), (3, 1), (3, 0), (3, 2), (0, 2), (1, 2), (0, 2), (2, 0), (0, 3), (2, 0), (3, 0), (2, 3), (0, 3), (1, 3), (0, 2), (1, 1), (3, 3), (1, 0), (0, 0), (0, 0), (0, 2), (2, 1), (1, 1), (0, 2), (0, 2), (3, 0), (1, 2), (3, 2), (3, 1), (2, 2), (1, 1), (3, 1), (1, 1), (2, 0), (1, 3), (2, 3), (1, 0), (2, 0), (2, 1), (1, 0), (1, 2), (1, 2), (0, 1), (2, 2), (2, 1), (1, 3), (1, 0), (2, 1), (0, 1), (3, 1), (0, 2), (2, 3), (3, 1), (0, 3), (3, 1), (2, 3), (3, 1), (1, 0), (0, 1), (0, 3), (0, 0), (0, 3), (0, 2), (3, 0), (1, 2), (3, 3), (3, 0), (3, 2), (2, 2), (1, 3), (2, 0), (2, 1), (3, 0), (0, 1)]\n",
      "[((2, 1), (2, 1)), ((0, 2), (0, 2)), ((3, 3), (3, 3)), ((0, 2), (0, 2)), ((2, 3), (2, 3)), ((0, 2), (0, 2)), ((1, 3), (1, 3)), ((3, 2), (3, 2)), ((0, 3), (0, 3)), ((0, 3), (0, 3)), ((3, 2), (3, 2)), ((3, 1), (3, 1)), ((3, 1), (3, 1)), ((0, 3), (0, 3)), ((1, 1), (1, 1)), ((0, 2), (0, 2)), ((2, 2), (2, 2)), ((1, 1), (1, 1)), ((1, 1), (1, 1)), ((3, 1), (3, 1)), ((2, 2), (2, 2)), ((1, 2), (1, 2)), ((3, 2), (3, 2)), ((3, 1), (3, 1)), ((2, 3), (2, 3)), ((0, 2), (0, 2)), ((3, 0), (3, 0)), ((0, 3), (0, 3)), ((2, 1), (2, 1)), ((1, 1), (1, 1)), ((3, 1), (3, 1)), ((0, 3), (0, 3)), ((1, 0), (1, 0)), ((3, 3), (3, 3)), ((2, 2), (2, 2)), ((0, 0), (0, 0)), ((3, 1), (3, 1)), ((2, 1), (2, 1)), ((1, 3), (1, 3)), ((0, 2), (0, 2)), ((0, 1), (0, 1)), ((2, 0), (2, 0)), ((1, 1), (1, 1)), ((3, 2), (3, 2)), ((1, 0), (1, 0)), ((3, 3), (3, 3)), ((0, 2), (0, 2)), ((0, 3), (0, 3)), ((3, 1), (3, 1)), ((2, 2), (2, 2)), ((1, 2), (1, 2)), ((1, 3), (1, 3)), ((1, 2), (1, 2)), ((2, 0), (2, 0)), ((1, 1), (1, 1)), ((0, 1), (0, 1)), ((0, 1), (0, 1)), ((3, 2), (3, 2)), ((3, 3), (3, 3)), ((1, 0), (1, 0)), ((0, 1), (0, 1)), ((3, 2), (3, 2)), ((1, 2), (1, 2)), ((0, 2), (0, 2)), ((1, 2), (1, 2)), ((2, 1), (2, 1)), ((2, 2), (2, 2)), ((2, 2), (2, 2)), ((1, 2), (1, 2)), ((1, 2), (1, 2)), ((3, 3), (3, 3)), ((0, 0), (0, 0)), ((0, 2), (0, 2)), ((3, 1), (3, 1)), ((2, 0), (2, 0)), ((3, 3), (3, 3)), ((1, 2), (1, 2)), ((2, 0), (2, 0)), ((1, 0), (1, 0)), ((0, 0), (0, 0)), ((0, 1), (0, 1)), ((0, 2), (0, 2)), ((0, 2), (0, 2)), ((2, 0), (2, 0)), ((1, 2), (1, 2)), ((1, 1), (1, 1)), ((3, 0), (3, 0)), ((0, 3), (0, 3)), ((1, 1), (1, 1)), ((0, 0), (0, 0)), ((1, 0), (1, 0)), ((3, 3), (3, 3)), ((1, 0), (1, 0)), ((0, 3), (0, 3)), ((1, 0), (1, 0)), ((3, 0), (3, 0)), ((3, 2), (3, 2)), ((3, 2), (3, 2)), ((2, 0), (2, 0)), ((1, 0), (1, 0))]\n",
      "[((2, 1), [(2, 1), (2, 1), (2, 1), (2, 1)]), ((0, 2), [(0, 2), (0, 2), (0, 2), (0, 2), (0, 2), (0, 2), (0, 2), (0, 2), (0, 2), (0, 2), (0, 2)]), ((3, 3), [(3, 3), (3, 3), (3, 3), (3, 3), (3, 3), (3, 3), (3, 3)]), ((2, 3), [(2, 3), (2, 3)]), ((1, 3), [(1, 3), (1, 3), (1, 3)]), ((3, 2), [(3, 2), (3, 2), (3, 2), (3, 2), (3, 2), (3, 2), (3, 2), (3, 2)]), ((0, 3), [(0, 3), (0, 3), (0, 3), (0, 3), (0, 3), (0, 3), (0, 3), (0, 3)]), ((3, 1), [(3, 1), (3, 1), (3, 1), (3, 1), (3, 1), (3, 1), (3, 1), (3, 1)]), ((1, 1), [(1, 1), (1, 1), (1, 1), (1, 1), (1, 1), (1, 1), (1, 1), (1, 1)]), ((2, 2), [(2, 2), (2, 2), (2, 2), (2, 2), (2, 2), (2, 2)]), ((1, 2), [(1, 2), (1, 2), (1, 2), (1, 2), (1, 2), (1, 2), (1, 2), (1, 2), (1, 2)]), ((3, 0), [(3, 0), (3, 0), (3, 0)]), ((1, 0), [(1, 0), (1, 0), (1, 0), (1, 0), (1, 0), (1, 0), (1, 0), (1, 0)]), ((0, 0), [(0, 0), (0, 0), (0, 0), (0, 0)]), ((0, 1), [(0, 1), (0, 1), (0, 1), (0, 1), (0, 1)]), ((2, 0), [(2, 0), (2, 0), (2, 0), (2, 0), (2, 0), (2, 0)])]\n",
      "[(2, 3)]\n"
     ]
    }
   ],
   "source": [
    "def MAP(t):\n",
    "  return (t, t)\n",
    "\n",
    "\n",
    "def REDUCE(key, values: Iterator[NamedTuple]):\n",
    "  if len(values) == 2:\n",
    "    return (key, key)\n",
    "\n",
    "def RECORDREADER(count):\n",
    "    return [(random.randint(0, 3), random.randint(0, 3)) for i in range(count)]\n",
    "\n",
    "def group_by_key(iterable):\n",
    "  t = {}\n",
    "  for (k2, v2) in iterable:\n",
    "    t[k2] = t.get(k2, []) + [v2]\n",
    "  return t.items()\n",
    "\n",
    "record = RECORDREADER(100)\n",
    "print(record)\n",
    "map_output = list(map(lambda x: MAP(x), RECORDREADER(100)))\n",
    "print(map_output)\n",
    "\n",
    "shuffle_output = group_by_key(map_output)\n",
    "shuffle_output = list(shuffle_output)\n",
    "\n",
    "print(shuffle_output)\n",
    "\n",
    "reduce_output = [el[0] for el in list(map(lambda x: REDUCE(*x), shuffle_output)) if el is not None]\n",
    "print(reduce_output)"
   ]
  },
  {
   "cell_type": "markdown",
   "metadata": {
    "id": "AVOpqoY3wE5k"
   },
   "source": [
    "### Difference (Разница)\n",
    "\n",
    "**The Map Function:** Для кортежа $t \\in R$, создайте пару $(t, R)$, и для кортежа $t \\in S$, создайте пару $(t, S)$. Задумка заключается в том, чтобы значение пары было именем отношения $R$ or $S$, которому принадлежит кортеж (а лучше, единичный бит, по которому можно два отношения различить $R$ or $S$), а не весь набор атрибутов отношения.\n",
    "\n",
    "**The Reduce Function:** Для каждого ключа $t$, если соответствующее значение является списком $[R]$, создайте пару $(t, t)$. В иных случаях не предпринимайте действий."
   ]
  },
  {
   "cell_type": "code",
   "execution_count": 29,
   "metadata": {
    "colab": {
     "base_uri": "https://localhost:8080/"
    },
    "id": "QE_AC09lwZIZ",
    "outputId": "8672fa9e-9038-4773-f873-b31ed0910ff4"
   },
   "outputs": [
    {
     "name": "stdout",
     "output_type": "stream",
     "text": [
      "[<__main__.Tuple object at 0x000002898DAE6220>, <__main__.Tuple object at 0x000002898C6EE580>, <__main__.Tuple object at 0x000002898DAEA6A0>, <__main__.Tuple object at 0x000002898DAEA280>, <__main__.Tuple object at 0x000002898DAEA3D0>, <__main__.Tuple object at 0x000002898DAEA310>, <__main__.Tuple object at 0x000002898DAEA760>, <__main__.Tuple object at 0x000002898DAEAA30>, <__main__.Tuple object at 0x000002898DAEA490>, <__main__.Tuple object at 0x000002898DAEA3A0>, <__main__.Tuple object at 0x000002898DAEABE0>, <__main__.Tuple object at 0x000002898DAEA9D0>, <__main__.Tuple object at 0x000002898DAEAF40>, <__main__.Tuple object at 0x000002898DAEAC40>, <__main__.Tuple object at 0x000002898DAEAB50>, <__main__.Tuple object at 0x000002898DAEA8E0>, <__main__.Tuple object at 0x000002898DAEA910>, <__main__.Tuple object at 0x000002898DAEA1C0>, <__main__.Tuple object at 0x000002898DAEAB80>, <__main__.Tuple object at 0x000002898DAEABB0>, <__main__.Tuple object at 0x000002898DAEA970>, <__main__.Tuple object at 0x000002898DAEA5B0>, <__main__.Tuple object at 0x000002898DAEAAC0>, <__main__.Tuple object at 0x000002898DAEAAF0>, <__main__.Tuple object at 0x000002898DAEAD60>, <__main__.Tuple object at 0x000002898DAEACD0>, <__main__.Tuple object at 0x000002898DAEAE80>, <__main__.Tuple object at 0x000002898DAEAFD0>, <__main__.Tuple object at 0x000002898DAEA220>, <__main__.Tuple object at 0x000002898DAEAF10>, <__main__.Tuple object at 0x000002898DAEA7F0>, <__main__.Tuple object at 0x000002898DAEA640>, <__main__.Tuple object at 0x000002898DAEADC0>, <__main__.Tuple object at 0x000002898DAEA580>, <__main__.Tuple object at 0x000002898DAEA460>, <__main__.Tuple object at 0x000002898DAEA4C0>, <__main__.Tuple object at 0x000002898C67A1C0>, <__main__.Tuple object at 0x000002898C5FF460>, <__main__.Tuple object at 0x000002898C5FFD60>, <__main__.Tuple object at 0x000002898C5FF9A0>, <__main__.Tuple object at 0x000002898C5FF130>, <__main__.Tuple object at 0x000002898C5FF040>, <__main__.Tuple object at 0x000002898C5FFE20>, <__main__.Tuple object at 0x000002898C6998B0>, <__main__.Tuple object at 0x000002898C699FD0>, <__main__.Tuple object at 0x000002898C699F40>, <__main__.Tuple object at 0x000002898C699D00>, <__main__.Tuple object at 0x000002898DAF05B0>, <__main__.Tuple object at 0x000002898DAF0040>, <__main__.Tuple object at 0x000002898DAF0520>, <__main__.Tuple object at 0x000002898DAF06D0>, <__main__.Tuple object at 0x000002898DAF02B0>, <__main__.Tuple object at 0x000002898DAF00A0>, <__main__.Tuple object at 0x000002898DAF0700>, <__main__.Tuple object at 0x000002898DAF0760>, <__main__.Tuple object at 0x000002898DAF06A0>, <__main__.Tuple object at 0x000002898DAF08B0>, <__main__.Tuple object at 0x000002898DAF0160>, <__main__.Tuple object at 0x000002898DAF0910>, <__main__.Tuple object at 0x000002898DAF07F0>, <__main__.Tuple object at 0x000002898DAF0670>, <__main__.Tuple object at 0x000002898DAF0E20>, <__main__.Tuple object at 0x000002898DAF0DC0>, <__main__.Tuple object at 0x000002898DAF0880>, <__main__.Tuple object at 0x000002898DAF0490>, <__main__.Tuple object at 0x000002898DAF05E0>, <__main__.Tuple object at 0x000002898DAF0550>, <__main__.Tuple object at 0x000002898DAF0940>, <__main__.Tuple object at 0x000002898DAF0430>, <__main__.Tuple object at 0x000002898DAF0640>, <__main__.Tuple object at 0x000002898DAF0E50>, <__main__.Tuple object at 0x000002898DAF0C70>, <__main__.Tuple object at 0x000002898DAF0250>, <__main__.Tuple object at 0x000002898DAF0790>, <__main__.Tuple object at 0x000002898DACF760>, <__main__.Tuple object at 0x000002898DACF310>, <__main__.Tuple object at 0x000002898DACF0A0>, <__main__.Tuple object at 0x000002898DACF430>, <__main__.Tuple object at 0x000002898DACFEE0>, <__main__.Tuple object at 0x000002898DACF700>, <__main__.Tuple object at 0x000002898DACF1C0>, <__main__.Tuple object at 0x000002898DACF970>, <__main__.Tuple object at 0x000002898DACF490>, <__main__.Tuple object at 0x000002898DACFA60>, <__main__.Tuple object at 0x000002898DACF280>, <__main__.Tuple object at 0x000002898DACF7C0>, <__main__.Tuple object at 0x000002898DACF670>, <__main__.Tuple object at 0x000002898DACFF70>, <__main__.Tuple object at 0x000002898DACF250>, <__main__.Tuple object at 0x000002898DACF580>, <__main__.Tuple object at 0x000002898DACFDF0>, <__main__.Tuple object at 0x000002898DACF820>, <__main__.Tuple object at 0x000002898DACFE20>, <__main__.Tuple object at 0x000002898DACF610>, <__main__.Tuple object at 0x000002898DACF4F0>, <__main__.Tuple object at 0x000002898DACF850>, <__main__.Tuple object at 0x000002898DACF880>, <__main__.Tuple object at 0x000002898DACFB80>, <__main__.Tuple object at 0x000002898DACFD00>, <__main__.Tuple object at 0x000002898DACF2E0>]\n",
      "[(((2, 1), (1, 0), (2, 0)), 2), (((2, 0), (1, 1), (0, 3)), 2), (((3, 3), (2, 2), (0, 2)), 2), (((0, 3), (0, 2), (0, 0)), 1), (((1, 2), (3, 0), (3, 3)), 2), (((1, 0), (0, 2), (0, 2)), 2), (((0, 3), (1, 1), (0, 3)), 2), (((1, 3), (1, 0), (0, 1)), 2), (((2, 2), (0, 1), (3, 2)), 1), (((2, 0), (0, 0), (1, 2)), 1), (((2, 3), (3, 1), (2, 3)), 1), (((0, 2), (1, 2), (1, 2)), 1), (((2, 3), (2, 0), (1, 0)), 2), (((0, 1), (0, 1), (3, 2)), 1), (((1, 1), (1, 0), (2, 0)), 1), (((2, 3), (0, 3), (3, 3)), 1), (((2, 0), (0, 2), (1, 0)), 1), (((3, 3), (1, 0), (3, 0)), 2), (((0, 2), (1, 1), (2, 3)), 2), (((0, 3), (2, 2), (1, 2)), 1), (((1, 2), (3, 2), (0, 2)), 2), (((0, 1), (1, 0), (0, 0)), 1), (((0, 2), (1, 1), (3, 2)), 2), (((3, 2), (3, 2), (2, 1)), 1), (((3, 2), (0, 3), (3, 0)), 2), (((1, 3), (1, 3), (0, 2)), 2), (((1, 3), (2, 0), (3, 3)), 2), (((2, 3), (1, 2), (2, 0)), 2), (((0, 3), (1, 1), (3, 1)), 2), (((1, 0), (0, 0), (3, 3)), 2), (((1, 3), (1, 0), (3, 2)), 1), (((3, 1), (0, 1), (1, 2)), 2), (((1, 0), (2, 1), (1, 2)), 1), (((3, 2), (3, 2), (0, 3)), 1), (((3, 0), (1, 2), (3, 2)), 1), (((2, 0), (3, 3), (3, 0)), 2), (((0, 0), (3, 2), (3, 1)), 2), (((0, 0), (2, 1), (0, 1)), 2), (((3, 1), (3, 3), (2, 2)), 2), (((2, 0), (0, 2), (3, 1)), 1), (((2, 3), (1, 3), (3, 0)), 2), (((0, 3), (0, 3), (2, 3)), 1), (((2, 0), (1, 0), (1, 0)), 1), (((3, 2), (3, 3), (1, 2)), 1), (((1, 0), (2, 3), (3, 0)), 1), (((1, 1), (1, 0), (3, 2)), 2), (((2, 1), (0, 2), (2, 2)), 2), (((1, 2), (2, 2), (3, 3)), 1), (((0, 2), (3, 0), (1, 0)), 2), (((0, 3), (3, 0), (3, 0)), 1), (((1, 2), (1, 2), (3, 2)), 2), (((2, 0), (3, 3), (2, 3)), 1), (((0, 2), (1, 2), (2, 2)), 1), (((2, 1), (1, 1), (1, 3)), 2), (((0, 3), (1, 0), (1, 2)), 1), (((1, 0), (0, 2), (1, 0)), 2), (((0, 2), (3, 2), (3, 3)), 1), (((0, 3), (3, 1), (0, 2)), 1), (((0, 3), (3, 0), (3, 1)), 2), (((3, 0), (2, 1), (1, 1)), 2), (((2, 2), (1, 1), (0, 2)), 2), (((0, 3), (2, 2), (3, 1)), 1), (((3, 2), (3, 1), (0, 0)), 1), (((0, 3), (1, 0), (3, 3)), 1), (((1, 2), (2, 1), (0, 2)), 1), (((2, 0), (3, 1), (1, 0)), 2), (((2, 3), (0, 2), (1, 1)), 2), (((2, 0), (2, 1), (3, 3)), 1), (((2, 3), (0, 3), (3, 1)), 1), (((2, 3), (2, 3), (1, 3)), 2), (((1, 0), (2, 0), (1, 3)), 1), (((1, 3), (2, 3), (2, 1)), 1), (((1, 0), (3, 3), (3, 3)), 2), (((2, 1), (1, 3), (2, 1)), 2), (((0, 3), (3, 1), (2, 1)), 2), (((1, 2), (3, 0), (2, 3)), 2), (((2, 2), (2, 0), (3, 0)), 1), (((2, 2), (1, 1), (1, 2)), 2), (((0, 3), (2, 2), (3, 2)), 2), (((3, 1), (2, 2), (3, 1)), 2), (((3, 3), (2, 2), (1, 0)), 1), (((0, 1), (0, 0), (0, 1)), 2), (((3, 2), (2, 0), (2, 2)), 1), (((1, 2), (3, 1), (2, 1)), 1), (((3, 0), (2, 2), (1, 1)), 2), (((0, 1), (0, 0), (0, 1)), 1), (((0, 2), (0, 1), (3, 2)), 2), (((0, 1), (0, 0), (2, 1)), 2), (((2, 0), (3, 2), (1, 2)), 1), (((3, 2), (1, 2), (3, 3)), 1), (((3, 3), (2, 2), (1, 1)), 2), (((1, 2), (1, 3), (0, 0)), 1), (((3, 1), (1, 2), (3, 1)), 2), (((2, 3), (3, 2), (1, 0)), 2), (((2, 1), (3, 0), (3, 0)), 2), (((2, 1), (0, 2), (1, 1)), 2), (((2, 3), (2, 3), (1, 0)), 1), (((3, 2), (0, 2), (3, 2)), 1), (((3, 0), (0, 3), (3, 3)), 2), (((2, 1), (3, 0), (1, 2)), 1)]\n",
      "[(((2, 1), (1, 0), (2, 0)), [2]), (((2, 0), (1, 1), (0, 3)), [2]), (((3, 3), (2, 2), (0, 2)), [2]), (((0, 3), (0, 2), (0, 0)), [1]), (((1, 2), (3, 0), (3, 3)), [2]), (((1, 0), (0, 2), (0, 2)), [2]), (((0, 3), (1, 1), (0, 3)), [2]), (((1, 3), (1, 0), (0, 1)), [2]), (((2, 2), (0, 1), (3, 2)), [1]), (((2, 0), (0, 0), (1, 2)), [1]), (((2, 3), (3, 1), (2, 3)), [1]), (((0, 2), (1, 2), (1, 2)), [1]), (((2, 3), (2, 0), (1, 0)), [2]), (((0, 1), (0, 1), (3, 2)), [1]), (((1, 1), (1, 0), (2, 0)), [1]), (((2, 3), (0, 3), (3, 3)), [1]), (((2, 0), (0, 2), (1, 0)), [1]), (((3, 3), (1, 0), (3, 0)), [2]), (((0, 2), (1, 1), (2, 3)), [2]), (((0, 3), (2, 2), (1, 2)), [1]), (((1, 2), (3, 2), (0, 2)), [2]), (((0, 1), (1, 0), (0, 0)), [1]), (((0, 2), (1, 1), (3, 2)), [2]), (((3, 2), (3, 2), (2, 1)), [1]), (((3, 2), (0, 3), (3, 0)), [2]), (((1, 3), (1, 3), (0, 2)), [2]), (((1, 3), (2, 0), (3, 3)), [2]), (((2, 3), (1, 2), (2, 0)), [2]), (((0, 3), (1, 1), (3, 1)), [2]), (((1, 0), (0, 0), (3, 3)), [2]), (((1, 3), (1, 0), (3, 2)), [1]), (((3, 1), (0, 1), (1, 2)), [2]), (((1, 0), (2, 1), (1, 2)), [1]), (((3, 2), (3, 2), (0, 3)), [1]), (((3, 0), (1, 2), (3, 2)), [1]), (((2, 0), (3, 3), (3, 0)), [2]), (((0, 0), (3, 2), (3, 1)), [2]), (((0, 0), (2, 1), (0, 1)), [2]), (((3, 1), (3, 3), (2, 2)), [2]), (((2, 0), (0, 2), (3, 1)), [1]), (((2, 3), (1, 3), (3, 0)), [2]), (((0, 3), (0, 3), (2, 3)), [1]), (((2, 0), (1, 0), (1, 0)), [1]), (((3, 2), (3, 3), (1, 2)), [1]), (((1, 0), (2, 3), (3, 0)), [1]), (((1, 1), (1, 0), (3, 2)), [2]), (((2, 1), (0, 2), (2, 2)), [2]), (((1, 2), (2, 2), (3, 3)), [1]), (((0, 2), (3, 0), (1, 0)), [2]), (((0, 3), (3, 0), (3, 0)), [1]), (((1, 2), (1, 2), (3, 2)), [2]), (((2, 0), (3, 3), (2, 3)), [1]), (((0, 2), (1, 2), (2, 2)), [1]), (((2, 1), (1, 1), (1, 3)), [2]), (((0, 3), (1, 0), (1, 2)), [1]), (((1, 0), (0, 2), (1, 0)), [2]), (((0, 2), (3, 2), (3, 3)), [1]), (((0, 3), (3, 1), (0, 2)), [1]), (((0, 3), (3, 0), (3, 1)), [2]), (((3, 0), (2, 1), (1, 1)), [2]), (((2, 2), (1, 1), (0, 2)), [2]), (((0, 3), (2, 2), (3, 1)), [1]), (((3, 2), (3, 1), (0, 0)), [1]), (((0, 3), (1, 0), (3, 3)), [1]), (((1, 2), (2, 1), (0, 2)), [1]), (((2, 0), (3, 1), (1, 0)), [2]), (((2, 3), (0, 2), (1, 1)), [2]), (((2, 0), (2, 1), (3, 3)), [1]), (((2, 3), (0, 3), (3, 1)), [1]), (((2, 3), (2, 3), (1, 3)), [2]), (((1, 0), (2, 0), (1, 3)), [1]), (((1, 3), (2, 3), (2, 1)), [1]), (((1, 0), (3, 3), (3, 3)), [2]), (((2, 1), (1, 3), (2, 1)), [2]), (((0, 3), (3, 1), (2, 1)), [2]), (((1, 2), (3, 0), (2, 3)), [2]), (((2, 2), (2, 0), (3, 0)), [1]), (((2, 2), (1, 1), (1, 2)), [2]), (((0, 3), (2, 2), (3, 2)), [2]), (((3, 1), (2, 2), (3, 1)), [2]), (((3, 3), (2, 2), (1, 0)), [1]), (((0, 1), (0, 0), (0, 1)), [2, 1]), (((3, 2), (2, 0), (2, 2)), [1]), (((1, 2), (3, 1), (2, 1)), [1]), (((3, 0), (2, 2), (1, 1)), [2]), (((0, 2), (0, 1), (3, 2)), [2]), (((0, 1), (0, 0), (2, 1)), [2]), (((2, 0), (3, 2), (1, 2)), [1]), (((3, 2), (1, 2), (3, 3)), [1]), (((3, 3), (2, 2), (1, 1)), [2]), (((1, 2), (1, 3), (0, 0)), [1]), (((3, 1), (1, 2), (3, 1)), [2]), (((2, 3), (3, 2), (1, 0)), [2]), (((2, 1), (3, 0), (3, 0)), [2]), (((2, 1), (0, 2), (1, 1)), [2]), (((2, 3), (2, 3), (1, 0)), [1]), (((3, 2), (0, 2), (3, 2)), [1]), (((3, 0), (0, 3), (3, 3)), [2]), (((2, 1), (3, 0), (1, 2)), [1])]\n",
      "[((0, 3), (0, 2), (0, 0)), ((2, 2), (0, 1), (3, 2)), ((2, 0), (0, 0), (1, 2)), ((2, 3), (3, 1), (2, 3)), ((0, 2), (1, 2), (1, 2)), ((0, 1), (0, 1), (3, 2)), ((1, 1), (1, 0), (2, 0)), ((2, 3), (0, 3), (3, 3)), ((2, 0), (0, 2), (1, 0)), ((0, 3), (2, 2), (1, 2)), ((0, 1), (1, 0), (0, 0)), ((3, 2), (3, 2), (2, 1)), ((1, 3), (1, 0), (3, 2)), ((1, 0), (2, 1), (1, 2)), ((3, 2), (3, 2), (0, 3)), ((3, 0), (1, 2), (3, 2)), ((2, 0), (0, 2), (3, 1)), ((0, 3), (0, 3), (2, 3)), ((2, 0), (1, 0), (1, 0)), ((3, 2), (3, 3), (1, 2)), ((1, 0), (2, 3), (3, 0)), ((1, 2), (2, 2), (3, 3)), ((0, 3), (3, 0), (3, 0)), ((2, 0), (3, 3), (2, 3)), ((0, 2), (1, 2), (2, 2)), ((0, 3), (1, 0), (1, 2)), ((0, 2), (3, 2), (3, 3)), ((0, 3), (3, 1), (0, 2)), ((0, 3), (2, 2), (3, 1)), ((3, 2), (3, 1), (0, 0)), ((0, 3), (1, 0), (3, 3)), ((1, 2), (2, 1), (0, 2)), ((2, 0), (2, 1), (3, 3)), ((2, 3), (0, 3), (3, 1)), ((1, 0), (2, 0), (1, 3)), ((1, 3), (2, 3), (2, 1)), ((2, 2), (2, 0), (3, 0)), ((3, 3), (2, 2), (1, 0)), ((3, 2), (2, 0), (2, 2)), ((1, 2), (3, 1), (2, 1)), ((2, 0), (3, 2), (1, 2)), ((3, 2), (1, 2), (3, 3)), ((1, 2), (1, 3), (0, 0)), ((2, 3), (2, 3), (1, 0)), ((3, 2), (0, 2), (3, 2)), ((2, 1), (3, 0), (1, 2))]\n"
     ]
    }
   ],
   "source": [
    "rels = [1, 2]\n",
    "class Tuple: # класс кортежа, который хранит данные и имя представления из массива rels выше\n",
    "  def __init__(self, data: tuple, rel_id: int):\n",
    "    self.data = data\n",
    "    self.rel_id = rel_id\n",
    "\n",
    "def get_random_tuple(count):\n",
    "  data = tuple([(random.randint(0, 3), random.randint(0, 3)) for i in range(count)])\n",
    "  rel_id = rels[random.randint(0, len(rels) - 1)]\n",
    "  return Tuple(data, rel_id)\n",
    "\n",
    "\n",
    "def RECORDREADER(count):\n",
    "    return [get_random_tuple(3) for i in range(count)]\n",
    "\n",
    "def MAP(t: Tuple):\n",
    "  return (t.data, t.rel_id)\n",
    "\n",
    "def REDUCE(key, values: Iterator[NamedTuple]):\n",
    "  if values == [rels[0]]: # если соответствующее значение является списком  [R] , создайте пару  (t,t)\n",
    "    return (key, key)\n",
    "\n",
    "def group_by_key(iterable):\n",
    "  t = {}\n",
    "  for (k2, v2) in iterable:\n",
    "    t[k2] = t.get(k2, []) + [v2]\n",
    "  return t.items()\n",
    "\n",
    "record = RECORDREADER(100)\n",
    "print(record)\n",
    "map_output = list(map(lambda x: MAP(x), RECORDREADER(100)))\n",
    "print(map_output)\n",
    "\n",
    "shuffle_output = group_by_key(map_output)\n",
    "shuffle_output = list(shuffle_output)\n",
    "\n",
    "print(shuffle_output)\n",
    "\n",
    "reduce_output = [el[0] for el in list(map(lambda x: REDUCE(*x), shuffle_output)) if el is not None]\n",
    "print(reduce_output)"
   ]
  },
  {
   "cell_type": "markdown",
   "metadata": {
    "id": "j8I58V2VwhSm"
   },
   "source": [
    "### Natural Join\n",
    "\n",
    "**The Map Function:** Для каждого кортежа $(a, b)$ отношения $R$, создайте пару $(b,(R, a))$. Для каждого кортежа $(b, c)$ отношения $S$, создайте пару $(b,(S, c))$.\n",
    "\n",
    "**The Reduce Function:** Каждый ключ $b$ будет асоциирован со списком пар, которые принимают форму либо $(R, a)$, либо $(S, c)$. Создайте все пары, одни, состоящие из  первого компонента $R$, а другие, из первого компонента $S$, то есть $(R, a)$ и $(S, c)$. На выходе вы получаете последовательность пар ключ-значение из списков ключей и значений. Ключ не нужен. Каждое значение, это тройка $(a, b, c)$ такая, что $(R, a)$ и $(S, c)$ это принадлежат входному списку значений."
   ]
  },
  {
   "cell_type": "code",
   "execution_count": 30,
   "metadata": {
    "colab": {
     "base_uri": "https://localhost:8080/"
    },
    "id": "yHiuuTctw86I",
    "outputId": "44df5b37-09ad-4e8c-99fe-9c14c2d6924d"
   },
   "outputs": [
    {
     "name": "stdout",
     "output_type": "stream",
     "text": [
      "[<__main__.Tuple object at 0x000002898DAE6AF0>, <__main__.Tuple object at 0x000002898DAE62E0>, <__main__.Tuple object at 0x000002898DAE6880>, <__main__.Tuple object at 0x000002898DAE6340>, <__main__.Tuple object at 0x000002898DAE6B80>, <__main__.Tuple object at 0x000002898DAE6550>, <__main__.Tuple object at 0x000002898DABF940>, <__main__.Tuple object at 0x000002898DABFC40>, <__main__.Tuple object at 0x000002898DABF550>, <__main__.Tuple object at 0x000002898DABFD90>, <__main__.Tuple object at 0x000002898DABF520>, <__main__.Tuple object at 0x000002898DABF250>, <__main__.Tuple object at 0x000002898DABF580>, <__main__.Tuple object at 0x000002898DABF7C0>, <__main__.Tuple object at 0x000002898C6C9730>, <__main__.Tuple object at 0x000002898C6C9280>, <__main__.Tuple object at 0x000002898C6C9760>, <__main__.Tuple object at 0x000002898C6C9F10>, <__main__.Tuple object at 0x000002898C6C9490>, <__main__.Tuple object at 0x000002898C6C9970>, <__main__.Tuple object at 0x000002898C6C9EE0>, <__main__.Tuple object at 0x000002898C6C9C70>, <__main__.Tuple object at 0x000002898DB0DD60>, <__main__.Tuple object at 0x000002898DB0DDC0>, <__main__.Tuple object at 0x000002898DB0DE20>, <__main__.Tuple object at 0x000002898DB0DE80>, <__main__.Tuple object at 0x000002898DB0DEE0>, <__main__.Tuple object at 0x000002898DB0DF40>, <__main__.Tuple object at 0x000002898DB0DFA0>, <__main__.Tuple object at 0x000002898DAEA2B0>, <__main__.Tuple object at 0x000002898DAEAD30>, <__main__.Tuple object at 0x000002898DAEA100>, <__main__.Tuple object at 0x000002898C6EE6D0>, <__main__.Tuple object at 0x000002898DAE0880>, <__main__.Tuple object at 0x000002898DAE0D00>, <__main__.Tuple object at 0x000002898DAE0550>, <__main__.Tuple object at 0x000002898DAE0C10>, <__main__.Tuple object at 0x000002898DAE00D0>, <__main__.Tuple object at 0x000002898DAE0EB0>, <__main__.Tuple object at 0x000002898DAE08B0>, <__main__.Tuple object at 0x000002898DAE0FD0>, <__main__.Tuple object at 0x000002898DAE0BB0>, <__main__.Tuple object at 0x000002898DAE0370>, <__main__.Tuple object at 0x000002898DAE0FA0>, <__main__.Tuple object at 0x000002898DAE04F0>, <__main__.Tuple object at 0x000002898DAE0040>, <__main__.Tuple object at 0x000002898DAE0DC0>, <__main__.Tuple object at 0x000002898DAE0640>, <__main__.Tuple object at 0x000002898DAE00A0>, <__main__.Tuple object at 0x000002898DAE07C0>, <__main__.Tuple object at 0x000002898DAE0AC0>, <__main__.Tuple object at 0x000002898DAE09A0>, <__main__.Tuple object at 0x000002898DAE0F40>, <__main__.Tuple object at 0x000002898DAE0CD0>, <__main__.Tuple object at 0x000002898DAE01F0>, <__main__.Tuple object at 0x000002898DAE06A0>, <__main__.Tuple object at 0x000002898DAE08E0>, <__main__.Tuple object at 0x000002898DAE0A90>, <__main__.Tuple object at 0x000002898DAE0250>, <__main__.Tuple object at 0x000002898DAE01C0>, <__main__.Tuple object at 0x000002898DAE05E0>, <__main__.Tuple object at 0x000002898DAE0940>, <__main__.Tuple object at 0x000002898DAE0F70>, <__main__.Tuple object at 0x000002898C6E7C10>, <__main__.Tuple object at 0x000002898C6E78B0>, <__main__.Tuple object at 0x000002898C6E7D30>, <__main__.Tuple object at 0x000002898C6E7C40>, <__main__.Tuple object at 0x000002898C6E7940>, <__main__.Tuple object at 0x000002898C6E76A0>, <__main__.Tuple object at 0x000002898C6E7EE0>, <__main__.Tuple object at 0x000002898C6E7610>, <__main__.Tuple object at 0x000002898C6E75E0>, <__main__.Tuple object at 0x000002898C6E7AF0>, <__main__.Tuple object at 0x000002898C6E7EB0>, <__main__.Tuple object at 0x000002898C6E7160>, <__main__.Tuple object at 0x000002898C6E7B80>, <__main__.Tuple object at 0x000002898C6E7130>, <__main__.Tuple object at 0x000002898C6E7DF0>, <__main__.Tuple object at 0x000002898C6E7E50>, <__main__.Tuple object at 0x000002898C6E7550>, <__main__.Tuple object at 0x000002898C6E7E20>, <__main__.Tuple object at 0x000002898C6E7F70>, <__main__.Tuple object at 0x000002898C6E7B20>, <__main__.Tuple object at 0x000002898C6E72B0>, <__main__.Tuple object at 0x000002898C6E79A0>, <__main__.Tuple object at 0x000002898C6E7340>, <__main__.Tuple object at 0x000002898C6E7580>, <__main__.Tuple object at 0x000002898C6E75B0>, <__main__.Tuple object at 0x000002898C6E7F40>, <__main__.Tuple object at 0x000002898C6E7BE0>, <__main__.Tuple object at 0x000002898C6E7CD0>, <__main__.Tuple object at 0x000002898DAD4B80>, <__main__.Tuple object at 0x000002898DAD4B20>, <__main__.Tuple object at 0x000002898DAD43D0>, <__main__.Tuple object at 0x000002898DAD4D90>, <__main__.Tuple object at 0x000002898DAD4BE0>, <__main__.Tuple object at 0x000002898DACFA30>, <__main__.Tuple object at 0x000002898DACF8B0>, <__main__.Tuple object at 0x000002898DACF5E0>, <__main__.Tuple object at 0x000002898DB06040>]\n",
      "[(1, (2, 2)), (1, (2, 1)), (3, (1, 3)), (3, (2, 0)), (1, (2, 3)), (2, (1, 0)), (3, (1, 0)), (3, (1, 2)), (2, (1, 1)), (2, (1, 0)), (1, (1, 0)), (2, (1, 1)), (0, (1, 0)), (3, (2, 1)), (0, (2, 3)), (3, (1, 3)), (0, (1, 0)), (3, (1, 1)), (1, (1, 3)), (0, (1, 1)), (0, (2, 2)), (2, (2, 0)), (2, (1, 0)), (0, (2, 1)), (2, (1, 2)), (1, (2, 2)), (2, (2, 1)), (3, (1, 3)), (0, (2, 1)), (2, (1, 1)), (2, (2, 1)), (3, (1, 3)), (1, (2, 0)), (1, (1, 1)), (1, (1, 3)), (3, (1, 0)), (0, (2, 1)), (3, (2, 1)), (1, (1, 2)), (0, (2, 1)), (0, (2, 2)), (0, (1, 0)), (1, (1, 3)), (2, (1, 1)), (3, (1, 0)), (1, (2, 0)), (0, (1, 2)), (3, (1, 0)), (0, (1, 0)), (2, (1, 1)), (2, (2, 3)), (3, (1, 0)), (3, (1, 0)), (3, (1, 2)), (3, (1, 3)), (3, (1, 3)), (1, (1, 0)), (2, (2, 3)), (0, (2, 0)), (1, (2, 2)), (0, (1, 2)), (1, (2, 1)), (0, (1, 2)), (0, (1, 3)), (3, (1, 1)), (1, (1, 2)), (1, (1, 1)), (2, (1, 2)), (3, (1, 1)), (0, (1, 0)), (0, (2, 2)), (1, (2, 3)), (3, (1, 2)), (3, (2, 2)), (2, (2, 2)), (3, (2, 0)), (2, (1, 2)), (2, (2, 3)), (1, (1, 2)), (0, (1, 0)), (2, (2, 2)), (3, (2, 1)), (0, (2, 3)), (2, (1, 3)), (3, (2, 2)), (0, (2, 1)), (3, (1, 3)), (2, (1, 1)), (2, (2, 3)), (1, (2, 2)), (0, (2, 0)), (2, (2, 0)), (2, (1, 1)), (0, (2, 0)), (2, (2, 2)), (2, (1, 1)), (1, (1, 0)), (0, (2, 2)), (2, (1, 1)), (1, (1, 3))]\n",
      "[(1, [(2, 2), (2, 1), (2, 3), (1, 0), (1, 3), (2, 2), (2, 0), (1, 1), (1, 3), (1, 2), (1, 3), (2, 0), (1, 0), (2, 2), (2, 1), (1, 2), (1, 1), (2, 3), (1, 2), (2, 2), (1, 0), (1, 3)]), (3, [(1, 3), (2, 0), (1, 0), (1, 2), (2, 1), (1, 3), (1, 1), (1, 3), (1, 3), (1, 0), (2, 1), (1, 0), (1, 0), (1, 0), (1, 0), (1, 2), (1, 3), (1, 3), (1, 1), (1, 1), (1, 2), (2, 2), (2, 0), (2, 1), (2, 2), (1, 3)]), (2, [(1, 0), (1, 1), (1, 0), (1, 1), (2, 0), (1, 0), (1, 2), (2, 1), (1, 1), (2, 1), (1, 1), (1, 1), (2, 3), (2, 3), (1, 2), (2, 2), (1, 2), (2, 3), (2, 2), (1, 3), (1, 1), (2, 3), (2, 0), (1, 1), (2, 2), (1, 1), (1, 1)]), (0, [(1, 0), (2, 3), (1, 0), (1, 1), (2, 2), (2, 1), (2, 1), (2, 1), (2, 1), (2, 2), (1, 0), (1, 2), (1, 0), (2, 0), (1, 2), (1, 2), (1, 3), (1, 0), (2, 2), (1, 0), (2, 3), (2, 1), (2, 0), (2, 0), (2, 2)])]\n",
      "[[(2, 1, 2), (2, 1, 1), (2, 1, 3), (1, 1, 0), (1, 1, 3), (2, 1, 2), (2, 1, 0), (1, 1, 1), (1, 1, 3), (1, 1, 2), (1, 1, 3), (2, 1, 0), (1, 1, 0), (2, 1, 2), (2, 1, 1), (1, 1, 2), (1, 1, 1), (2, 1, 3), (1, 1, 2), (2, 1, 2), (1, 1, 0), (1, 1, 3)], [(1, 3, 3), (2, 3, 0), (1, 3, 0), (1, 3, 2), (2, 3, 1), (1, 3, 3), (1, 3, 1), (1, 3, 3), (1, 3, 3), (1, 3, 0), (2, 3, 1), (1, 3, 0), (1, 3, 0), (1, 3, 0), (1, 3, 0), (1, 3, 2), (1, 3, 3), (1, 3, 3), (1, 3, 1), (1, 3, 1), (1, 3, 2), (2, 3, 2), (2, 3, 0), (2, 3, 1), (2, 3, 2), (1, 3, 3)], [(1, 2, 0), (1, 2, 1), (1, 2, 0), (1, 2, 1), (2, 2, 0), (1, 2, 0), (1, 2, 2), (2, 2, 1), (1, 2, 1), (2, 2, 1), (1, 2, 1), (1, 2, 1), (2, 2, 3), (2, 2, 3), (1, 2, 2), (2, 2, 2), (1, 2, 2), (2, 2, 3), (2, 2, 2), (1, 2, 3), (1, 2, 1), (2, 2, 3), (2, 2, 0), (1, 2, 1), (2, 2, 2), (1, 2, 1), (1, 2, 1)], [(1, 0, 0), (2, 0, 3), (1, 0, 0), (1, 0, 1), (2, 0, 2), (2, 0, 1), (2, 0, 1), (2, 0, 1), (2, 0, 1), (2, 0, 2), (1, 0, 0), (1, 0, 2), (1, 0, 0), (2, 0, 0), (1, 0, 2), (1, 0, 2), (1, 0, 3), (1, 0, 0), (2, 0, 2), (1, 0, 0), (2, 0, 3), (2, 0, 1), (2, 0, 0), (2, 0, 0), (2, 0, 2)]]\n"
     ]
    }
   ],
   "source": [
    "rels = [1, 2]\n",
    "class Tuple: # класс кортежа, который хранит данные и имя представления из массива rels выше\n",
    "  def __init__(self, data: tuple, rel_id: int):\n",
    "    self.data = data\n",
    "    self.rel_id = rel_id\n",
    "\n",
    "def get_random_tuple():\n",
    "  data = (random.randint(0, 3), random.randint(0, 3))\n",
    "  rel_id = rels[random.randint(0, len(rels) - 1)]\n",
    "  return Tuple(data, rel_id)\n",
    "\n",
    "\n",
    "def RECORDREADER(count):\n",
    "  return [get_random_tuple() for i in range(count)]\n",
    "\n",
    "def MAP(t: Tuple):\n",
    "  if t.rel_id == rels[0]:\n",
    "    return (t.data[1], (t.rel_id, t.data[0]))\n",
    "  else:\n",
    "    return (t.data[0], (t.rel_id, t.data[1]))\n",
    "\n",
    "def REDUCE(key, values: Iterator[NamedTuple]):\n",
    "  res = []\n",
    "  for v in values:\n",
    "    res.append((v[0], key, v[1]))\n",
    "  return res\n",
    "\n",
    "def group_by_key(iterable):\n",
    "  t = {}\n",
    "  for (k2, v2) in iterable:\n",
    "    t[k2] = t.get(k2, []) + [v2]\n",
    "  return t.items()\n",
    "\n",
    "record = RECORDREADER(100)\n",
    "print(record)\n",
    "map_output = list(map(lambda x: MAP(x), RECORDREADER(100)))\n",
    "print(map_output)\n",
    "\n",
    "shuffle_output = group_by_key(map_output)\n",
    "shuffle_output = list(shuffle_output)\n",
    "\n",
    "print(shuffle_output)\n",
    "\n",
    "reduce_output = list(map(lambda x: REDUCE(*x), shuffle_output))\n",
    "print(reduce_output)"
   ]
  },
  {
   "cell_type": "markdown",
   "metadata": {
    "id": "kYdlr0YUxE27"
   },
   "source": [
    "### Grouping and Aggregation (Группировка и аггрегация)\n",
    "\n",
    "**The Map Function:** Для каждого кортежа $(a, b, c$) создайте пару $(a, b)$.\n",
    "\n",
    "**The Reduce Function:** Ключ представляет ту или иную группу. Примение аггрегирующую операцию $\\theta$ к списку значений $[b1, b2, . . . , bn]$ ассоциированных с ключом $a$. Возвращайте в выходной поток $(a, x)$, где $x$ результат применения  $\\theta$ к списку. Например, если $\\theta$ это $SUM$, тогда $x = b1 + b2 + · · · + bn$, а если $\\theta$ is $MAX$, тогда $x$ это максимальное из значений $b1, b2, . . . , bn$."
   ]
  },
  {
   "cell_type": "code",
   "execution_count": 31,
   "metadata": {
    "colab": {
     "base_uri": "https://localhost:8080/"
    },
    "id": "MLPckfEGxico",
    "outputId": "798fe3a0-3aa1-4e60-c98f-92a49cee93ec"
   },
   "outputs": [
    {
     "name": "stdout",
     "output_type": "stream",
     "text": [
      "[(0, 0, 0), (3, 0, 2), (0, 1, 1), (1, 1, 1), (2, 0, 0), (3, 2, 1), (1, 3, 1), (2, 2, 1), (0, 2, 1), (2, 2, 0), (0, 1, 2), (0, 2, 2), (2, 3, 0), (0, 1, 3), (3, 1, 2), (0, 2, 3), (2, 1, 1), (0, 3, 1), (2, 1, 1), (3, 2, 2), (3, 1, 2), (1, 0, 0), (3, 1, 0), (1, 1, 0), (0, 1, 2), (0, 0, 1), (0, 0, 3), (2, 0, 3), (2, 3, 1), (3, 0, 0), (1, 2, 3), (0, 1, 2), (0, 0, 3), (2, 2, 2), (1, 1, 1), (3, 0, 0), (2, 0, 0), (1, 0, 1), (1, 1, 0), (2, 0, 0), (3, 1, 0), (3, 3, 2), (0, 3, 0), (1, 2, 2), (0, 0, 2), (3, 3, 2), (3, 0, 1), (0, 0, 3), (0, 3, 2), (2, 2, 1), (3, 2, 3), (3, 3, 1), (3, 1, 2), (2, 0, 3), (2, 3, 1), (1, 0, 2), (3, 1, 3), (2, 2, 2), (3, 3, 2), (1, 1, 2), (3, 1, 1), (1, 2, 1), (1, 2, 2), (3, 2, 1), (1, 3, 2), (0, 1, 1), (1, 2, 2), (3, 1, 3), (3, 2, 1), (2, 1, 1), (3, 3, 0), (3, 1, 3), (2, 0, 1), (2, 2, 1), (2, 3, 1), (0, 2, 3), (2, 2, 3), (2, 1, 3), (2, 2, 1), (0, 1, 1), (2, 1, 1), (1, 1, 0), (1, 0, 1), (0, 0, 0), (2, 1, 0), (1, 0, 0), (2, 2, 1), (2, 0, 0), (3, 3, 0), (0, 0, 0), (3, 3, 1), (1, 1, 1), (0, 2, 0), (2, 2, 2), (0, 1, 2), (0, 2, 2), (0, 0, 2), (2, 0, 3), (0, 1, 3), (2, 3, 1)]\n",
      "[(1, 0), (0, 3), (3, 2), (2, 0), (0, 1), (1, 3), (1, 1), (1, 0), (2, 2), (0, 3), (3, 0), (1, 2), (1, 3), (3, 0), (2, 1), (2, 1), (3, 0), (1, 0), (0, 1), (2, 0), (2, 0), (3, 0), (2, 2), (0, 3), (3, 2), (3, 3), (3, 0), (0, 3), (2, 2), (3, 1), (1, 2), (0, 2), (2, 3), (1, 2), (0, 2), (0, 0), (1, 3), (3, 2), (3, 0), (2, 3), (3, 3), (2, 1), (2, 0), (1, 1), (3, 3), (1, 0), (1, 3), (1, 1), (2, 1), (1, 3), (3, 1), (2, 3), (0, 0), (3, 3), (1, 1), (1, 0), (1, 1), (2, 0), (0, 3), (3, 3), (1, 3), (0, 2), (0, 3), (2, 3), (0, 2), (2, 1), (2, 2), (3, 3), (2, 0), (3, 3), (3, 1), (2, 1), (1, 3), (3, 1), (3, 1), (2, 3), (2, 1), (1, 2), (1, 1), (3, 3), (0, 3), (1, 2), (2, 3), (0, 2), (2, 1), (1, 1), (1, 1), (0, 3), (3, 3), (2, 3), (3, 3), (0, 3), (2, 0), (3, 0), (0, 3), (0, 0), (3, 3), (1, 1), (1, 0), (0, 3)]\n",
      "[(1, [0, 3, 1, 0, 2, 3, 0, 2, 2, 3, 1, 0, 3, 1, 3, 1, 0, 1, 3, 3, 2, 1, 2, 1, 1, 1, 0]), (0, [3, 1, 3, 1, 3, 3, 2, 2, 0, 0, 3, 2, 3, 2, 3, 2, 3, 3, 3, 0, 3]), (3, [2, 0, 0, 0, 0, 2, 3, 0, 1, 2, 0, 3, 3, 1, 3, 3, 3, 3, 1, 1, 1, 3, 3, 3, 0, 3]), (2, [0, 2, 1, 1, 0, 0, 2, 2, 3, 3, 1, 0, 1, 3, 0, 3, 1, 2, 0, 1, 3, 1, 3, 1, 3, 0])]\n",
      "[(1, 40), (0, 45), (3, 44), (2, 37)]\n"
     ]
    }
   ],
   "source": [
    "def get_random_tuple():\n",
    "  return (random.randint(0, 3), random.randint(0, 3), random.randint(0, 3))\n",
    "\n",
    "def RECORDREADER(count):\n",
    "  return [get_random_tuple() for i in range(count)]\n",
    "\n",
    "def MAP(t: Tuple):\n",
    "  return (t[0], t[1])\n",
    "\n",
    "def tetta(values):\n",
    "  return sum(values)\n",
    "\n",
    "\n",
    "def REDUCE(key, values: Iterator[NamedTuple]):\n",
    "  x = tetta(values)\n",
    "  return (key, x)\n",
    "\n",
    "def group_by_key(iterable):\n",
    "  t = {}\n",
    "  for (k2, v2) in iterable:\n",
    "    t[k2] = t.get(k2, []) + [v2]\n",
    "  return t.items()\n",
    "\n",
    "record = RECORDREADER(100)\n",
    "print(record)\n",
    "map_output = list(map(lambda x: MAP(x), RECORDREADER(100)))\n",
    "print(map_output)\n",
    "\n",
    "shuffle_output = group_by_key(map_output)\n",
    "shuffle_output = list(shuffle_output)\n",
    "\n",
    "print(shuffle_output)\n",
    "\n",
    "reduce_output = list(map(lambda x: REDUCE(*x), shuffle_output))\n",
    "print(reduce_output)"
   ]
  },
  {
   "cell_type": "markdown",
   "metadata": {
    "id": "03IffTEOJgOb"
   },
   "source": [
    "#"
   ]
  },
  {
   "cell_type": "markdown",
   "metadata": {
    "id": "IIrRgvG4RIS4"
   },
   "source": [
    "### Matrix-Vector multiplication\n",
    "\n",
    "Случай, когда вектор не помещается в памяти Map задачи\n"
   ]
  },
  {
   "cell_type": "markdown",
   "metadata": {
    "id": "GIo2t7nNxvA9"
   },
   "source": [
    "## Matrix multiplication (Перемножение матриц)\n",
    "\n",
    "Если у нас есть матрица $M$ с элементами $m_{ij}$ в строке $i$ и столбце $j$, и матрица $N$ с элементами $n_{jk}$ в строке $j$ и столбце $k$, тогда их произведение $P = MN$ есть матрица $P$ с элементами $p_{ik}$ в строке $i$ и столбце $k$, где\n",
    "\n",
    "$$p_{ik} =\\sum_{j} m_{ij}n_{jk}$$\n",
    "\n",
    "Необходимым требованием является одинаковое количество столбцов в $M$ и строк в $N$, чтобы операция суммирования по  $j$ была осмысленной. Мы можем размышлять о матрице, как об отношении с тремя атрибутами: номер строки, номер столбца, само значение. Таким образом матрица $M$ предстваляется как отношение $ M(I, J, V )$, с кортежами $(i, j, m_{ij})$, и, аналогично, матрица $N$ представляется как отношение $N(J, K, W)$, с кортежами $(j, k, n_{jk})$. Так как большие матрицы как правило разреженные (большинство значений равно 0), и так как мы можем нулевыми значениями пренебречь (не хранить), такое реляционное представление достаточно эффективно для больших матриц. Однако, возможно, что координаты $i$, $j$, и $k$ неявно закодированы в смещение позиции элемента относительно начала файла, вместо явного хранения. Тогда, функция Map (или Reader) должна быть разработана таким образом, чтобы реконструировать компоненты $I$, $J$, и $K$ кортежей из смещения.\n",
    "\n",
    "Произведение $MN$ это фактически join, за которым следуют группировка по ключу и аггрегация. Таким образом join отношений $M(I, J, V )$ и $N(J, K, W)$, имеющих общим только атрибут $J$, создаст кортежи $(i, j, k, v, w)$ из каждого кортежа $(i, j, v) \\in M$ и кортежа $(j, k, w) \\in N$. Такой 5 компонентный кортеж представляет пару элементов матрицы $(m_{ij} , n_{jk})$. Что нам хотелось бы получить на самом деле, это произведение этих элементов, то есть, 4 компонентный кортеж$(i, j, k, v \\times w)$, так как он представляет произведение $m_{ij}n_{jk}$. Мы представляем отношение как результат одной MapReduce операции, в которой мы можем произвести группировку и аггрегацию, с $I$ и $K$  атрибутами, по которым идёт группировка, и суммой  $V \\times W$.\n",
    "\n",
    "\n",
    "\n"
   ]
  },
  {
   "cell_type": "code",
   "execution_count": 32,
   "metadata": {
    "id": "1MBkGaLAYVCt"
   },
   "outputs": [],
   "source": [
    "# MapReduce model\n",
    "def flatten(nested_iterable):\n",
    "  for iterable in nested_iterable:\n",
    "    for element in iterable:\n",
    "      yield element\n",
    "\n",
    "def groupbykey(iterable):\n",
    "  t = {}\n",
    "  for (k2, v2) in iterable:\n",
    "    t[k2] = t.get(k2, []) + [v2]\n",
    "  return t.items()\n",
    "\n",
    "def MapReduce(RECORDREADER, MAP, REDUCE):\n",
    "  return flatten(map(lambda x: REDUCE(*x), groupbykey(flatten(map(lambda x: MAP(*x), RECORDREADER())))))"
   ]
  },
  {
   "cell_type": "markdown",
   "metadata": {
    "id": "sMspsOT0ZB35"
   },
   "source": [
    "Реализуйте перемножение матриц с использованием модельного кода MapReduce для одной машины в случае, когда одна матрица хранится в памяти, а другая генерируется RECORDREADER-ом."
   ]
  },
  {
   "cell_type": "code",
   "execution_count": 33,
   "metadata": {
    "id": "psP1XekbsEjS"
   },
   "outputs": [],
   "source": [
    "import numpy as np\n",
    "I = 2\n",
    "J = 3\n",
    "K = 4*10\n",
    "small_mat = np.random.rand(I,J) # it is legal to access this from RECORDREADER, MAP, REDUCE\n",
    "big_mat = np.random.rand(J,K)\n",
    "\n",
    "def RECORDREADER():\n",
    "  for j in range(big_mat.shape[0]):\n",
    "    for k in range(big_mat.shape[1]):\n",
    "      yield ((j, k), big_mat[j,k])\n",
    "\n",
    "def MAP(k1, v1):\n",
    "  (j, k) = k1\n",
    "  w = v1\n",
    "  for i in range(small_mat.shape[0]):\n",
    "    yield ((i, k), w * small_mat[i][j])\n",
    "\n",
    "def REDUCE(key, values):\n",
    "  (i, k) = key\n",
    "  el_value = 0\n",
    "  for v in values:\n",
    "    el_value += v\n",
    "  yield ((i, k), el_value)"
   ]
  },
  {
   "cell_type": "markdown",
   "metadata": {
    "id": "rnt306LHhHrm"
   },
   "source": [
    "Проверьте своё решение"
   ]
  },
  {
   "cell_type": "code",
   "execution_count": 34,
   "metadata": {
    "colab": {
     "base_uri": "https://localhost:8080/"
    },
    "id": "Ewy_ZNYqW5a2",
    "outputId": "b70a696d-8fa9-4940-a6a7-8183af3a3893"
   },
   "outputs": [
    {
     "data": {
      "text/plain": [
       "True"
      ]
     },
     "execution_count": 34,
     "metadata": {},
     "output_type": "execute_result"
    }
   ],
   "source": [
    "# CHECK THE SOLUTION\n",
    "reference_solution = np.matmul(small_mat, big_mat)\n",
    "solution = MapReduce(RECORDREADER, MAP, REDUCE)\n",
    "\n",
    "def asmatrix(reduce_output):\n",
    "  reduce_output = list(reduce_output)\n",
    "  I = max(i for ((i,k), vw) in reduce_output)+1\n",
    "  K = max(k for ((i,k), vw) in reduce_output)+1\n",
    "  mat = np.empty(shape=(I,K))\n",
    "  for ((i,k), vw) in reduce_output:\n",
    "    mat[i,k] = vw\n",
    "  return mat\n",
    "\n",
    "np.allclose(reference_solution, asmatrix(solution)) # should return true"
   ]
  },
  {
   "cell_type": "code",
   "execution_count": 35,
   "metadata": {
    "colab": {
     "base_uri": "https://localhost:8080/"
    },
    "id": "TK7v4CEcfxqf",
    "outputId": "80c5f156-ef28-4eda-e568-9a60af8694ce"
   },
   "outputs": [
    {
     "data": {
      "text/plain": [
       "1"
      ]
     },
     "execution_count": 35,
     "metadata": {},
     "output_type": "execute_result"
    }
   ],
   "source": [
    "reduce_output = list(MapReduce(RECORDREADER, MAP, REDUCE))\n",
    "max(i for ((i,k), vw) in reduce_output)"
   ]
  },
  {
   "cell_type": "markdown",
   "metadata": {
    "id": "i4yyg3kOZqJJ"
   },
   "source": [
    "Реализуйте перемножение матриц  с использованием модельного кода MapReduce для одной машины в случае, когда обе матрицы генерируются в RECORDREADER. Например, сначала одна, а потом другая."
   ]
  },
  {
   "cell_type": "code",
   "execution_count": 36,
   "metadata": {
    "colab": {
     "base_uri": "https://localhost:8080/"
    },
    "id": "3B7rIAJCaHZq",
    "outputId": "bc583b0c-8f00-4ed2-c8d3-aa7c80afee0c"
   },
   "outputs": [
    {
     "data": {
      "text/plain": [
       "True"
      ]
     },
     "execution_count": 36,
     "metadata": {},
     "output_type": "execute_result"
    }
   ],
   "source": [
    "import numpy as np\n",
    "I = 2\n",
    "J = 3\n",
    "K = 4*10\n",
    "small_mat = np.random.rand(I,J)\n",
    "big_mat = np.random.rand(J,K)\n",
    "reference_solution = np.matmul(small_mat, big_mat)\n",
    "\n",
    "def RECORDREADER():\n",
    "  for i in range(small_mat.shape[0]):\n",
    "    for j in range(small_mat.shape[1]):\n",
    "      yield ((0, i, j), small_mat[i,j]) # первая матрица\n",
    "\n",
    "  for j in range(big_mat.shape[0]):\n",
    "    for k in range(big_mat.shape[1]):\n",
    "      yield ((1, j, k), big_mat[j,k]) # вторая матрица\n",
    "\n",
    "def MAP_JOIN(k1, v1):\n",
    "  (mat_num, i, j) = k1\n",
    "  w = v1\n",
    "  if mat_num == 0:\n",
    "    yield (j, (mat_num, i, w))\n",
    "  else:\n",
    "    yield (i, (mat_num, j, w))\n",
    "\n",
    "\n",
    "def REDUCE_JOIN(key, values):\n",
    "  from_first_mat = [v for v in values if v[0] == 0]\n",
    "  from_second_mat = [v for v in values if v[0] == 1]\n",
    "  for f in from_first_mat:\n",
    "    for s in from_second_mat:\n",
    "      yield ((f[1], s[1]), f[2] * s[2])\n",
    "\n",
    "\n",
    "def MAP_MUL(k1, v1):\n",
    "  (i, k) = k1\n",
    "  yield ((i, k), v1)\n",
    "\n",
    "\n",
    "def REDUCE_MUL(key, values):\n",
    "  res_el_value = 0\n",
    "  for v in values:\n",
    "    res_el_value += v\n",
    "  yield (key, res_el_value)\n",
    "\n",
    "\n",
    "def GET_JOINED():\n",
    "  for j in joined:\n",
    "    yield j\n",
    "\n",
    "joined = MapReduce(RECORDREADER, MAP_JOIN, REDUCE_JOIN)\n",
    "solution = MapReduce(GET_JOINED, MAP_MUL, REDUCE_MUL)\n",
    "np.allclose(reference_solution, asmatrix(solution)) # should return true"
   ]
  },
  {
   "cell_type": "markdown",
   "metadata": {
    "id": "mXyzQi1DaIwo"
   },
   "source": [
    "Реализуйте перемножение матриц с использованием модельного кода MapReduce Distributed, когда каждая матрица генерируется в своём RECORDREADER."
   ]
  },
  {
   "cell_type": "code",
   "execution_count": 37,
   "metadata": {
    "colab": {
     "base_uri": "https://localhost:8080/"
    },
    "id": "TDM_s78Rb5eR",
    "outputId": "b1b15bdd-541f-4d09-b155-ec16db5b905e"
   },
   "outputs": [
    {
     "name": "stdout",
     "output_type": "stream",
     "text": [
      "126 key-value pairs were sent over a network.\n",
      "[(0, [((0, 0), 0.3581488866157133), ((0, 1), 0.006955723686467427), ((0, 2), 0.46627276834143), ((0, 3), 0.056672035940517285), ((0, 4), 0.5068065045697484), ((0, 5), 0.3023896462291538), ((0, 6), 0.20103988610451712), ((0, 7), 0.213487269704608), ((0, 8), 0.28191232526846305), ((0, 9), 0.23431987590834358), ((0, 10), 0.6804018097167016), ((0, 11), 0.647756908669833), ((0, 12), 0.11129116722671283), ((0, 13), 0.33306953226870906), ((0, 14), 0.5531685964546295), ((0, 15), 0.27328840527958215), ((0, 16), 0.7087753947159547), ((0, 17), 0.07744105889385752), ((0, 18), 0.2297789139001805), ((0, 19), 0.2959601566662509), ((0, 20), 0.32441451794622617), ((0, 21), 0.2849325848861935), ((0, 22), 0.01295694194049164), ((0, 23), 0.4708813103046157), ((0, 24), 0.0737225604591652), ((0, 25), 0.20012703743255802), ((0, 26), 0.2587700764762574), ((0, 27), 0.11896585246423655), ((0, 28), 0.6330625840585138), ((0, 29), 0.25222676819869216), ((0, 30), 0.5406369970814884), ((0, 31), 0.6306788238910073), ((0, 32), 0.554121888852318), ((0, 33), 0.16415454456315784), ((0, 34), 0.20832206965282693), ((0, 35), 0.23003609735920255), ((0, 36), 0.045334522815490406), ((0, 37), 0.034707878056225695), ((0, 38), 0.5044992301591792), ((0, 39), 0.5458547479803727), ((1, 0), 0.03500374558759868), ((1, 1), 0.0006798189004562931), ((1, 2), 0.04557125253599121), ((1, 3), 0.005538851584150316), ((1, 4), 0.049532824506961115), ((1, 5), 0.02955410624042095), ((1, 6), 0.019648669280139502), ((1, 7), 0.02086521654595952), ((1, 8), 0.027552751608282404), ((1, 9), 0.02290129504496831), ((1, 10), 0.0664991927511418), ((1, 11), 0.06330863749973596), ((1, 12), 0.010877062164179408), ((1, 13), 0.03255261039809937), ((1, 14), 0.054064031862042276), ((1, 15), 0.026709891243390373), ((1, 16), 0.06927229016352501), ((1, 17), 0.007568715762792225), ((1, 18), 0.022457483309690617), ((1, 19), 0.02892571892629409), ((1, 20), 0.03170671102294291), ((1, 21), 0.027847937223031978), ((1, 22), 0.001266349041494851), ((1, 23), 0.04602166921027844), ((1, 24), 0.007205287652193309), ((1, 25), 0.019559451851669542), ((1, 26), 0.025290939777169653), ((1, 27), 0.011627148900613768), ((1, 28), 0.06187248505169526), ((1, 29), 0.024651428370577242), ((1, 30), 0.05283925375255786), ((1, 31), 0.061639507824727685), ((1, 32), 0.05415720206529097), ((1, 33), 0.01604367381742632), ((1, 34), 0.020360394793670807), ((1, 35), 0.022482619181126696), ((1, 36), 0.004430777708018685), ((1, 37), 0.0033921806789506876), ((1, 38), 0.0493073226291485), ((1, 39), 0.0533492115713015), ((0, 0), 0.07199073081329695), ((0, 1), 0.007789685435515036), ((0, 2), 0.057718831213721324), ((0, 3), 0.068582808008125), ((0, 4), 0.0771895173055905), ((0, 5), 0.03956787377480896), ((0, 6), 0.043148373420230125), ((0, 7), 0.004271121952844005), ((0, 8), 0.030777810938732195), ((0, 9), 0.055198013135685384), ((0, 10), 0.043960331846741654), ((0, 11), 0.011678484576674981), ((0, 12), 0.027798795361076246), ((0, 13), 0.01492371870921565), ((0, 14), 0.04278862389046566), ((0, 15), 0.020832776225945523), ((0, 16), 0.07601997118036198), ((0, 17), 0.07667260449623359), ((0, 18), 0.052778359770251304), ((0, 19), 0.004155369938602126), ((0, 20), 0.02824730298179795), ((0, 21), 0.0681260306711359), ((0, 22), 0.029508673786775397), ((0, 23), 0.023613964646865427), ((0, 24), 0.0005095854273705834), ((0, 25), 0.01844397352216867), ((0, 26), 0.07609455907460234), ((0, 27), 0.02376726470217641), ((0, 28), 0.062319138968919434), ((0, 29), 0.007706614396751589), ((0, 30), 0.05388305209489528), ((0, 31), 0.046342608909424855), ((0, 32), 0.019063145312031012), ((0, 33), 0.021520943609892786), ((0, 34), 0.02363571611557635), ((0, 35), 0.07020091387941264), ((0, 36), 0.058522053354051834), ((0, 37), 0.007460221936653014), ((0, 38), 0.003303912125902481), ((0, 39), 0.08150078696469513), ((1, 0), 0.22297135526508832), ((1, 1), 0.024126393759635233), ((1, 2), 0.1787680979849597), ((1, 3), 0.21241625799182048), ((1, 4), 0.23907315693906747), ((1, 5), 0.12255053311526534), ((1, 6), 0.13364013936660607), ((1, 7), 0.013228617622981517), ((1, 8), 0.09532574735071639), ((1, 9), 0.1709605619746072), ((1, 10), 0.13615495577050823), ((1, 11), 0.03617087233434071), ((1, 12), 0.0860990714550597), ((1, 13), 0.04622208649080911), ((1, 14), 0.1325259148087864), ((1, 15), 0.06452375599686809), ((1, 16), 0.23545081165042833), ((1, 17), 0.23747216263946655), ((1, 18), 0.16346635565016024), ((1, 19), 0.012870107809306884), ((1, 20), 0.0874881996234956), ((1, 21), 0.21100151666703837), ((1, 22), 0.09139494643242908), ((1, 23), 0.07313771705066452), ((1, 24), 0.0015782997627685096), ((1, 25), 0.057125101054700825), ((1, 26), 0.23568182700028326), ((1, 27), 0.0736125215249176), ((1, 28), 0.193016277482862), ((1, 29), 0.02386910421850804), ((1, 30), 0.16688783424878162), ((1, 31), 0.14353339934626502), ((1, 32), 0.05904281423204805), ((1, 33), 0.06665516392278417), ((1, 34), 0.07320508620225792), ((1, 35), 0.21742789289269526), ((1, 36), 0.18125585616139622), ((1, 37), 0.02310597179667227), ((1, 38), 0.01023295299362579), ((1, 39), 0.25242612096573996)]), (1, [((0, 0), 0.031215018378858636), ((0, 1), 0.09621110062469033), ((0, 2), 0.09371513204211146), ((0, 3), 0.004634613055657032), ((0, 4), 0.031967027646718375), ((0, 5), 0.07871512463834252), ((0, 6), 0.002857888883337859), ((0, 7), 0.018530353315827208), ((0, 8), 0.05729438730271), ((0, 9), 0.05790662556639121), ((0, 10), 0.06838117867781295), ((0, 11), 0.08442804058145167), ((0, 12), 0.06716527408160737), ((0, 13), 0.048774129282060104), ((0, 14), 0.08741194839079057), ((0, 15), 0.011974286017911104), ((0, 16), 0.024391076829399522), ((0, 17), 0.022606008382157948), ((0, 18), 0.05504257454870868), ((0, 19), 0.08201801283869375), ((0, 20), 0.05665226007487851), ((0, 21), 0.049753989900897244), ((0, 22), 0.028673535978372893), ((0, 23), 0.0673351078901344), ((0, 24), 0.012033802435133328), ((0, 25), 0.010652844189073855), ((0, 26), 0.01448530370271841), ((0, 27), 0.04489594560519223), ((0, 28), 0.07881300304952063), ((0, 29), 0.08966716097056164), ((0, 30), 0.005290342296366851), ((0, 31), 0.012731388321045369), ((0, 32), 0.08460454681077328), ((0, 33), 0.07341530071390384), ((0, 34), 0.05747723355918774), ((0, 35), 0.05332090687712212), ((0, 36), 0.030718364237854325), ((0, 37), 0.10181805575791593), ((0, 38), 0.02569871627349645), ((0, 39), 0.06401861911849996), ((1, 0), 0.0702336356377615), ((1, 1), 0.2164744964609431), ((1, 2), 0.21085857960116408), ((1, 3), 0.010427856255676195), ((1, 4), 0.07192565273908257), ((1, 5), 0.1771086377695247), ((1, 6), 0.006430235731064128), ((1, 7), 0.04169320252280373), ((1, 8), 0.12891208562070555), ((1, 9), 0.13028961865986613), ((1, 10), 0.15385731090874297), ((1, 11), 0.18996267014290427), ((1, 12), 0.15112153163276407), ((1, 13), 0.109741547577155), ((1, 14), 0.19667644782883117), ((1, 15), 0.02694208380712993), ((1, 16), 0.0548798011923942), ((1, 17), 0.05086340609083175), ((1, 18), 0.12384551815726601), ((1, 19), 0.1845401197440105), ((1, 20), 0.1274673025613066), ((1, 21), 0.11194622908154934), ((1, 22), 0.06451531291473557), ((1, 23), 0.15150365685474182), ((1, 24), 0.027075995448985053), ((1, 25), 0.023968846284197355), ((1, 26), 0.032591861071851184), ((1, 27), 0.10101565365034156), ((1, 28), 0.17732886370641354), ((1, 29), 0.2017506648832928), ((1, 30), 0.011903243776198403), ((1, 31), 0.028645560212412328), ((1, 32), 0.19035980827838478), ((1, 33), 0.16518406037746336), ((1, 34), 0.1293234887856604), ((1, 35), 0.11997177448465553), ((1, 36), 0.06911616629803792), ((1, 37), 0.22909011754066522), ((1, 38), 0.057821983418513606), ((1, 39), 0.14404157366271464)])]\n",
      "aa (0, [((0, 0), 0.3581488866157133), ((0, 1), 0.006955723686467427), ((0, 2), 0.46627276834143), ((0, 3), 0.056672035940517285), ((0, 4), 0.5068065045697484), ((0, 5), 0.3023896462291538), ((0, 6), 0.20103988610451712), ((0, 7), 0.213487269704608), ((0, 8), 0.28191232526846305), ((0, 9), 0.23431987590834358), ((0, 10), 0.6804018097167016), ((0, 11), 0.647756908669833), ((0, 12), 0.11129116722671283), ((0, 13), 0.33306953226870906), ((0, 14), 0.5531685964546295), ((0, 15), 0.27328840527958215), ((0, 16), 0.7087753947159547), ((0, 17), 0.07744105889385752), ((0, 18), 0.2297789139001805), ((0, 19), 0.2959601566662509), ((0, 20), 0.32441451794622617), ((0, 21), 0.2849325848861935), ((0, 22), 0.01295694194049164), ((0, 23), 0.4708813103046157), ((0, 24), 0.0737225604591652), ((0, 25), 0.20012703743255802), ((0, 26), 0.2587700764762574), ((0, 27), 0.11896585246423655), ((0, 28), 0.6330625840585138), ((0, 29), 0.25222676819869216), ((0, 30), 0.5406369970814884), ((0, 31), 0.6306788238910073), ((0, 32), 0.554121888852318), ((0, 33), 0.16415454456315784), ((0, 34), 0.20832206965282693), ((0, 35), 0.23003609735920255), ((0, 36), 0.045334522815490406), ((0, 37), 0.034707878056225695), ((0, 38), 0.5044992301591792), ((0, 39), 0.5458547479803727), ((1, 0), 0.03500374558759868), ((1, 1), 0.0006798189004562931), ((1, 2), 0.04557125253599121), ((1, 3), 0.005538851584150316), ((1, 4), 0.049532824506961115), ((1, 5), 0.02955410624042095), ((1, 6), 0.019648669280139502), ((1, 7), 0.02086521654595952), ((1, 8), 0.027552751608282404), ((1, 9), 0.02290129504496831), ((1, 10), 0.0664991927511418), ((1, 11), 0.06330863749973596), ((1, 12), 0.010877062164179408), ((1, 13), 0.03255261039809937), ((1, 14), 0.054064031862042276), ((1, 15), 0.026709891243390373), ((1, 16), 0.06927229016352501), ((1, 17), 0.007568715762792225), ((1, 18), 0.022457483309690617), ((1, 19), 0.02892571892629409), ((1, 20), 0.03170671102294291), ((1, 21), 0.027847937223031978), ((1, 22), 0.001266349041494851), ((1, 23), 0.04602166921027844), ((1, 24), 0.007205287652193309), ((1, 25), 0.019559451851669542), ((1, 26), 0.025290939777169653), ((1, 27), 0.011627148900613768), ((1, 28), 0.06187248505169526), ((1, 29), 0.024651428370577242), ((1, 30), 0.05283925375255786), ((1, 31), 0.061639507824727685), ((1, 32), 0.05415720206529097), ((1, 33), 0.01604367381742632), ((1, 34), 0.020360394793670807), ((1, 35), 0.022482619181126696), ((1, 36), 0.004430777708018685), ((1, 37), 0.0033921806789506876), ((1, 38), 0.0493073226291485), ((1, 39), 0.0533492115713015), ((0, 0), 0.07199073081329695), ((0, 1), 0.007789685435515036), ((0, 2), 0.057718831213721324), ((0, 3), 0.068582808008125), ((0, 4), 0.0771895173055905), ((0, 5), 0.03956787377480896), ((0, 6), 0.043148373420230125), ((0, 7), 0.004271121952844005), ((0, 8), 0.030777810938732195), ((0, 9), 0.055198013135685384), ((0, 10), 0.043960331846741654), ((0, 11), 0.011678484576674981), ((0, 12), 0.027798795361076246), ((0, 13), 0.01492371870921565), ((0, 14), 0.04278862389046566), ((0, 15), 0.020832776225945523), ((0, 16), 0.07601997118036198), ((0, 17), 0.07667260449623359), ((0, 18), 0.052778359770251304), ((0, 19), 0.004155369938602126), ((0, 20), 0.02824730298179795), ((0, 21), 0.0681260306711359), ((0, 22), 0.029508673786775397), ((0, 23), 0.023613964646865427), ((0, 24), 0.0005095854273705834), ((0, 25), 0.01844397352216867), ((0, 26), 0.07609455907460234), ((0, 27), 0.02376726470217641), ((0, 28), 0.062319138968919434), ((0, 29), 0.007706614396751589), ((0, 30), 0.05388305209489528), ((0, 31), 0.046342608909424855), ((0, 32), 0.019063145312031012), ((0, 33), 0.021520943609892786), ((0, 34), 0.02363571611557635), ((0, 35), 0.07020091387941264), ((0, 36), 0.058522053354051834), ((0, 37), 0.007460221936653014), ((0, 38), 0.003303912125902481), ((0, 39), 0.08150078696469513), ((1, 0), 0.22297135526508832), ((1, 1), 0.024126393759635233), ((1, 2), 0.1787680979849597), ((1, 3), 0.21241625799182048), ((1, 4), 0.23907315693906747), ((1, 5), 0.12255053311526534), ((1, 6), 0.13364013936660607), ((1, 7), 0.013228617622981517), ((1, 8), 0.09532574735071639), ((1, 9), 0.1709605619746072), ((1, 10), 0.13615495577050823), ((1, 11), 0.03617087233434071), ((1, 12), 0.0860990714550597), ((1, 13), 0.04622208649080911), ((1, 14), 0.1325259148087864), ((1, 15), 0.06452375599686809), ((1, 16), 0.23545081165042833), ((1, 17), 0.23747216263946655), ((1, 18), 0.16346635565016024), ((1, 19), 0.012870107809306884), ((1, 20), 0.0874881996234956), ((1, 21), 0.21100151666703837), ((1, 22), 0.09139494643242908), ((1, 23), 0.07313771705066452), ((1, 24), 0.0015782997627685096), ((1, 25), 0.057125101054700825), ((1, 26), 0.23568182700028326), ((1, 27), 0.0736125215249176), ((1, 28), 0.193016277482862), ((1, 29), 0.02386910421850804), ((1, 30), 0.16688783424878162), ((1, 31), 0.14353339934626502), ((1, 32), 0.05904281423204805), ((1, 33), 0.06665516392278417), ((1, 34), 0.07320508620225792), ((1, 35), 0.21742789289269526), ((1, 36), 0.18125585616139622), ((1, 37), 0.02310597179667227), ((1, 38), 0.01023295299362579), ((1, 39), 0.25242612096573996)])\n",
      "aa (1, [((0, 0), 0.031215018378858636), ((0, 1), 0.09621110062469033), ((0, 2), 0.09371513204211146), ((0, 3), 0.004634613055657032), ((0, 4), 0.031967027646718375), ((0, 5), 0.07871512463834252), ((0, 6), 0.002857888883337859), ((0, 7), 0.018530353315827208), ((0, 8), 0.05729438730271), ((0, 9), 0.05790662556639121), ((0, 10), 0.06838117867781295), ((0, 11), 0.08442804058145167), ((0, 12), 0.06716527408160737), ((0, 13), 0.048774129282060104), ((0, 14), 0.08741194839079057), ((0, 15), 0.011974286017911104), ((0, 16), 0.024391076829399522), ((0, 17), 0.022606008382157948), ((0, 18), 0.05504257454870868), ((0, 19), 0.08201801283869375), ((0, 20), 0.05665226007487851), ((0, 21), 0.049753989900897244), ((0, 22), 0.028673535978372893), ((0, 23), 0.0673351078901344), ((0, 24), 0.012033802435133328), ((0, 25), 0.010652844189073855), ((0, 26), 0.01448530370271841), ((0, 27), 0.04489594560519223), ((0, 28), 0.07881300304952063), ((0, 29), 0.08966716097056164), ((0, 30), 0.005290342296366851), ((0, 31), 0.012731388321045369), ((0, 32), 0.08460454681077328), ((0, 33), 0.07341530071390384), ((0, 34), 0.05747723355918774), ((0, 35), 0.05332090687712212), ((0, 36), 0.030718364237854325), ((0, 37), 0.10181805575791593), ((0, 38), 0.02569871627349645), ((0, 39), 0.06401861911849996), ((1, 0), 0.0702336356377615), ((1, 1), 0.2164744964609431), ((1, 2), 0.21085857960116408), ((1, 3), 0.010427856255676195), ((1, 4), 0.07192565273908257), ((1, 5), 0.1771086377695247), ((1, 6), 0.006430235731064128), ((1, 7), 0.04169320252280373), ((1, 8), 0.12891208562070555), ((1, 9), 0.13028961865986613), ((1, 10), 0.15385731090874297), ((1, 11), 0.18996267014290427), ((1, 12), 0.15112153163276407), ((1, 13), 0.109741547577155), ((1, 14), 0.19667644782883117), ((1, 15), 0.02694208380712993), ((1, 16), 0.0548798011923942), ((1, 17), 0.05086340609083175), ((1, 18), 0.12384551815726601), ((1, 19), 0.1845401197440105), ((1, 20), 0.1274673025613066), ((1, 21), 0.11194622908154934), ((1, 22), 0.06451531291473557), ((1, 23), 0.15150365685474182), ((1, 24), 0.027075995448985053), ((1, 25), 0.023968846284197355), ((1, 26), 0.032591861071851184), ((1, 27), 0.10101565365034156), ((1, 28), 0.17732886370641354), ((1, 29), 0.2017506648832928), ((1, 30), 0.011903243776198403), ((1, 31), 0.028645560212412328), ((1, 32), 0.19035980827838478), ((1, 33), 0.16518406037746336), ((1, 34), 0.1293234887856604), ((1, 35), 0.11997177448465553), ((1, 36), 0.06911616629803792), ((1, 37), 0.22909011754066522), ((1, 38), 0.057821983418513606), ((1, 39), 0.14404157366271464)])\n",
      "240 key-value pairs were sent over a network.\n",
      "[(0, [((0, 1), 0.1109565097466728), ((0, 2), 0.6177067315972627), ((0, 4), 0.6159630495220573), ((0, 5), 0.4206726446423053), ((0, 8), 0.3699845235099053), ((0, 9), 0.3474245146104202), ((0, 11), 0.7438634338279597), ((0, 12), 0.20625523666939644), ((0, 15), 0.3060954675234388), ((0, 16), 0.8091864427257163), ((0, 18), 0.3375998482191405), ((0, 19), 0.3821335394435468), ((0, 22), 0.07113915170563993), ((0, 23), 0.5618303828416156), ((0, 25), 0.22922385514380056), ((0, 26), 0.3493499392535781), ((0, 29), 0.3496005435660054), ((0, 32), 0.6577895809751222), ((0, 33), 0.25909078888695447), ((0, 36), 0.13457494040739656), ((0, 39), 0.6913741540635677), ((1, 0), 0.32820873649044846), ((1, 1), 0.24128070912103464), ((1, 3), 0.228382965831647), ((1, 4), 0.36053163418511114), ((1, 7), 0.07578703669174477), ((1, 10), 0.356511459430393), ((1, 11), 0.28944217997698096), ((1, 14), 0.3832663944996598), ((1, 17), 0.29590428449309053), ((1, 18), 0.30976935711711684), ((1, 21), 0.35079568297161967), ((1, 24), 0.03585958286394687), ((1, 25), 0.10065339919056773), ((1, 27), 0.18625532407587292), ((1, 28), 0.43221762624097076), ((1, 31), 0.23381846738340503), ((1, 32), 0.30355982457572384), ((1, 34), 0.22288896978158915), ((1, 35), 0.3598822865584775), ((1, 38), 0.11736225904128789), ((1, 39), 0.4498169061997561)]), (1, [((0, 0), 0.4613546358078689), ((0, 3), 0.12988945700429932), ((0, 6), 0.2470461484080851), ((0, 7), 0.2362887449732792), ((0, 10), 0.7927433202412562), ((0, 13), 0.3967673802599848), ((0, 14), 0.6833691687358857), ((0, 17), 0.17671967177224907), ((0, 20), 0.4093140810029026), ((0, 21), 0.40281260545822667), ((0, 24), 0.08626594832166912), ((0, 27), 0.18762906277160518), ((0, 28), 0.7741947260769538), ((0, 30), 0.5998103914727505), ((0, 31), 0.6897528211214775), ((0, 34), 0.289435019327591), ((0, 35), 0.3535579181157373), ((0, 37), 0.14398615575079465), ((0, 38), 0.5335018585585781), ((1, 2), 0.435197930122115), ((1, 5), 0.329213277125211), ((1, 6), 0.1597190443778097), ((1, 8), 0.2517905845797044), ((1, 9), 0.3241514756794417), ((1, 12), 0.24809766525200316), ((1, 13), 0.18851624446606347), ((1, 15), 0.1181757310473884), ((1, 16), 0.35960290300634756), ((1, 19), 0.22633594647961147), ((1, 20), 0.24666221320774512), ((1, 22), 0.1571766083886595), ((1, 23), 0.2706630431156848), ((1, 26), 0.2935646278493041), ((1, 29), 0.2502711974723781), ((1, 30), 0.23163033177753786), ((1, 33), 0.24788289811767383), ((1, 36), 0.2548028001674528), ((1, 37), 0.2555882700162882)])]\n",
      "[((0, 1), 0.1109565097466728), ((0, 2), 0.6177067315972627), ((0, 4), 0.6159630495220573), ((0, 5), 0.4206726446423053), ((0, 8), 0.3699845235099053), ((0, 9), 0.3474245146104202), ((0, 11), 0.7438634338279597), ((0, 12), 0.20625523666939644), ((0, 15), 0.3060954675234388), ((0, 16), 0.8091864427257163), ((0, 18), 0.3375998482191405), ((0, 19), 0.3821335394435468), ((0, 22), 0.07113915170563993), ((0, 23), 0.5618303828416156), ((0, 25), 0.22922385514380056), ((0, 26), 0.3493499392535781), ((0, 29), 0.3496005435660054), ((0, 32), 0.6577895809751222), ((0, 33), 0.25909078888695447), ((0, 36), 0.13457494040739656), ((0, 39), 0.6913741540635677), ((1, 0), 0.32820873649044846), ((1, 1), 0.24128070912103464), ((1, 3), 0.228382965831647), ((1, 4), 0.36053163418511114), ((1, 7), 0.07578703669174477), ((1, 10), 0.356511459430393), ((1, 11), 0.28944217997698096), ((1, 14), 0.3832663944996598), ((1, 17), 0.29590428449309053), ((1, 18), 0.30976935711711684), ((1, 21), 0.35079568297161967), ((1, 24), 0.03585958286394687), ((1, 25), 0.10065339919056773), ((1, 27), 0.18625532407587292), ((1, 28), 0.43221762624097076), ((1, 31), 0.23381846738340503), ((1, 32), 0.30355982457572384), ((1, 34), 0.22288896978158915), ((1, 35), 0.3598822865584775), ((1, 38), 0.11736225904128789), ((1, 39), 0.4498169061997561), ((0, 0), 0.4613546358078689), ((0, 3), 0.12988945700429932), ((0, 6), 0.2470461484080851), ((0, 7), 0.2362887449732792), ((0, 10), 0.7927433202412562), ((0, 13), 0.3967673802599848), ((0, 14), 0.6833691687358857), ((0, 17), 0.17671967177224907), ((0, 20), 0.4093140810029026), ((0, 21), 0.40281260545822667), ((0, 24), 0.08626594832166912), ((0, 27), 0.18762906277160518), ((0, 28), 0.7741947260769538), ((0, 30), 0.5998103914727505), ((0, 31), 0.6897528211214775), ((0, 34), 0.289435019327591), ((0, 35), 0.3535579181157373), ((0, 37), 0.14398615575079465), ((0, 38), 0.5335018585585781), ((1, 2), 0.435197930122115), ((1, 5), 0.329213277125211), ((1, 6), 0.1597190443778097), ((1, 8), 0.2517905845797044), ((1, 9), 0.3241514756794417), ((1, 12), 0.24809766525200316), ((1, 13), 0.18851624446606347), ((1, 15), 0.1181757310473884), ((1, 16), 0.35960290300634756), ((1, 19), 0.22633594647961147), ((1, 20), 0.24666221320774512), ((1, 22), 0.1571766083886595), ((1, 23), 0.2706630431156848), ((1, 26), 0.2935646278493041), ((1, 29), 0.2502711974723781), ((1, 30), 0.23163033177753786), ((1, 33), 0.24788289811767383), ((1, 36), 0.2548028001674528), ((1, 37), 0.2555882700162882)]\n"
     ]
    },
    {
     "data": {
      "text/plain": [
       "True"
      ]
     },
     "execution_count": 37,
     "metadata": {},
     "output_type": "execute_result"
    }
   ],
   "source": [
    "def flatten(nested_iterable):\n",
    "  for iterable in nested_iterable:\n",
    "    for element in iterable:\n",
    "      yield element\n",
    "\n",
    "def groupbykey(iterable):\n",
    "  t = {}\n",
    "  for (k2, v2) in iterable:\n",
    "    t[k2] = t.get(k2, []) + [v2]\n",
    "  return t.items()\n",
    "\n",
    "def groupbykey_distributed(map_partitions, PARTITIONER):\n",
    "  global reducers\n",
    "  partitions = [dict() for _ in range(reducers)]\n",
    "  for map_partition in map_partitions:\n",
    "    for (k2, v2) in map_partition:\n",
    "      p = partitions[PARTITIONER(k2)]\n",
    "      p[k2] = p.get(k2, []) + [v2]\n",
    "  return [(partition_id, sorted(partition.items(), key=lambda x: x[0])) for (partition_id, partition) in enumerate(partitions)]\n",
    "\n",
    "def PARTITIONER(obj):\n",
    "  global reducers\n",
    "  return hash(obj) % reducers\n",
    "\n",
    "def MapReduceDistributed(INPUTFORMAT, MAP, REDUCE, PARTITIONER=PARTITIONER, COMBINER=None):\n",
    "  map_partitions = map(lambda record_reader: flatten(map(lambda k1v1: MAP(*k1v1), record_reader)), INPUTFORMAT())\n",
    "  if COMBINER != None:\n",
    "    map_partitions = map(lambda map_partition: flatten(map(lambda k2v2: COMBINER(*k2v2), groupbykey(map_partition))), map_partitions)\n",
    "  reduce_partitions = groupbykey_distributed(map_partitions, PARTITIONER) # shuffle\n",
    "  reduce_outputs = map(lambda reduce_partition: (reduce_partition[0], flatten(map(lambda reduce_input_group: REDUCE(*reduce_input_group), reduce_partition[1]))), reduce_partitions)\n",
    "\n",
    "  print(\"{} key-value pairs were sent over a network.\".format(sum([len(vs) for (k,vs) in flatten([partition for (partition_id, partition) in reduce_partitions])])))\n",
    "  return reduce_outputs\n",
    "\n",
    "def asmatrix(reduce_output):\n",
    "  reduce_output = list(reduce_output)\n",
    "  I = max(i for ((i,k), vw) in reduce_output)+1\n",
    "  K = max(k for ((i,k), vw) in reduce_output)+1\n",
    "  mat = np.empty(shape=(I,K))\n",
    "  for ((i,k), vw) in reduce_output:\n",
    "    mat[i,k] = vw\n",
    "  return mat\n",
    "\n",
    "# ===================================================================================================================================================================================\n",
    "\n",
    "import numpy as np\n",
    "I = 2\n",
    "J = 3\n",
    "K = 4*10\n",
    "small_mat = np.random.rand(I,J)\n",
    "big_mat = np.random.rand(J,K)\n",
    "reference_solution = np.matmul(small_mat, big_mat)\n",
    "\n",
    "def INPUTFORMAT():\n",
    "  first_mat = []\n",
    "  for i in range(small_mat.shape[0]):\n",
    "    for j in range(small_mat.shape[1]):\n",
    "      first_mat.append(((0, i, j), small_mat[i,j])) # первая матрица\n",
    "  yield first_mat\n",
    "\n",
    "  second_mat = []\n",
    "  for j in range(big_mat.shape[0]):\n",
    "    for k in range(big_mat.shape[1]):\n",
    "      second_mat.append(((1, j, k), big_mat[j,k])) # вторая матрица\n",
    "  yield second_mat\n",
    "\n",
    "\n",
    "def MAP_JOIN(k1, v1):\n",
    "  (mat_num, i, j) = k1\n",
    "  w = v1\n",
    "  if mat_num == 0:\n",
    "    yield (j, (mat_num, i, w))\n",
    "  else:\n",
    "    yield (i, (mat_num, j, w))\n",
    "\n",
    "\n",
    "def REDUCE_JOIN(key, values):\n",
    "  from_first_mat = [v for v in values if v[0] == 0]\n",
    "  from_second_mat = [v for v in values if v[0] == 1]\n",
    "  for f in from_first_mat:\n",
    "    for s in from_second_mat:\n",
    "      yield ((f[1], s[1]), f[2] * s[2])\n",
    "\n",
    "\n",
    "def GET_JOINED():\n",
    "  for j in joined:\n",
    "    print(\"aa\", j)\n",
    "    yield j[1]\n",
    "\n",
    "\n",
    "def MAP_MUL(k1, v1):\n",
    "  yield (k1, v1)\n",
    "\n",
    "\n",
    "def REDUCE_MUL(key, values):\n",
    "  res_val = 0\n",
    "  for v in values:\n",
    "    res_val += v\n",
    "  yield (key, res_val)\n",
    "\n",
    "maps = 4\n",
    "reducers = 2\n",
    "partitioned_output = MapReduceDistributed(INPUTFORMAT, MAP_JOIN, REDUCE_JOIN, COMBINER=None)\n",
    "joined = [(partition_id, list(partition)) for (partition_id, partition) in partitioned_output]\n",
    "print(joined)\n",
    "\n",
    "mul_output = MapReduceDistributed(GET_JOINED, MAP_MUL, REDUCE_MUL, COMBINER=None)\n",
    "pre_result = [(partition_id, list(partition)) for (partition_id, partition) in mul_output]\n",
    "print(pre_result)\n",
    "\n",
    "solution = []\n",
    "for p in pre_result:\n",
    "  for v in p[1]:\n",
    "    solution.append(v)\n",
    "\n",
    "print(solution)\n",
    "np.allclose(reference_solution, asmatrix(solution)) # should return true\n"
   ]
  },
  {
   "cell_type": "markdown",
   "metadata": {
    "id": "ZuSA2P9Db6UM"
   },
   "source": [
    "Обобщите предыдущее решение на случай, когда каждая матрица генерируется несколькими RECORDREADER-ами, и проверьте его работоспособность. Будет ли работать решение, если RECORDREADER-ы будут генерировать случайное подмножество элементов матрицы?"
   ]
  },
  {
   "cell_type": "code",
   "execution_count": 38,
   "metadata": {
    "colab": {
     "base_uri": "https://localhost:8080/"
    },
    "id": "ehN0FqRDcwU5",
    "outputId": "d89b0f3a-6ec4-4a32-d28f-693c1b39065d"
   },
   "outputs": [
    {
     "name": "stdout",
     "output_type": "stream",
     "text": [
      "126 key-value pairs were sent over a network.\n",
      "[(0, [((0, 0), 0.17105144766864955), ((0, 1), 0.3116890896489657), ((0, 2), 0.5139501002325411), ((0, 3), 0.013645811346658512), ((0, 4), 0.46285917299169926), ((0, 5), 0.32486827981794875), ((0, 6), 0.43301530832038365), ((0, 7), 0.35938293735251664), ((0, 8), 0.4873530219623644), ((0, 9), 0.3588793849391749), ((0, 10), 0.3096162310733503), ((0, 11), 0.6083782206619256), ((0, 12), 0.10917889842454966), ((0, 13), 0.5873488163985036), ((0, 14), 0.4062378563131502), ((0, 15), 0.1339650355968498), ((0, 16), 0.13510841294525572), ((0, 17), 0.18142870438193692), ((0, 18), 0.6323694670794139), ((0, 19), 0.3729837495467902), ((0, 20), 0.5343545280692334), ((0, 21), 0.41174674834702946), ((0, 22), 0.250523860453854), ((0, 23), 0.1887318239279611), ((0, 24), 0.48000059029661307), ((0, 25), 0.3025803614905155), ((0, 26), 0.4335439940639842), ((0, 27), 0.2636172065553544), ((0, 28), 0.22642417873317633), ((0, 29), 0.19820386619737335), ((0, 30), 0.15677709603157183), ((0, 31), 0.3477669855986598), ((0, 32), 0.010670776319598814), ((0, 33), 0.5371718452297752), ((0, 34), 0.6002179342234557), ((0, 35), 0.11045145260443946), ((0, 36), 0.4418554872425667), ((0, 37), 0.4291327056393647), ((0, 38), 0.36825292546441335), ((0, 39), 0.5889978165918351), ((1, 0), 0.0022073280822292158), ((1, 1), 0.004022182155624742), ((1, 2), 0.006632253071049175), ((1, 3), 0.00017609194777836406), ((1, 4), 0.005972951790744903), ((1, 5), 0.004192252604940017), ((1, 6), 0.0055878325680251235), ((1, 7), 0.004637645928778803), ((1, 8), 0.006289031902382214), ((1, 9), 0.004631147852334593), ((1, 10), 0.003995433016656278), ((1, 11), 0.00785079781192543), ((1, 12), 0.0014088956963766702), ((1, 13), 0.007579424519177146), ((1, 14), 0.005242283772082693), ((1, 15), 0.0017287476320141087), ((1, 16), 0.0017435023094174247), ((1, 17), 0.0023412410684794873), ((1, 18), 0.008160392104559462), ((1, 19), 0.0048131571863958755), ((1, 20), 0.0068955613749519746), ((1, 21), 0.005313373097862069), ((1, 22), 0.0032328773593280585), ((1, 23), 0.0024354839473415455), ((1, 24), 0.006194152676806044), ((1, 25), 0.003904638856625676), ((1, 26), 0.005594654976747348), ((1, 27), 0.0034018400365465177), ((1, 28), 0.0029218837666992147), ((1, 29), 0.0025577156219768714), ((1, 30), 0.002023125155837316), ((1, 31), 0.0044877482409335845), ((1, 32), 0.00013770070087371707), ((1, 33), 0.0069319173565573254), ((1, 34), 0.0077454936495803), ((1, 35), 0.001425317332181064), ((1, 36), 0.005701910381763743), ((1, 37), 0.005537729642579247), ((1, 38), 0.00475210841427823), ((1, 39), 0.0076007039908446), ((0, 0), 0.7680574382028862), ((0, 1), 0.5632740390695987), ((0, 2), 0.6853681278228753), ((0, 3), 0.8646574474637647), ((0, 4), 0.2510611823110424), ((0, 5), 0.6356252200406487), ((0, 6), 0.43706007475283504), ((0, 7), 0.35108491701244077), ((0, 8), 0.5019091717103459), ((0, 9), 0.7081198176539875), ((0, 10), 0.348883992595453), ((0, 11), 0.09084760636173005), ((0, 12), 0.41126986946060257), ((0, 13), 0.1187051872851093), ((0, 14), 0.45188742421871986), ((0, 15), 0.10608065617947639), ((0, 16), 0.8500627247293376), ((0, 17), 0.09777696433329457), ((0, 18), 0.030482124002822585), ((0, 19), 0.5367757244770122), ((0, 20), 0.5979751340852959), ((0, 21), 0.6124759555437462), ((0, 22), 0.7029805867170132), ((0, 23), 0.3553080401373159), ((0, 24), 0.6813781015991296), ((0, 25), 0.1025268317725421), ((0, 26), 0.5238794341624929), ((0, 27), 0.19294881021440205), ((0, 28), 0.1302913116122467), ((0, 29), 0.21417248954101842), ((0, 30), 0.29404206337380456), ((0, 31), 0.5542456290721854), ((0, 32), 0.3653949070769242), ((0, 33), 0.8861774098612452), ((0, 34), 0.43252692116861036), ((0, 35), 0.5177171238892594), ((0, 36), 0.10758569196077132), ((0, 37), 0.33653090401826335), ((0, 38), 0.6254112811502615), ((0, 39), 0.44559800720974235), ((1, 0), 0.5017216712529322), ((1, 1), 0.36795007534415214), ((1, 2), 0.4477061550492436), ((1, 3), 0.5648241368742781), ((1, 4), 0.164001843756065), ((1, 5), 0.4152123680170208), ((1, 6), 0.285502750492209), ((1, 7), 0.2293408051972393), ((1, 8), 0.32786442253186077), ((1, 9), 0.4625683453987089), ((1, 10), 0.22790308527960365), ((1, 11), 0.059344797180514344), ((1, 12), 0.2686556967986061), ((1, 13), 0.07754233210790817), ((1, 14), 0.2951884877616525), ((1, 15), 0.06929555194531618), ((1, 16), 0.5552903594279934), ((1, 17), 0.06387129336332303), ((1, 18), 0.019911977200324178), ((1, 19), 0.35064046017541445), ((1, 20), 0.3906180302647103), ((1, 21), 0.40009046815125315), ((1, 22), 0.4592112220816213), ((1, 23), 0.2320994952205752), ((1, 24), 0.4450997319801503), ((1, 25), 0.06697407098295678), ((1, 26), 0.3422161575025532), ((1, 27), 0.1260408332917709), ((1, 28), 0.08511078906388402), ((1, 29), 0.13990487435463925), ((1, 30), 0.19207844116418252), ((1, 31), 0.3620524058114442), ((1, 32), 0.23868858541998472), ((1, 33), 0.5788817202818775), ((1, 34), 0.2825415378547205), ((1, 35), 0.33819072339400524), ((1, 36), 0.070278693348456), ((1, 37), 0.21983362076066762), ((1, 38), 0.4085402700263407), ((1, 39), 0.29108002313909226)]), (1, [((0, 0), 0.07597927928500234), ((0, 1), 0.03825666086595296), ((0, 2), 0.023048746052603843), ((0, 3), 0.012577884556057668), ((0, 4), 0.07788410917415609), ((0, 5), 0.0009917801086051265), ((0, 6), 0.03551864247611742), ((0, 7), 0.03713573667217459), ((0, 8), 0.08080384328481054), ((0, 9), 0.014254253344866291), ((0, 10), 0.015333499063660836), ((0, 11), 0.03679642330932392), ((0, 12), 0.07487665220843182), ((0, 13), 0.024803894415742177), ((0, 14), 0.09407926083361569), ((0, 15), 0.060354232466934554), ((0, 16), 0.04000109236942481), ((0, 17), 0.03309395709725342), ((0, 18), 0.008242516092540115), ((0, 19), 0.07432141625023331), ((0, 20), 0.07012166357777712), ((0, 21), 0.08505499189749458), ((0, 22), 0.006221388668008426), ((0, 23), 0.0712968555653603), ((0, 24), 0.000847949935011041), ((0, 25), 0.06638752838902214), ((0, 26), 0.0473851889514573), ((0, 27), 0.09353166696759263), ((0, 28), 0.052051262357572424), ((0, 29), 0.03508799544394961), ((0, 30), 0.05615748093944512), ((0, 31), 0.02594561847242951), ((0, 32), 0.03068745893636108), ((0, 33), 0.00233187360195858), ((0, 34), 0.0788245253724655), ((0, 35), 0.026162237639611393), ((0, 36), 0.06124581103657302), ((0, 37), 0.00824282640047457), ((0, 38), 0.058709435900037875), ((0, 39), 0.02256314256633533), ((1, 0), 0.15003452110947785), ((1, 1), 0.07554454117339786), ((1, 2), 0.045513824410005774), ((1, 3), 0.024837256995551817), ((1, 4), 0.153795944525225), ((1, 5), 0.001958445184539256), ((1, 6), 0.0701378397440911), ((1, 7), 0.07333107815826813), ((1, 8), 0.15956147577507876), ((1, 9), 0.028147543573663957), ((1, 10), 0.03027870507062167), ((1, 11), 0.07266104392814093), ((1, 12), 0.1478571889874521), ((1, 13), 0.0489796751869231), ((1, 14), 0.1857761349980506), ((1, 15), 0.11918010344820483), ((1, 16), 0.0789892296160184), ((1, 17), 0.06534986974644964), ((1, 18), 0.0162763054127249), ((1, 19), 0.14676077741478377), ((1, 20), 0.1384676231901083), ((1, 21), 0.16795612037122948), ((1, 22), 0.012285231950401326), ((1, 23), 0.14078824755938346), ((1, 24), 0.0016744270756633367), ((1, 25), 0.13109391301445134), ((1, 26), 0.09357043392509981), ((1, 27), 0.18469481408760768), ((1, 28), 0.1027844208901794), ((1, 29), 0.06928745103487273), ((1, 30), 0.11089287551490913), ((1, 31), 0.051234211209062845), ((1, 32), 0.060597813626438624), ((1, 33), 0.004604696733767892), ((1, 34), 0.15565296258705336), ((1, 35), 0.05166196405585358), ((1, 36), 0.120940682977071), ((1, 37), 0.016276918170608116), ((1, 38), 0.11593216180465245), ((1, 39), 0.04455491446512333)])]\n",
      "aa (0, [((0, 0), 0.17105144766864955), ((0, 1), 0.3116890896489657), ((0, 2), 0.5139501002325411), ((0, 3), 0.013645811346658512), ((0, 4), 0.46285917299169926), ((0, 5), 0.32486827981794875), ((0, 6), 0.43301530832038365), ((0, 7), 0.35938293735251664), ((0, 8), 0.4873530219623644), ((0, 9), 0.3588793849391749), ((0, 10), 0.3096162310733503), ((0, 11), 0.6083782206619256), ((0, 12), 0.10917889842454966), ((0, 13), 0.5873488163985036), ((0, 14), 0.4062378563131502), ((0, 15), 0.1339650355968498), ((0, 16), 0.13510841294525572), ((0, 17), 0.18142870438193692), ((0, 18), 0.6323694670794139), ((0, 19), 0.3729837495467902), ((0, 20), 0.5343545280692334), ((0, 21), 0.41174674834702946), ((0, 22), 0.250523860453854), ((0, 23), 0.1887318239279611), ((0, 24), 0.48000059029661307), ((0, 25), 0.3025803614905155), ((0, 26), 0.4335439940639842), ((0, 27), 0.2636172065553544), ((0, 28), 0.22642417873317633), ((0, 29), 0.19820386619737335), ((0, 30), 0.15677709603157183), ((0, 31), 0.3477669855986598), ((0, 32), 0.010670776319598814), ((0, 33), 0.5371718452297752), ((0, 34), 0.6002179342234557), ((0, 35), 0.11045145260443946), ((0, 36), 0.4418554872425667), ((0, 37), 0.4291327056393647), ((0, 38), 0.36825292546441335), ((0, 39), 0.5889978165918351), ((1, 0), 0.0022073280822292158), ((1, 1), 0.004022182155624742), ((1, 2), 0.006632253071049175), ((1, 3), 0.00017609194777836406), ((1, 4), 0.005972951790744903), ((1, 5), 0.004192252604940017), ((1, 6), 0.0055878325680251235), ((1, 7), 0.004637645928778803), ((1, 8), 0.006289031902382214), ((1, 9), 0.004631147852334593), ((1, 10), 0.003995433016656278), ((1, 11), 0.00785079781192543), ((1, 12), 0.0014088956963766702), ((1, 13), 0.007579424519177146), ((1, 14), 0.005242283772082693), ((1, 15), 0.0017287476320141087), ((1, 16), 0.0017435023094174247), ((1, 17), 0.0023412410684794873), ((1, 18), 0.008160392104559462), ((1, 19), 0.0048131571863958755), ((1, 20), 0.0068955613749519746), ((1, 21), 0.005313373097862069), ((1, 22), 0.0032328773593280585), ((1, 23), 0.0024354839473415455), ((1, 24), 0.006194152676806044), ((1, 25), 0.003904638856625676), ((1, 26), 0.005594654976747348), ((1, 27), 0.0034018400365465177), ((1, 28), 0.0029218837666992147), ((1, 29), 0.0025577156219768714), ((1, 30), 0.002023125155837316), ((1, 31), 0.0044877482409335845), ((1, 32), 0.00013770070087371707), ((1, 33), 0.0069319173565573254), ((1, 34), 0.0077454936495803), ((1, 35), 0.001425317332181064), ((1, 36), 0.005701910381763743), ((1, 37), 0.005537729642579247), ((1, 38), 0.00475210841427823), ((1, 39), 0.0076007039908446), ((0, 0), 0.7680574382028862), ((0, 1), 0.5632740390695987), ((0, 2), 0.6853681278228753), ((0, 3), 0.8646574474637647), ((0, 4), 0.2510611823110424), ((0, 5), 0.6356252200406487), ((0, 6), 0.43706007475283504), ((0, 7), 0.35108491701244077), ((0, 8), 0.5019091717103459), ((0, 9), 0.7081198176539875), ((0, 10), 0.348883992595453), ((0, 11), 0.09084760636173005), ((0, 12), 0.41126986946060257), ((0, 13), 0.1187051872851093), ((0, 14), 0.45188742421871986), ((0, 15), 0.10608065617947639), ((0, 16), 0.8500627247293376), ((0, 17), 0.09777696433329457), ((0, 18), 0.030482124002822585), ((0, 19), 0.5367757244770122), ((0, 20), 0.5979751340852959), ((0, 21), 0.6124759555437462), ((0, 22), 0.7029805867170132), ((0, 23), 0.3553080401373159), ((0, 24), 0.6813781015991296), ((0, 25), 0.1025268317725421), ((0, 26), 0.5238794341624929), ((0, 27), 0.19294881021440205), ((0, 28), 0.1302913116122467), ((0, 29), 0.21417248954101842), ((0, 30), 0.29404206337380456), ((0, 31), 0.5542456290721854), ((0, 32), 0.3653949070769242), ((0, 33), 0.8861774098612452), ((0, 34), 0.43252692116861036), ((0, 35), 0.5177171238892594), ((0, 36), 0.10758569196077132), ((0, 37), 0.33653090401826335), ((0, 38), 0.6254112811502615), ((0, 39), 0.44559800720974235), ((1, 0), 0.5017216712529322), ((1, 1), 0.36795007534415214), ((1, 2), 0.4477061550492436), ((1, 3), 0.5648241368742781), ((1, 4), 0.164001843756065), ((1, 5), 0.4152123680170208), ((1, 6), 0.285502750492209), ((1, 7), 0.2293408051972393), ((1, 8), 0.32786442253186077), ((1, 9), 0.4625683453987089), ((1, 10), 0.22790308527960365), ((1, 11), 0.059344797180514344), ((1, 12), 0.2686556967986061), ((1, 13), 0.07754233210790817), ((1, 14), 0.2951884877616525), ((1, 15), 0.06929555194531618), ((1, 16), 0.5552903594279934), ((1, 17), 0.06387129336332303), ((1, 18), 0.019911977200324178), ((1, 19), 0.35064046017541445), ((1, 20), 0.3906180302647103), ((1, 21), 0.40009046815125315), ((1, 22), 0.4592112220816213), ((1, 23), 0.2320994952205752), ((1, 24), 0.4450997319801503), ((1, 25), 0.06697407098295678), ((1, 26), 0.3422161575025532), ((1, 27), 0.1260408332917709), ((1, 28), 0.08511078906388402), ((1, 29), 0.13990487435463925), ((1, 30), 0.19207844116418252), ((1, 31), 0.3620524058114442), ((1, 32), 0.23868858541998472), ((1, 33), 0.5788817202818775), ((1, 34), 0.2825415378547205), ((1, 35), 0.33819072339400524), ((1, 36), 0.070278693348456), ((1, 37), 0.21983362076066762), ((1, 38), 0.4085402700263407), ((1, 39), 0.29108002313909226)])\n",
      "aa (1, [((0, 0), 0.07597927928500234), ((0, 1), 0.03825666086595296), ((0, 2), 0.023048746052603843), ((0, 3), 0.012577884556057668), ((0, 4), 0.07788410917415609), ((0, 5), 0.0009917801086051265), ((0, 6), 0.03551864247611742), ((0, 7), 0.03713573667217459), ((0, 8), 0.08080384328481054), ((0, 9), 0.014254253344866291), ((0, 10), 0.015333499063660836), ((0, 11), 0.03679642330932392), ((0, 12), 0.07487665220843182), ((0, 13), 0.024803894415742177), ((0, 14), 0.09407926083361569), ((0, 15), 0.060354232466934554), ((0, 16), 0.04000109236942481), ((0, 17), 0.03309395709725342), ((0, 18), 0.008242516092540115), ((0, 19), 0.07432141625023331), ((0, 20), 0.07012166357777712), ((0, 21), 0.08505499189749458), ((0, 22), 0.006221388668008426), ((0, 23), 0.0712968555653603), ((0, 24), 0.000847949935011041), ((0, 25), 0.06638752838902214), ((0, 26), 0.0473851889514573), ((0, 27), 0.09353166696759263), ((0, 28), 0.052051262357572424), ((0, 29), 0.03508799544394961), ((0, 30), 0.05615748093944512), ((0, 31), 0.02594561847242951), ((0, 32), 0.03068745893636108), ((0, 33), 0.00233187360195858), ((0, 34), 0.0788245253724655), ((0, 35), 0.026162237639611393), ((0, 36), 0.06124581103657302), ((0, 37), 0.00824282640047457), ((0, 38), 0.058709435900037875), ((0, 39), 0.02256314256633533), ((1, 0), 0.15003452110947785), ((1, 1), 0.07554454117339786), ((1, 2), 0.045513824410005774), ((1, 3), 0.024837256995551817), ((1, 4), 0.153795944525225), ((1, 5), 0.001958445184539256), ((1, 6), 0.0701378397440911), ((1, 7), 0.07333107815826813), ((1, 8), 0.15956147577507876), ((1, 9), 0.028147543573663957), ((1, 10), 0.03027870507062167), ((1, 11), 0.07266104392814093), ((1, 12), 0.1478571889874521), ((1, 13), 0.0489796751869231), ((1, 14), 0.1857761349980506), ((1, 15), 0.11918010344820483), ((1, 16), 0.0789892296160184), ((1, 17), 0.06534986974644964), ((1, 18), 0.0162763054127249), ((1, 19), 0.14676077741478377), ((1, 20), 0.1384676231901083), ((1, 21), 0.16795612037122948), ((1, 22), 0.012285231950401326), ((1, 23), 0.14078824755938346), ((1, 24), 0.0016744270756633367), ((1, 25), 0.13109391301445134), ((1, 26), 0.09357043392509981), ((1, 27), 0.18469481408760768), ((1, 28), 0.1027844208901794), ((1, 29), 0.06928745103487273), ((1, 30), 0.11089287551490913), ((1, 31), 0.051234211209062845), ((1, 32), 0.060597813626438624), ((1, 33), 0.004604696733767892), ((1, 34), 0.15565296258705336), ((1, 35), 0.05166196405585358), ((1, 36), 0.120940682977071), ((1, 37), 0.016276918170608116), ((1, 38), 0.11593216180465245), ((1, 39), 0.04455491446512333)])\n",
      "240 key-value pairs were sent over a network.\n",
      "[(0, [((0, 1), 0.9132197895845173), ((0, 2), 1.22236697410802), ((0, 4), 0.7918044644768978), ((0, 5), 0.9614852799672026), ((0, 8), 1.0700660369575208), ((0, 9), 1.0812534559380285), ((0, 11), 0.7360222503329796), ((0, 12), 0.595325420093584), ((0, 15), 0.30039992424326073), ((0, 16), 1.025172230044018), ((0, 18), 0.6710941071747766), ((0, 19), 0.9840808902740357), ((0, 22), 0.9597258358388757), ((0, 23), 0.6153367196306372), ((0, 25), 0.4714947216520797), ((0, 26), 1.0048086171779345), ((0, 29), 0.4474643511823414), ((0, 32), 0.4067531423328841), ((0, 33), 1.425681128692979), ((0, 36), 0.610686990239911), ((0, 39), 1.0571589663679128), ((1, 0), 0.6539635204446392), ((1, 1), 0.44751679867317473), ((1, 3), 0.5898374858176083), ((1, 4), 0.3237707400720349), ((1, 7), 0.30730952928428623), ((1, 10), 0.2621772233668816), ((1, 11), 0.1398566389205807), ((1, 14), 0.4862069065317858), ((1, 17), 0.13156240417825216), ((1, 18), 0.04434867471760854), ((1, 21), 0.5733599616203446), ((1, 24), 0.4529683117326197), ((1, 25), 0.20197262285403378), ((1, 27), 0.31413748741592507), ((1, 28), 0.19081709372076264), ((1, 31), 0.41777436526144063), ((1, 32), 0.29942409974729706), ((1, 34), 0.4459399940913542), ((1, 35), 0.3912780047820399), ((1, 38), 0.5292245402452714), ((1, 39), 0.3432356415950602)]), (1, [((0, 0), 1.015088165156538), ((0, 3), 0.8908811433664809), ((0, 6), 0.9055940255493361), ((0, 7), 0.747603591037132), ((0, 10), 0.6738337227324642), ((0, 13), 0.730857898099355), ((0, 14), 0.9522045413654857), ((0, 17), 0.31229962581248494), ((0, 20), 1.2024513257323064), ((0, 21), 1.1092776957882702), ((0, 24), 1.1622266418307539), ((0, 27), 0.5500976837373491), ((0, 28), 0.40876675270299545), ((0, 30), 0.5069766403448216), ((0, 31), 0.9279582331432747), ((0, 34), 1.1115693807645317), ((0, 35), 0.6543308141333102), ((0, 37), 0.7739064360581026), ((0, 38), 1.0523736425147128), ((1, 2), 0.4998522325302986), ((1, 5), 0.42136306580650007), ((1, 6), 0.36122842280432527), ((1, 8), 0.4937149302093218), ((1, 9), 0.49534703682470743), ((1, 12), 0.41792178148243486), ((1, 13), 0.1341014318140084), ((1, 15), 0.19020440302553512), ((1, 16), 0.6360230913534293), ((1, 19), 0.502214394776594), ((1, 20), 0.5359812148297706), ((1, 22), 0.47472933139135065), ((1, 23), 0.37532322672730023), ((1, 26), 0.44138124640440035), ((1, 29), 0.21175004101148887), ((1, 30), 0.30499444183492896), ((1, 33), 0.5904183343722026), ((1, 36), 0.19692128670729075), ((1, 37), 0.241648268573855)])]\n",
      "[((0, 1), 0.9132197895845173), ((0, 2), 1.22236697410802), ((0, 4), 0.7918044644768978), ((0, 5), 0.9614852799672026), ((0, 8), 1.0700660369575208), ((0, 9), 1.0812534559380285), ((0, 11), 0.7360222503329796), ((0, 12), 0.595325420093584), ((0, 15), 0.30039992424326073), ((0, 16), 1.025172230044018), ((0, 18), 0.6710941071747766), ((0, 19), 0.9840808902740357), ((0, 22), 0.9597258358388757), ((0, 23), 0.6153367196306372), ((0, 25), 0.4714947216520797), ((0, 26), 1.0048086171779345), ((0, 29), 0.4474643511823414), ((0, 32), 0.4067531423328841), ((0, 33), 1.425681128692979), ((0, 36), 0.610686990239911), ((0, 39), 1.0571589663679128), ((1, 0), 0.6539635204446392), ((1, 1), 0.44751679867317473), ((1, 3), 0.5898374858176083), ((1, 4), 0.3237707400720349), ((1, 7), 0.30730952928428623), ((1, 10), 0.2621772233668816), ((1, 11), 0.1398566389205807), ((1, 14), 0.4862069065317858), ((1, 17), 0.13156240417825216), ((1, 18), 0.04434867471760854), ((1, 21), 0.5733599616203446), ((1, 24), 0.4529683117326197), ((1, 25), 0.20197262285403378), ((1, 27), 0.31413748741592507), ((1, 28), 0.19081709372076264), ((1, 31), 0.41777436526144063), ((1, 32), 0.29942409974729706), ((1, 34), 0.4459399940913542), ((1, 35), 0.3912780047820399), ((1, 38), 0.5292245402452714), ((1, 39), 0.3432356415950602), ((0, 0), 1.015088165156538), ((0, 3), 0.8908811433664809), ((0, 6), 0.9055940255493361), ((0, 7), 0.747603591037132), ((0, 10), 0.6738337227324642), ((0, 13), 0.730857898099355), ((0, 14), 0.9522045413654857), ((0, 17), 0.31229962581248494), ((0, 20), 1.2024513257323064), ((0, 21), 1.1092776957882702), ((0, 24), 1.1622266418307539), ((0, 27), 0.5500976837373491), ((0, 28), 0.40876675270299545), ((0, 30), 0.5069766403448216), ((0, 31), 0.9279582331432747), ((0, 34), 1.1115693807645317), ((0, 35), 0.6543308141333102), ((0, 37), 0.7739064360581026), ((0, 38), 1.0523736425147128), ((1, 2), 0.4998522325302986), ((1, 5), 0.42136306580650007), ((1, 6), 0.36122842280432527), ((1, 8), 0.4937149302093218), ((1, 9), 0.49534703682470743), ((1, 12), 0.41792178148243486), ((1, 13), 0.1341014318140084), ((1, 15), 0.19020440302553512), ((1, 16), 0.6360230913534293), ((1, 19), 0.502214394776594), ((1, 20), 0.5359812148297706), ((1, 22), 0.47472933139135065), ((1, 23), 0.37532322672730023), ((1, 26), 0.44138124640440035), ((1, 29), 0.21175004101148887), ((1, 30), 0.30499444183492896), ((1, 33), 0.5904183343722026), ((1, 36), 0.19692128670729075), ((1, 37), 0.241648268573855)]\n"
     ]
    },
    {
     "data": {
      "text/plain": [
       "True"
      ]
     },
     "execution_count": 38,
     "metadata": {},
     "output_type": "execute_result"
    }
   ],
   "source": [
    "def flatten(nested_iterable):\n",
    "  for iterable in nested_iterable:\n",
    "    for element in iterable:\n",
    "      yield element\n",
    "\n",
    "def groupbykey(iterable):\n",
    "  t = {}\n",
    "  for (k2, v2) in iterable:\n",
    "    t[k2] = t.get(k2, []) + [v2]\n",
    "  return t.items()\n",
    "\n",
    "def groupbykey_distributed(map_partitions, PARTITIONER):\n",
    "  global reducers\n",
    "  partitions = [dict() for _ in range(reducers)]\n",
    "  for map_partition in map_partitions:\n",
    "    for (k2, v2) in map_partition:\n",
    "      p = partitions[PARTITIONER(k2)]\n",
    "      p[k2] = p.get(k2, []) + [v2]\n",
    "  return [(partition_id, sorted(partition.items(), key=lambda x: x[0])) for (partition_id, partition) in enumerate(partitions)]\n",
    "\n",
    "def PARTITIONER(obj):\n",
    "  global reducers\n",
    "  return hash(obj) % reducers\n",
    "\n",
    "def MapReduceDistributed(INPUTFORMAT, MAP, REDUCE, PARTITIONER=PARTITIONER, COMBINER=None):\n",
    "  map_partitions = map(lambda record_reader: flatten(map(lambda k1v1: MAP(*k1v1), record_reader)), INPUTFORMAT())\n",
    "  if COMBINER != None:\n",
    "    map_partitions = map(lambda map_partition: flatten(map(lambda k2v2: COMBINER(*k2v2), groupbykey(map_partition))), map_partitions)\n",
    "  reduce_partitions = groupbykey_distributed(map_partitions, PARTITIONER) \n",
    "  reduce_outputs = map(lambda reduce_partition: (reduce_partition[0], flatten(map(lambda reduce_input_group: REDUCE(*reduce_input_group), reduce_partition[1]))), reduce_partitions)\n",
    "\n",
    "  print(\"{} key-value pairs were sent over a network.\".format(sum([len(vs) for (k,vs) in flatten([partition for (partition_id, partition) in reduce_partitions])])))\n",
    "  return reduce_outputs\n",
    "\n",
    "def asmatrix(reduce_output):\n",
    "  reduce_output = list(reduce_output)\n",
    "  I = max(i for ((i,k), vw) in reduce_output)+1\n",
    "  K = max(k for ((i,k), vw) in reduce_output)+1\n",
    "  mat = np.empty(shape=(I,K))\n",
    "  for ((i,k), vw) in reduce_output:\n",
    "    mat[i,k] = vw\n",
    "  return mat\n",
    "\n",
    "# ===================================================================================================================================================================================\n",
    "\n",
    "import numpy as np\n",
    "I = 2\n",
    "J = 3\n",
    "K = 4*10\n",
    "small_mat = np.random.rand(I,J)\n",
    "big_mat = np.random.rand(J,K)\n",
    "reference_solution = np.matmul(small_mat, big_mat)\n",
    "\n",
    "def INPUTFORMAT():\n",
    "  first_mat = []\n",
    "  for i in range(small_mat.shape[0]):\n",
    "    for j in range(small_mat.shape[1]):\n",
    "      first_mat.append(((0, i, j), small_mat[i,j])) \n",
    "\n",
    "  global maps\n",
    "  split_size =  int(np.ceil(len(first_mat)/maps))\n",
    "  for i in range(0, len(first_mat), split_size):\n",
    "    yield first_mat[i:i+split_size]\n",
    "\n",
    "  second_mat = []\n",
    "  for j in range(big_mat.shape[0]):\n",
    "    for k in range(big_mat.shape[1]):\n",
    "      second_mat.append(((1, j, k), big_mat[j,k])) \n",
    "\n",
    "  split_size =  int(np.ceil(len(second_mat)/maps))\n",
    "  for i in range(0, len(second_mat), split_size):\n",
    "    yield second_mat[i:i+split_size]\n",
    "\n",
    "\n",
    "def MAP_JOIN(k1, v1):\n",
    "  (mat_num, i, j) = k1\n",
    "  w = v1\n",
    "  if mat_num == 0:\n",
    "    yield (j, (mat_num, i, w))\n",
    "  else:\n",
    "    yield (i, (mat_num, j, w))\n",
    "\n",
    "\n",
    "def REDUCE_JOIN(key, values):\n",
    "  from_first_mat = [v for v in values if v[0] == 0]\n",
    "  from_second_mat = [v for v in values if v[0] == 1]\n",
    "  for f in from_first_mat:\n",
    "    for s in from_second_mat:\n",
    "      yield ((f[1], s[1]), f[2] * s[2])\n",
    "\n",
    "\n",
    "def GET_JOINED():\n",
    "  for j in joined:\n",
    "    print(\"aa\", j)\n",
    "    yield j[1]\n",
    "\n",
    "\n",
    "def MAP_MUL(k1, v1):\n",
    "  yield (k1, v1)\n",
    "\n",
    "\n",
    "def REDUCE_MUL(key, values):\n",
    "  res_val = 0\n",
    "  for v in values:\n",
    "    res_val += v\n",
    "  yield (key, res_val)\n",
    "\n",
    "maps = 3\n",
    "reducers = 2\n",
    "partitioned_output = MapReduceDistributed(INPUTFORMAT, MAP_JOIN, REDUCE_JOIN, COMBINER=None)\n",
    "joined = [(partition_id, list(partition)) for (partition_id, partition) in partitioned_output]\n",
    "print(joined)\n",
    "\n",
    "mul_output = MapReduceDistributed(GET_JOINED, MAP_MUL, REDUCE_MUL, COMBINER=None)\n",
    "pre_result = [(partition_id, list(partition)) for (partition_id, partition) in mul_output]\n",
    "print(pre_result)\n",
    "\n",
    "solution = []\n",
    "for p in pre_result:\n",
    "  for v in p[1]:\n",
    "    solution.append(v)\n",
    "\n",
    "print(solution)\n",
    "np.allclose(reference_solution, asmatrix(solution))\n"
   ]
  },
  {
   "cell_type": "code",
   "execution_count": null,
   "metadata": {
    "id": "FIpqZIDrAw8V"
   },
   "outputs": [],
   "source": []
  }
 ],
 "metadata": {
  "colab": {
   "provenance": []
  },
  "kernelspec": {
   "display_name": "Python 3 (ipykernel)",
   "language": "python",
   "name": "python3"
  },
  "language_info": {
   "codemirror_mode": {
    "name": "ipython",
    "version": 3
   },
   "file_extension": ".py",
   "mimetype": "text/x-python",
   "name": "python",
   "nbconvert_exporter": "python",
   "pygments_lexer": "ipython3",
   "version": "3.9.18"
  }
 },
 "nbformat": 4,
 "nbformat_minor": 1
}
